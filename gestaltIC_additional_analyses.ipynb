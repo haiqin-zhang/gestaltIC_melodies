{
  "nbformat": 4,
  "nbformat_minor": 0,
  "metadata": {
    "colab": {
      "provenance": []
    },
    "kernelspec": {
      "name": "ir",
      "display_name": "R"
    },
    "language_info": {
      "name": "R"
    }
  },
  "cells": [
    {
      "cell_type": "code",
      "source": [
        "install.packages(\"lme4\")  # Install the lme4 package"
      ],
      "metadata": {
        "id": "ZDiq3_TDo6Lb",
        "colab": {
          "base_uri": "https://localhost:8080/"
        },
        "outputId": "edfb940a-b1f0-4e8b-faed-510afe6dd36f"
      },
      "execution_count": null,
      "outputs": [
        {
          "output_type": "stream",
          "name": "stderr",
          "text": [
            "Installing package into ‘/usr/local/lib/R/site-library’\n",
            "(as ‘lib’ is unspecified)\n",
            "\n",
            "also installing the dependencies ‘minqa’, ‘nloptr’, ‘Rcpp’, ‘RcppEigen’\n",
            "\n",
            "\n"
          ]
        }
      ]
    },
    {
      "cell_type": "code",
      "execution_count": null,
      "metadata": {
        "id": "i2hvOJPhgYK7",
        "colab": {
          "base_uri": "https://localhost:8080/"
        },
        "outputId": "786d0f9e-8e15-4d81-e1df-2e99d8f790e3"
      },
      "outputs": [
        {
          "output_type": "stream",
          "name": "stderr",
          "text": [
            "\n",
            "Attaching package: ‘dplyr’\n",
            "\n",
            "\n",
            "The following objects are masked from ‘package:stats’:\n",
            "\n",
            "    filter, lag\n",
            "\n",
            "\n",
            "The following objects are masked from ‘package:base’:\n",
            "\n",
            "    intersect, setdiff, setequal, union\n",
            "\n",
            "\n",
            "Loading required package: Matrix\n",
            "\n"
          ]
        }
      ],
      "source": [
        "library(dplyr)\n",
        "library(ggplot2)\n",
        "library (lme4)\n",
        "library (readr)"
      ]
    },
    {
      "cell_type": "code",
      "source": [
        "urlfile=\"https://raw.githubusercontent.com/haiqin-zhang/gestaltIC_melodies/main/data_analysis/fc_accent_regression.csv\"\n",
        "\n",
        "df <- read_csv(url(urlfile))\n",
        "head(df)"
      ],
      "metadata": {
        "colab": {
          "base_uri": "https://localhost:8080/",
          "height": 533
        },
        "id": "08oKX00olDV3",
        "outputId": "17ee1ce5-0248-4721-dfda-80b0b2625270"
      },
      "execution_count": null,
      "outputs": [
        {
          "output_type": "stream",
          "name": "stderr",
          "text": [
            "\u001b[1mRows: \u001b[22m\u001b[34m1248\u001b[39m \u001b[1mColumns: \u001b[22m\u001b[34m15\u001b[39m\n",
            "\u001b[36m──\u001b[39m \u001b[1mColumn specification\u001b[22m \u001b[36m────────────────────────────────────────────────────────\u001b[39m\n",
            "\u001b[1mDelimiter:\u001b[22m \",\"\n",
            "\u001b[31mchr\u001b[39m  (5): subject, condition, filename, sequence, contour\n",
            "\u001b[32mdbl\u001b[39m (10): accent_chosen, IC, target_pos, invU, U, asc, des, target_metric_2,...\n",
            "\n",
            "\u001b[36mℹ\u001b[39m Use `spec()` to retrieve the full column specification for this data.\n",
            "\u001b[36mℹ\u001b[39m Specify the column types or set `show_col_types = FALSE` to quiet this message.\n"
          ]
        },
        {
          "output_type": "display_data",
          "data": {
            "text/html": [
              "<table class=\"dataframe\">\n",
              "<caption>A tibble: 6 × 15</caption>\n",
              "<thead>\n",
              "\t<tr><th scope=col>subject</th><th scope=col>condition</th><th scope=col>filename</th><th scope=col>sequence</th><th scope=col>accent_chosen</th><th scope=col>IC</th><th scope=col>target_pos</th><th scope=col>invU</th><th scope=col>U</th><th scope=col>asc</th><th scope=col>des</th><th scope=col>target_metric_2</th><th scope=col>target_metric_4</th><th scope=col>contour</th><th scope=col>musician</th></tr>\n",
              "\t<tr><th scope=col>&lt;chr&gt;</th><th scope=col>&lt;chr&gt;</th><th scope=col>&lt;chr&gt;</th><th scope=col>&lt;chr&gt;</th><th scope=col>&lt;dbl&gt;</th><th scope=col>&lt;dbl&gt;</th><th scope=col>&lt;dbl&gt;</th><th scope=col>&lt;dbl&gt;</th><th scope=col>&lt;dbl&gt;</th><th scope=col>&lt;dbl&gt;</th><th scope=col>&lt;dbl&gt;</th><th scope=col>&lt;dbl&gt;</th><th scope=col>&lt;dbl&gt;</th><th scope=col>&lt;chr&gt;</th><th scope=col>&lt;dbl&gt;</th></tr>\n",
              "</thead>\n",
              "<tbody>\n",
              "\t<tr><td>dykydm</td><td>tonic Cs5</td><td>fc_accents_32_4.mp3</td><td>[1, 2, 6, 3, 2, 3, 1]   </td><td>1</td><td>1</td><td>4</td><td>0</td><td>1</td><td>0</td><td>0</td><td>1</td><td>1</td><td>U    </td><td>0</td></tr>\n",
              "\t<tr><td>dykydm</td><td>tonic Cs5</td><td>fc_accents_34_1.mp3</td><td>[1, 2, 6, 3, 4, 5, 3, 1]</td><td>1</td><td>0</td><td>4</td><td>0</td><td>0</td><td>1</td><td>0</td><td>1</td><td>1</td><td>asc  </td><td>0</td></tr>\n",
              "\t<tr><td>dykydm</td><td>tonic Cs5</td><td>fc_accents_54_2.mp3</td><td>[1, 2, 6, 5, 4, 5, 3, 1]</td><td>0</td><td>0</td><td>4</td><td>0</td><td>1</td><td>0</td><td>0</td><td>1</td><td>1</td><td>U    </td><td>0</td></tr>\n",
              "\t<tr><td>dykydm</td><td>tonic Cs5</td><td>fc_accents_56_2.mp3</td><td>[1, 2, 6, 5, 6, 5, 3, 1]</td><td>0</td><td>1</td><td>4</td><td>1</td><td>0</td><td>0</td><td>0</td><td>1</td><td>1</td><td>inv-U</td><td>0</td></tr>\n",
              "\t<tr><td>dykydm</td><td>tonic Cs5</td><td>fc_accents_56_4.mp3</td><td>[1, 2, 6, 5, 6, 5, 3, 1]</td><td>0</td><td>1</td><td>4</td><td>1</td><td>0</td><td>0</td><td>0</td><td>1</td><td>1</td><td>inv-U</td><td>0</td></tr>\n",
              "\t<tr><td>dykydm</td><td>tonic Cs5</td><td>fc_accents_32_3.mp3</td><td>[1, 2, 6, 3, 2, 3, 1]   </td><td>0</td><td>1</td><td>4</td><td>0</td><td>1</td><td>0</td><td>0</td><td>1</td><td>1</td><td>U    </td><td>0</td></tr>\n",
              "</tbody>\n",
              "</table>\n"
            ],
            "text/markdown": "\nA tibble: 6 × 15\n\n| subject &lt;chr&gt; | condition &lt;chr&gt; | filename &lt;chr&gt; | sequence &lt;chr&gt; | accent_chosen &lt;dbl&gt; | IC &lt;dbl&gt; | target_pos &lt;dbl&gt; | invU &lt;dbl&gt; | U &lt;dbl&gt; | asc &lt;dbl&gt; | des &lt;dbl&gt; | target_metric_2 &lt;dbl&gt; | target_metric_4 &lt;dbl&gt; | contour &lt;chr&gt; | musician &lt;dbl&gt; |\n|---|---|---|---|---|---|---|---|---|---|---|---|---|---|---|\n| dykydm | tonic Cs5 | fc_accents_32_4.mp3 | [1, 2, 6, 3, 2, 3, 1]    | 1 | 1 | 4 | 0 | 1 | 0 | 0 | 1 | 1 | U     | 0 |\n| dykydm | tonic Cs5 | fc_accents_34_1.mp3 | [1, 2, 6, 3, 4, 5, 3, 1] | 1 | 0 | 4 | 0 | 0 | 1 | 0 | 1 | 1 | asc   | 0 |\n| dykydm | tonic Cs5 | fc_accents_54_2.mp3 | [1, 2, 6, 5, 4, 5, 3, 1] | 0 | 0 | 4 | 0 | 1 | 0 | 0 | 1 | 1 | U     | 0 |\n| dykydm | tonic Cs5 | fc_accents_56_2.mp3 | [1, 2, 6, 5, 6, 5, 3, 1] | 0 | 1 | 4 | 1 | 0 | 0 | 0 | 1 | 1 | inv-U | 0 |\n| dykydm | tonic Cs5 | fc_accents_56_4.mp3 | [1, 2, 6, 5, 6, 5, 3, 1] | 0 | 1 | 4 | 1 | 0 | 0 | 0 | 1 | 1 | inv-U | 0 |\n| dykydm | tonic Cs5 | fc_accents_32_3.mp3 | [1, 2, 6, 3, 2, 3, 1]    | 0 | 1 | 4 | 0 | 1 | 0 | 0 | 1 | 1 | U     | 0 |\n\n",
            "text/latex": "A tibble: 6 × 15\n\\begin{tabular}{lllllllllllllll}\n subject & condition & filename & sequence & accent\\_chosen & IC & target\\_pos & invU & U & asc & des & target\\_metric\\_2 & target\\_metric\\_4 & contour & musician\\\\\n <chr> & <chr> & <chr> & <chr> & <dbl> & <dbl> & <dbl> & <dbl> & <dbl> & <dbl> & <dbl> & <dbl> & <dbl> & <chr> & <dbl>\\\\\n\\hline\n\t dykydm & tonic Cs5 & fc\\_accents\\_32\\_4.mp3 & {[}1, 2, 6, 3, 2, 3, 1{]}    & 1 & 1 & 4 & 0 & 1 & 0 & 0 & 1 & 1 & U     & 0\\\\\n\t dykydm & tonic Cs5 & fc\\_accents\\_34\\_1.mp3 & {[}1, 2, 6, 3, 4, 5, 3, 1{]} & 1 & 0 & 4 & 0 & 0 & 1 & 0 & 1 & 1 & asc   & 0\\\\\n\t dykydm & tonic Cs5 & fc\\_accents\\_54\\_2.mp3 & {[}1, 2, 6, 5, 4, 5, 3, 1{]} & 0 & 0 & 4 & 0 & 1 & 0 & 0 & 1 & 1 & U     & 0\\\\\n\t dykydm & tonic Cs5 & fc\\_accents\\_56\\_2.mp3 & {[}1, 2, 6, 5, 6, 5, 3, 1{]} & 0 & 1 & 4 & 1 & 0 & 0 & 0 & 1 & 1 & inv-U & 0\\\\\n\t dykydm & tonic Cs5 & fc\\_accents\\_56\\_4.mp3 & {[}1, 2, 6, 5, 6, 5, 3, 1{]} & 0 & 1 & 4 & 1 & 0 & 0 & 0 & 1 & 1 & inv-U & 0\\\\\n\t dykydm & tonic Cs5 & fc\\_accents\\_32\\_3.mp3 & {[}1, 2, 6, 3, 2, 3, 1{]}    & 0 & 1 & 4 & 0 & 1 & 0 & 0 & 1 & 1 & U     & 0\\\\\n\\end{tabular}\n",
            "text/plain": [
              "  subject condition filename            sequence                 accent_chosen\n",
              "1 dykydm  tonic Cs5 fc_accents_32_4.mp3 [1, 2, 6, 3, 2, 3, 1]    1            \n",
              "2 dykydm  tonic Cs5 fc_accents_34_1.mp3 [1, 2, 6, 3, 4, 5, 3, 1] 1            \n",
              "3 dykydm  tonic Cs5 fc_accents_54_2.mp3 [1, 2, 6, 5, 4, 5, 3, 1] 0            \n",
              "4 dykydm  tonic Cs5 fc_accents_56_2.mp3 [1, 2, 6, 5, 6, 5, 3, 1] 0            \n",
              "5 dykydm  tonic Cs5 fc_accents_56_4.mp3 [1, 2, 6, 5, 6, 5, 3, 1] 0            \n",
              "6 dykydm  tonic Cs5 fc_accents_32_3.mp3 [1, 2, 6, 3, 2, 3, 1]    0            \n",
              "  IC target_pos invU U asc des target_metric_2 target_metric_4 contour musician\n",
              "1 1  4          0    1 0   0   1               1               U       0       \n",
              "2 0  4          0    0 1   0   1               1               asc     0       \n",
              "3 0  4          0    1 0   0   1               1               U       0       \n",
              "4 1  4          1    0 0   0   1               1               inv-U   0       \n",
              "5 1  4          1    0 0   0   1               1               inv-U   0       \n",
              "6 1  4          0    1 0   0   1               1               U       0       "
            ]
          },
          "metadata": {}
        }
      ]
    },
    {
      "cell_type": "code",
      "source": [
        "df$IC <- factor(df$IC)\n",
        "\n",
        "df$musician <- factor(df$musician)\n",
        "\n",
        "df$IC <- relevel(df$IC, ref = \"0\")\n",
        "\n",
        "df$musician <- relevel(df$musician, ref = \"1\")\n",
        "\n",
        "df$contour <-factor(df$contour)\n",
        "\n",
        "df$contour <-relevel(df$contour, ref = 'U')\n",
        "\n",
        "df$interaction<-contrasts(df$IC)[df$IC]*contrasts(df$musician)[df$musician]\n",
        "\n"
      ],
      "metadata": {
        "id": "DNeqrQNkj9fx"
      },
      "execution_count": null,
      "outputs": []
    },
    {
      "cell_type": "code",
      "source": [
        "head(df)"
      ],
      "metadata": {
        "colab": {
          "base_uri": "https://localhost:8080/",
          "height": 410
        },
        "id": "zpr7E_9pms-y",
        "outputId": "0b3ad9c1-c1b2-48da-99dc-7334a19aa1b7"
      },
      "execution_count": null,
      "outputs": [
        {
          "output_type": "display_data",
          "data": {
            "text/html": [
              "<table class=\"dataframe\">\n",
              "<caption>A tibble: 6 × 16</caption>\n",
              "<thead>\n",
              "\t<tr><th scope=col>subject</th><th scope=col>condition</th><th scope=col>filename</th><th scope=col>sequence</th><th scope=col>accent_chosen</th><th scope=col>IC</th><th scope=col>target_pos</th><th scope=col>invU</th><th scope=col>U</th><th scope=col>asc</th><th scope=col>des</th><th scope=col>target_metric_2</th><th scope=col>target_metric_4</th><th scope=col>contour</th><th scope=col>musician</th><th scope=col>interaction</th></tr>\n",
              "\t<tr><th scope=col>&lt;chr&gt;</th><th scope=col>&lt;chr&gt;</th><th scope=col>&lt;chr&gt;</th><th scope=col>&lt;chr&gt;</th><th scope=col>&lt;dbl&gt;</th><th scope=col>&lt;fct&gt;</th><th scope=col>&lt;dbl&gt;</th><th scope=col>&lt;dbl&gt;</th><th scope=col>&lt;dbl&gt;</th><th scope=col>&lt;dbl&gt;</th><th scope=col>&lt;dbl&gt;</th><th scope=col>&lt;dbl&gt;</th><th scope=col>&lt;dbl&gt;</th><th scope=col>&lt;fct&gt;</th><th scope=col>&lt;fct&gt;</th><th scope=col>&lt;dbl&gt;</th></tr>\n",
              "</thead>\n",
              "<tbody>\n",
              "\t<tr><td>dykydm</td><td>tonic Cs5</td><td>fc_accents_32_4.mp3</td><td>[1, 2, 6, 3, 2, 3, 1]   </td><td>1</td><td>1</td><td>4</td><td>0</td><td>1</td><td>0</td><td>0</td><td>1</td><td>1</td><td>U    </td><td>0</td><td>1</td></tr>\n",
              "\t<tr><td>dykydm</td><td>tonic Cs5</td><td>fc_accents_34_1.mp3</td><td>[1, 2, 6, 3, 4, 5, 3, 1]</td><td>1</td><td>0</td><td>4</td><td>0</td><td>0</td><td>1</td><td>0</td><td>1</td><td>1</td><td>asc  </td><td>0</td><td>0</td></tr>\n",
              "\t<tr><td>dykydm</td><td>tonic Cs5</td><td>fc_accents_54_2.mp3</td><td>[1, 2, 6, 5, 4, 5, 3, 1]</td><td>0</td><td>0</td><td>4</td><td>0</td><td>1</td><td>0</td><td>0</td><td>1</td><td>1</td><td>U    </td><td>0</td><td>0</td></tr>\n",
              "\t<tr><td>dykydm</td><td>tonic Cs5</td><td>fc_accents_56_2.mp3</td><td>[1, 2, 6, 5, 6, 5, 3, 1]</td><td>0</td><td>1</td><td>4</td><td>1</td><td>0</td><td>0</td><td>0</td><td>1</td><td>1</td><td>inv-U</td><td>0</td><td>1</td></tr>\n",
              "\t<tr><td>dykydm</td><td>tonic Cs5</td><td>fc_accents_56_4.mp3</td><td>[1, 2, 6, 5, 6, 5, 3, 1]</td><td>0</td><td>1</td><td>4</td><td>1</td><td>0</td><td>0</td><td>0</td><td>1</td><td>1</td><td>inv-U</td><td>0</td><td>1</td></tr>\n",
              "\t<tr><td>dykydm</td><td>tonic Cs5</td><td>fc_accents_32_3.mp3</td><td>[1, 2, 6, 3, 2, 3, 1]   </td><td>0</td><td>1</td><td>4</td><td>0</td><td>1</td><td>0</td><td>0</td><td>1</td><td>1</td><td>U    </td><td>0</td><td>1</td></tr>\n",
              "</tbody>\n",
              "</table>\n"
            ],
            "text/markdown": "\nA tibble: 6 × 16\n\n| subject &lt;chr&gt; | condition &lt;chr&gt; | filename &lt;chr&gt; | sequence &lt;chr&gt; | accent_chosen &lt;dbl&gt; | IC &lt;fct&gt; | target_pos &lt;dbl&gt; | invU &lt;dbl&gt; | U &lt;dbl&gt; | asc &lt;dbl&gt; | des &lt;dbl&gt; | target_metric_2 &lt;dbl&gt; | target_metric_4 &lt;dbl&gt; | contour &lt;fct&gt; | musician &lt;fct&gt; | interaction &lt;dbl&gt; |\n|---|---|---|---|---|---|---|---|---|---|---|---|---|---|---|---|\n| dykydm | tonic Cs5 | fc_accents_32_4.mp3 | [1, 2, 6, 3, 2, 3, 1]    | 1 | 1 | 4 | 0 | 1 | 0 | 0 | 1 | 1 | U     | 0 | 1 |\n| dykydm | tonic Cs5 | fc_accents_34_1.mp3 | [1, 2, 6, 3, 4, 5, 3, 1] | 1 | 0 | 4 | 0 | 0 | 1 | 0 | 1 | 1 | asc   | 0 | 0 |\n| dykydm | tonic Cs5 | fc_accents_54_2.mp3 | [1, 2, 6, 5, 4, 5, 3, 1] | 0 | 0 | 4 | 0 | 1 | 0 | 0 | 1 | 1 | U     | 0 | 0 |\n| dykydm | tonic Cs5 | fc_accents_56_2.mp3 | [1, 2, 6, 5, 6, 5, 3, 1] | 0 | 1 | 4 | 1 | 0 | 0 | 0 | 1 | 1 | inv-U | 0 | 1 |\n| dykydm | tonic Cs5 | fc_accents_56_4.mp3 | [1, 2, 6, 5, 6, 5, 3, 1] | 0 | 1 | 4 | 1 | 0 | 0 | 0 | 1 | 1 | inv-U | 0 | 1 |\n| dykydm | tonic Cs5 | fc_accents_32_3.mp3 | [1, 2, 6, 3, 2, 3, 1]    | 0 | 1 | 4 | 0 | 1 | 0 | 0 | 1 | 1 | U     | 0 | 1 |\n\n",
            "text/latex": "A tibble: 6 × 16\n\\begin{tabular}{llllllllllllllll}\n subject & condition & filename & sequence & accent\\_chosen & IC & target\\_pos & invU & U & asc & des & target\\_metric\\_2 & target\\_metric\\_4 & contour & musician & interaction\\\\\n <chr> & <chr> & <chr> & <chr> & <dbl> & <fct> & <dbl> & <dbl> & <dbl> & <dbl> & <dbl> & <dbl> & <dbl> & <fct> & <fct> & <dbl>\\\\\n\\hline\n\t dykydm & tonic Cs5 & fc\\_accents\\_32\\_4.mp3 & {[}1, 2, 6, 3, 2, 3, 1{]}    & 1 & 1 & 4 & 0 & 1 & 0 & 0 & 1 & 1 & U     & 0 & 1\\\\\n\t dykydm & tonic Cs5 & fc\\_accents\\_34\\_1.mp3 & {[}1, 2, 6, 3, 4, 5, 3, 1{]} & 1 & 0 & 4 & 0 & 0 & 1 & 0 & 1 & 1 & asc   & 0 & 0\\\\\n\t dykydm & tonic Cs5 & fc\\_accents\\_54\\_2.mp3 & {[}1, 2, 6, 5, 4, 5, 3, 1{]} & 0 & 0 & 4 & 0 & 1 & 0 & 0 & 1 & 1 & U     & 0 & 0\\\\\n\t dykydm & tonic Cs5 & fc\\_accents\\_56\\_2.mp3 & {[}1, 2, 6, 5, 6, 5, 3, 1{]} & 0 & 1 & 4 & 1 & 0 & 0 & 0 & 1 & 1 & inv-U & 0 & 1\\\\\n\t dykydm & tonic Cs5 & fc\\_accents\\_56\\_4.mp3 & {[}1, 2, 6, 5, 6, 5, 3, 1{]} & 0 & 1 & 4 & 1 & 0 & 0 & 0 & 1 & 1 & inv-U & 0 & 1\\\\\n\t dykydm & tonic Cs5 & fc\\_accents\\_32\\_3.mp3 & {[}1, 2, 6, 3, 2, 3, 1{]}    & 0 & 1 & 4 & 0 & 1 & 0 & 0 & 1 & 1 & U     & 0 & 1\\\\\n\\end{tabular}\n",
            "text/plain": [
              "  subject condition filename            sequence                 accent_chosen\n",
              "1 dykydm  tonic Cs5 fc_accents_32_4.mp3 [1, 2, 6, 3, 2, 3, 1]    1            \n",
              "2 dykydm  tonic Cs5 fc_accents_34_1.mp3 [1, 2, 6, 3, 4, 5, 3, 1] 1            \n",
              "3 dykydm  tonic Cs5 fc_accents_54_2.mp3 [1, 2, 6, 5, 4, 5, 3, 1] 0            \n",
              "4 dykydm  tonic Cs5 fc_accents_56_2.mp3 [1, 2, 6, 5, 6, 5, 3, 1] 0            \n",
              "5 dykydm  tonic Cs5 fc_accents_56_4.mp3 [1, 2, 6, 5, 6, 5, 3, 1] 0            \n",
              "6 dykydm  tonic Cs5 fc_accents_32_3.mp3 [1, 2, 6, 3, 2, 3, 1]    0            \n",
              "  IC target_pos invU U asc des target_metric_2 target_metric_4 contour musician\n",
              "1 1  4          0    1 0   0   1               1               U       0       \n",
              "2 0  4          0    0 1   0   1               1               asc     0       \n",
              "3 0  4          0    1 0   0   1               1               U       0       \n",
              "4 1  4          1    0 0   0   1               1               inv-U   0       \n",
              "5 1  4          1    0 0   0   1               1               inv-U   0       \n",
              "6 1  4          0    1 0   0   1               1               U       0       \n",
              "  interaction\n",
              "1 1          \n",
              "2 0          \n",
              "3 0          \n",
              "4 1          \n",
              "5 1          \n",
              "6 1          "
            ]
          },
          "metadata": {}
        }
      ]
    },
    {
      "cell_type": "code",
      "source": [
        "model.target <- glmer(\n",
        "\n",
        "\taccent_chosen ~ IC+musician+contour+interaction + (1 | subject),\n",
        "\n",
        "\tdata=df,\n",
        "\n",
        "\tfamily=\"binomial\"\n",
        "\n",
        ")\n",
        "\n",
        "summary(model.target)"
      ],
      "metadata": {
        "colab": {
          "base_uri": "https://localhost:8080/",
          "height": 714
        },
        "id": "6aapACkzmQCt",
        "outputId": "20630261-282b-4f87-9ae9-b3a872047dd8"
      },
      "execution_count": null,
      "outputs": [
        {
          "output_type": "display_data",
          "data": {
            "text/plain": [
              "Generalized linear mixed model fit by maximum likelihood (Laplace\n",
              "  Approximation) [glmerMod]\n",
              " Family: binomial  ( logit )\n",
              "Formula: accent_chosen ~ IC + musician + contour + interaction + (1 |  \n",
              "    subject)\n",
              "   Data: df\n",
              "\n",
              "     AIC      BIC   logLik deviance df.resid \n",
              "  1498.9   1539.9   -741.5   1482.9     1240 \n",
              "\n",
              "Scaled residuals: \n",
              "    Min      1Q  Median      3Q     Max \n",
              "-2.3333 -0.7043 -0.2972  0.7893  3.0322 \n",
              "\n",
              "Random effects:\n",
              " Groups  Name        Variance Std.Dev.\n",
              " subject (Intercept) 1.863    1.365   \n",
              "Number of obs: 1248, groups:  subject, 78\n",
              "\n",
              "Fixed effects:\n",
              "             Estimate Std. Error z value Pr(>|z|)    \n",
              "(Intercept)  -0.49878    0.39267  -1.270 0.204008    \n",
              "IC1          -0.07678    0.28505  -0.269 0.787672    \n",
              "musician0    -0.17980    0.42926  -0.419 0.675315    \n",
              "contourasc    0.08230    0.22513   0.366 0.714683    \n",
              "contourdes    0.02097    0.25764   0.081 0.935134    \n",
              "contourinv-U  0.53534    0.15581   3.436 0.000591 ***\n",
              "interaction  -0.15576    0.30580  -0.509 0.610503    \n",
              "---\n",
              "Signif. codes:  0 ‘***’ 0.001 ‘**’ 0.01 ‘*’ 0.05 ‘.’ 0.1 ‘ ’ 1\n",
              "\n",
              "Correlation of Fixed Effects:\n",
              "            (Intr) IC1    muscn0 cntrsc cntrds cntr-U\n",
              "IC1         -0.394                                   \n",
              "musician0   -0.832  0.288                            \n",
              "contourasc  -0.259  0.288  0.002                     \n",
              "contourdes  -0.219  0.240 -0.011  0.410              \n",
              "contournv-U -0.150 -0.075 -0.009  0.258  0.233       \n",
              "interaction  0.293 -0.811 -0.355 -0.007  0.010  0.005"
            ]
          },
          "metadata": {}
        }
      ]
    },
    {
      "cell_type": "code",
      "source": [
        "model.ref <- update(model.target, ~ . - IC)\n",
        "\n",
        "anova(model.target, model.ref)"
      ],
      "metadata": {
        "colab": {
          "base_uri": "https://localhost:8080/",
          "height": 161
        },
        "id": "N3D3wXVvoLwd",
        "outputId": "c7d095e3-2042-4a10-bd0a-aa82ba97ca5a"
      },
      "execution_count": null,
      "outputs": [
        {
          "output_type": "display_data",
          "data": {
            "text/html": [
              "<table class=\"dataframe\">\n",
              "<caption>A anova: 2 × 8</caption>\n",
              "<thead>\n",
              "\t<tr><th></th><th scope=col>npar</th><th scope=col>AIC</th><th scope=col>BIC</th><th scope=col>logLik</th><th scope=col>deviance</th><th scope=col>Chisq</th><th scope=col>Df</th><th scope=col>Pr(&gt;Chisq)</th></tr>\n",
              "\t<tr><th></th><th scope=col>&lt;dbl&gt;</th><th scope=col>&lt;dbl&gt;</th><th scope=col>&lt;dbl&gt;</th><th scope=col>&lt;dbl&gt;</th><th scope=col>&lt;dbl&gt;</th><th scope=col>&lt;dbl&gt;</th><th scope=col>&lt;dbl&gt;</th><th scope=col>&lt;dbl&gt;</th></tr>\n",
              "</thead>\n",
              "<tbody>\n",
              "\t<tr><th scope=row>model.ref</th><td>7</td><td>1496.978</td><td>1532.883</td><td>-741.4890</td><td>1482.978</td><td>       NA</td><td>NA</td><td>       NA</td></tr>\n",
              "\t<tr><th scope=row>model.target</th><td>8</td><td>1498.907</td><td>1539.941</td><td>-741.4533</td><td>1482.907</td><td>0.0714505</td><td> 1</td><td>0.7892364</td></tr>\n",
              "</tbody>\n",
              "</table>\n"
            ],
            "text/markdown": "\nA anova: 2 × 8\n\n| <!--/--> | npar &lt;dbl&gt; | AIC &lt;dbl&gt; | BIC &lt;dbl&gt; | logLik &lt;dbl&gt; | deviance &lt;dbl&gt; | Chisq &lt;dbl&gt; | Df &lt;dbl&gt; | Pr(&gt;Chisq) &lt;dbl&gt; |\n|---|---|---|---|---|---|---|---|---|\n| model.ref | 7 | 1496.978 | 1532.883 | -741.4890 | 1482.978 |        NA | NA |        NA |\n| model.target | 8 | 1498.907 | 1539.941 | -741.4533 | 1482.907 | 0.0714505 |  1 | 0.7892364 |\n\n",
            "text/latex": "A anova: 2 × 8\n\\begin{tabular}{r|llllllll}\n  & npar & AIC & BIC & logLik & deviance & Chisq & Df & Pr(>Chisq)\\\\\n  & <dbl> & <dbl> & <dbl> & <dbl> & <dbl> & <dbl> & <dbl> & <dbl>\\\\\n\\hline\n\tmodel.ref & 7 & 1496.978 & 1532.883 & -741.4890 & 1482.978 &        NA & NA &        NA\\\\\n\tmodel.target & 8 & 1498.907 & 1539.941 & -741.4533 & 1482.907 & 0.0714505 &  1 & 0.7892364\\\\\n\\end{tabular}\n",
            "text/plain": [
              "             npar AIC      BIC      logLik    deviance Chisq     Df Pr(>Chisq)\n",
              "model.ref    7    1496.978 1532.883 -741.4890 1482.978        NA NA        NA \n",
              "model.target 8    1498.907 1539.941 -741.4533 1482.907 0.0714505  1 0.7892364 "
            ]
          },
          "metadata": {}
        }
      ]
    },
    {
      "cell_type": "markdown",
      "source": [
        "Grammar learning"
      ],
      "metadata": {
        "id": "RouwGa7umFIM"
      }
    },
    {
      "cell_type": "code",
      "source": [
        "urlfile = 'https://raw.githubusercontent.com/haiqin-zhang/gestaltIC_melodies/main/data_analysis/grammar_learning.csv'\n",
        "df <- read_csv(url(urlfile))\n",
        "head(df)"
      ],
      "metadata": {
        "colab": {
          "base_uri": "https://localhost:8080/",
          "height": 642
        },
        "id": "D3jWKgQIlw1L",
        "outputId": "88f72a9d-bb70-493b-e033-2930b7e4b95e"
      },
      "execution_count": null,
      "outputs": [
        {
          "output_type": "stream",
          "name": "stderr",
          "text": [
            "\u001b[1m\u001b[22mNew names:\n",
            "\u001b[36m•\u001b[39m `` -> `...1`\n",
            "\u001b[1mRows: \u001b[22m\u001b[34m1248\u001b[39m \u001b[1mColumns: \u001b[22m\u001b[34m34\u001b[39m\n",
            "\u001b[36m──\u001b[39m \u001b[1mColumn specification\u001b[22m \u001b[36m────────────────────────────────────────────────────────\u001b[39m\n",
            "\u001b[1mDelimiter:\u001b[22m \",\"\n",
            "\u001b[31mchr\u001b[39m  (17): trial_type, internal_node_id, condition, source_code_version, ip,...\n",
            "\u001b[32mdbl\u001b[39m   (8): ...1, rt, response, trial_index, time_elapsed, run_id, slider_sta...\n",
            "\u001b[33mlgl\u001b[39m   (8): correct, subtask, accent, high_IC, accent_chosen, high_IC_chosen,...\n",
            "\u001b[34mdttm\u001b[39m  (1): recorded_at\n",
            "\n",
            "\u001b[36mℹ\u001b[39m Use `spec()` to retrieve the full column specification for this data.\n",
            "\u001b[36mℹ\u001b[39m Specify the column types or set `show_col_types = FALSE` to quiet this message.\n"
          ]
        },
        {
          "output_type": "display_data",
          "data": {
            "text/html": [
              "<table class=\"dataframe\">\n",
              "<caption>A tibble: 6 × 34</caption>\n",
              "<thead>\n",
              "\t<tr><th scope=col>...1</th><th scope=col>rt</th><th scope=col>response</th><th scope=col>trial_type</th><th scope=col>trial_index</th><th scope=col>time_elapsed</th><th scope=col>internal_node_id</th><th scope=col>run_id</th><th scope=col>condition</th><th scope=col>recorded_at</th><th scope=col>⋯</th><th scope=col>subtask</th><th scope=col>slider_start</th><th scope=col>accent</th><th scope=col>high_IC</th><th scope=col>accent_chosen</th><th scope=col>high_IC_chosen</th><th scope=col>question_order</th><th scope=col>Unnamed: 0</th><th scope=col>grammaticality</th><th scope=col>sequence</th></tr>\n",
              "\t<tr><th scope=col>&lt;dbl&gt;</th><th scope=col>&lt;dbl&gt;</th><th scope=col>&lt;dbl&gt;</th><th scope=col>&lt;chr&gt;</th><th scope=col>&lt;dbl&gt;</th><th scope=col>&lt;dbl&gt;</th><th scope=col>&lt;chr&gt;</th><th scope=col>&lt;dbl&gt;</th><th scope=col>&lt;chr&gt;</th><th scope=col>&lt;dttm&gt;</th><th scope=col>⋯</th><th scope=col>&lt;lgl&gt;</th><th scope=col>&lt;dbl&gt;</th><th scope=col>&lt;lgl&gt;</th><th scope=col>&lt;lgl&gt;</th><th scope=col>&lt;lgl&gt;</th><th scope=col>&lt;lgl&gt;</th><th scope=col>&lt;lgl&gt;</th><th scope=col>&lt;dbl&gt;</th><th scope=col>&lt;chr&gt;</th><th scope=col>&lt;lgl&gt;</th></tr>\n",
              "</thead>\n",
              "<tbody>\n",
              "\t<tr><td>0</td><td>5486</td><td>7</td><td>audio-slider-response</td><td>78</td><td>1369852</td><td>0.0-19.0-0.0</td><td>20</td><td>tonic Cs5</td><td>2024-06-02 19:23:40</td><td>⋯</td><td>NA</td><td>4</td><td>NA</td><td>NA</td><td>NA</td><td>NA</td><td>NA</td><td>NA</td><td>grammatical </td><td>NA</td></tr>\n",
              "\t<tr><td>1</td><td>6078</td><td>6</td><td>audio-slider-response</td><td>79</td><td>1375929</td><td>0.0-19.0-0.1</td><td>20</td><td>tonic Cs5</td><td>2024-06-02 19:23:40</td><td>⋯</td><td>NA</td><td>4</td><td>NA</td><td>NA</td><td>NA</td><td>NA</td><td>NA</td><td>NA</td><td>grammatical </td><td>NA</td></tr>\n",
              "\t<tr><td>2</td><td>7041</td><td>5</td><td>audio-slider-response</td><td>80</td><td>1383046</td><td>0.0-19.0-0.2</td><td>20</td><td>tonic Cs5</td><td>2024-06-02 19:23:40</td><td>⋯</td><td>NA</td><td>4</td><td>NA</td><td>NA</td><td>NA</td><td>NA</td><td>NA</td><td>NA</td><td>grammatical </td><td>NA</td></tr>\n",
              "\t<tr><td>3</td><td>5799</td><td>6</td><td>audio-slider-response</td><td>81</td><td>1388921</td><td>0.0-19.0-0.3</td><td>20</td><td>tonic Cs5</td><td>2024-06-02 19:23:40</td><td>⋯</td><td>NA</td><td>4</td><td>NA</td><td>NA</td><td>NA</td><td>NA</td><td>NA</td><td>NA</td><td>grammatical </td><td>NA</td></tr>\n",
              "\t<tr><td>4</td><td>6821</td><td>7</td><td>audio-slider-response</td><td>82</td><td>1395819</td><td>0.0-19.0-0.4</td><td>20</td><td>tonic Cs5</td><td>2024-06-02 19:23:40</td><td>⋯</td><td>NA</td><td>4</td><td>NA</td><td>NA</td><td>NA</td><td>NA</td><td>NA</td><td>NA</td><td>grammatical </td><td>NA</td></tr>\n",
              "\t<tr><td>5</td><td>5648</td><td>3</td><td>audio-slider-response</td><td>83</td><td>1401543</td><td>0.0-19.0-0.5</td><td>20</td><td>tonic Cs5</td><td>2024-06-02 19:23:40</td><td>⋯</td><td>NA</td><td>4</td><td>NA</td><td>NA</td><td>NA</td><td>NA</td><td>NA</td><td>NA</td><td>agrammatical</td><td>NA</td></tr>\n",
              "</tbody>\n",
              "</table>\n"
            ],
            "text/markdown": "\nA tibble: 6 × 34\n\n| ...1 &lt;dbl&gt; | rt &lt;dbl&gt; | response &lt;dbl&gt; | trial_type &lt;chr&gt; | trial_index &lt;dbl&gt; | time_elapsed &lt;dbl&gt; | internal_node_id &lt;chr&gt; | run_id &lt;dbl&gt; | condition &lt;chr&gt; | recorded_at &lt;dttm&gt; | ⋯ ⋯ | subtask &lt;lgl&gt; | slider_start &lt;dbl&gt; | accent &lt;lgl&gt; | high_IC &lt;lgl&gt; | accent_chosen &lt;lgl&gt; | high_IC_chosen &lt;lgl&gt; | question_order &lt;lgl&gt; | Unnamed: 0 &lt;dbl&gt; | grammaticality &lt;chr&gt; | sequence &lt;lgl&gt; |\n|---|---|---|---|---|---|---|---|---|---|---|---|---|---|---|---|---|---|---|---|---|\n| 0 | 5486 | 7 | audio-slider-response | 78 | 1369852 | 0.0-19.0-0.0 | 20 | tonic Cs5 | 2024-06-02 19:23:40 | ⋯ | NA | 4 | NA | NA | NA | NA | NA | NA | grammatical  | NA |\n| 1 | 6078 | 6 | audio-slider-response | 79 | 1375929 | 0.0-19.0-0.1 | 20 | tonic Cs5 | 2024-06-02 19:23:40 | ⋯ | NA | 4 | NA | NA | NA | NA | NA | NA | grammatical  | NA |\n| 2 | 7041 | 5 | audio-slider-response | 80 | 1383046 | 0.0-19.0-0.2 | 20 | tonic Cs5 | 2024-06-02 19:23:40 | ⋯ | NA | 4 | NA | NA | NA | NA | NA | NA | grammatical  | NA |\n| 3 | 5799 | 6 | audio-slider-response | 81 | 1388921 | 0.0-19.0-0.3 | 20 | tonic Cs5 | 2024-06-02 19:23:40 | ⋯ | NA | 4 | NA | NA | NA | NA | NA | NA | grammatical  | NA |\n| 4 | 6821 | 7 | audio-slider-response | 82 | 1395819 | 0.0-19.0-0.4 | 20 | tonic Cs5 | 2024-06-02 19:23:40 | ⋯ | NA | 4 | NA | NA | NA | NA | NA | NA | grammatical  | NA |\n| 5 | 5648 | 3 | audio-slider-response | 83 | 1401543 | 0.0-19.0-0.5 | 20 | tonic Cs5 | 2024-06-02 19:23:40 | ⋯ | NA | 4 | NA | NA | NA | NA | NA | NA | agrammatical | NA |\n\n",
            "text/latex": "A tibble: 6 × 34\n\\begin{tabular}{lllllllllllllllllllll}\n ...1 & rt & response & trial\\_type & trial\\_index & time\\_elapsed & internal\\_node\\_id & run\\_id & condition & recorded\\_at & ⋯ & subtask & slider\\_start & accent & high\\_IC & accent\\_chosen & high\\_IC\\_chosen & question\\_order & Unnamed: 0 & grammaticality & sequence\\\\\n <dbl> & <dbl> & <dbl> & <chr> & <dbl> & <dbl> & <chr> & <dbl> & <chr> & <dttm> & ⋯ & <lgl> & <dbl> & <lgl> & <lgl> & <lgl> & <lgl> & <lgl> & <dbl> & <chr> & <lgl>\\\\\n\\hline\n\t 0 & 5486 & 7 & audio-slider-response & 78 & 1369852 & 0.0-19.0-0.0 & 20 & tonic Cs5 & 2024-06-02 19:23:40 & ⋯ & NA & 4 & NA & NA & NA & NA & NA & NA & grammatical  & NA\\\\\n\t 1 & 6078 & 6 & audio-slider-response & 79 & 1375929 & 0.0-19.0-0.1 & 20 & tonic Cs5 & 2024-06-02 19:23:40 & ⋯ & NA & 4 & NA & NA & NA & NA & NA & NA & grammatical  & NA\\\\\n\t 2 & 7041 & 5 & audio-slider-response & 80 & 1383046 & 0.0-19.0-0.2 & 20 & tonic Cs5 & 2024-06-02 19:23:40 & ⋯ & NA & 4 & NA & NA & NA & NA & NA & NA & grammatical  & NA\\\\\n\t 3 & 5799 & 6 & audio-slider-response & 81 & 1388921 & 0.0-19.0-0.3 & 20 & tonic Cs5 & 2024-06-02 19:23:40 & ⋯ & NA & 4 & NA & NA & NA & NA & NA & NA & grammatical  & NA\\\\\n\t 4 & 6821 & 7 & audio-slider-response & 82 & 1395819 & 0.0-19.0-0.4 & 20 & tonic Cs5 & 2024-06-02 19:23:40 & ⋯ & NA & 4 & NA & NA & NA & NA & NA & NA & grammatical  & NA\\\\\n\t 5 & 5648 & 3 & audio-slider-response & 83 & 1401543 & 0.0-19.0-0.5 & 20 & tonic Cs5 & 2024-06-02 19:23:40 & ⋯ & NA & 4 & NA & NA & NA & NA & NA & NA & agrammatical & NA\\\\\n\\end{tabular}\n",
            "text/plain": [
              "  ...1 rt   response trial_type            trial_index time_elapsed\n",
              "1 0    5486 7        audio-slider-response 78          1369852     \n",
              "2 1    6078 6        audio-slider-response 79          1375929     \n",
              "3 2    7041 5        audio-slider-response 80          1383046     \n",
              "4 3    5799 6        audio-slider-response 81          1388921     \n",
              "5 4    6821 7        audio-slider-response 82          1395819     \n",
              "6 5    5648 3        audio-slider-response 83          1401543     \n",
              "  internal_node_id run_id condition recorded_at         ⋯ subtask slider_start\n",
              "1 0.0-19.0-0.0     20     tonic Cs5 2024-06-02 19:23:40 ⋯ NA      4           \n",
              "2 0.0-19.0-0.1     20     tonic Cs5 2024-06-02 19:23:40 ⋯ NA      4           \n",
              "3 0.0-19.0-0.2     20     tonic Cs5 2024-06-02 19:23:40 ⋯ NA      4           \n",
              "4 0.0-19.0-0.3     20     tonic Cs5 2024-06-02 19:23:40 ⋯ NA      4           \n",
              "5 0.0-19.0-0.4     20     tonic Cs5 2024-06-02 19:23:40 ⋯ NA      4           \n",
              "6 0.0-19.0-0.5     20     tonic Cs5 2024-06-02 19:23:40 ⋯ NA      4           \n",
              "  accent high_IC accent_chosen high_IC_chosen question_order Unnamed: 0\n",
              "1 NA     NA      NA            NA             NA             NA        \n",
              "2 NA     NA      NA            NA             NA             NA        \n",
              "3 NA     NA      NA            NA             NA             NA        \n",
              "4 NA     NA      NA            NA             NA             NA        \n",
              "5 NA     NA      NA            NA             NA             NA        \n",
              "6 NA     NA      NA            NA             NA             NA        \n",
              "  grammaticality sequence\n",
              "1 grammatical    NA      \n",
              "2 grammatical    NA      \n",
              "3 grammatical    NA      \n",
              "4 grammatical    NA      \n",
              "5 grammatical    NA      \n",
              "6 agrammatical   NA      "
            ]
          },
          "metadata": {}
        }
      ]
    },
    {
      "cell_type": "code",
      "source": [
        "df$response <- factor(df$response)\n",
        "\n",
        "\n",
        "\n"
      ],
      "metadata": {
        "id": "SYcU08CCmV33"
      },
      "execution_count": null,
      "outputs": []
    },
    {
      "cell_type": "code",
      "source": [
        "model.target <- glmer(\n",
        "\n",
        "\tresponse ~ grammaticality + grammaticality:subject + (1 | filename),\n",
        "\n",
        "\tdata=df,\n",
        "\n",
        ")\n",
        "\n",
        "summary(model.target)"
      ],
      "metadata": {
        "colab": {
          "base_uri": "https://localhost:8080/",
          "height": 1000
        },
        "id": "ZUTjGdZ2l2AJ",
        "outputId": "b985f34e-0b80-482a-cfab-a3631115b4c9"
      },
      "execution_count": null,
      "outputs": [
        {
          "output_type": "stream",
          "name": "stderr",
          "text": [
            "Warning message in glmer(response ~ grammaticality + grammaticality:subject + (1 | :\n",
            "“calling glmer() with family=gaussian (identity link) as a shortcut to lmer() is deprecated; please call lmer() directly”\n",
            "\n",
            "Correlation matrix not shown by default, as p = 156 > 12.\n",
            "Use print(obj, correlation=TRUE)  or\n",
            "    vcov(obj)        if you need it\n",
            "\n",
            "\n"
          ]
        },
        {
          "output_type": "display_data",
          "data": {
            "text/plain": [
              "Linear mixed model fit by REML ['lmerMod']\n",
              "Formula: response ~ grammaticality + grammaticality:subject + (1 | filename)\n",
              "   Data: df\n",
              "\n",
              "REML criterion at convergence: 3778\n",
              "\n",
              "Scaled residuals: \n",
              "    Min      1Q  Median      3Q     Max \n",
              "-3.2651 -0.5662 -0.0148  0.6167  3.4556 \n",
              "\n",
              "Random effects:\n",
              " Groups   Name        Variance Std.Dev.\n",
              " filename (Intercept) 0.03634  0.1906  \n",
              " Residual             1.36396  1.1679  \n",
              "Number of obs: 1248, groups:  filename, 16\n",
              "\n",
              "Fixed effects:\n",
              "                                           Estimate Std. Error t value\n",
              "(Intercept)                               4.875e+00  4.184e-01  11.652\n",
              "grammaticalitygrammatical                 3.750e-01  5.917e-01   0.634\n",
              "grammaticalityagrammatical:subject1ynj9z  2.125e+00  5.839e-01   3.639\n",
              "grammaticalitygrammatical:subject1ynj9z   1.750e+00  5.839e-01   2.997\n",
              "grammaticalityagrammatical:subject2ouu3l -1.250e+00  5.839e-01  -2.141\n",
              "grammaticalitygrammatical:subject2ouu3l  -1.671e-14  5.839e-01   0.000\n",
              "grammaticalityagrammatical:subject2rygdo -1.250e+00  5.839e-01  -2.141\n",
              "grammaticalitygrammatical:subject2rygdo  -1.250e-01  5.839e-01  -0.214\n",
              "grammaticalityagrammatical:subject3bx7hg -6.250e-01  5.839e-01  -1.070\n",
              "grammaticalitygrammatical:subject3bx7hg   8.750e-01  5.839e-01   1.498\n",
              "grammaticalityagrammatical:subject47gbpj -2.500e-01  5.839e-01  -0.428\n",
              "grammaticalitygrammatical:subject47gbpj   6.250e-01  5.839e-01   1.070\n",
              "grammaticalityagrammatical:subject4qn9t3 -2.500e+00  5.839e-01  -4.281\n",
              "grammaticalitygrammatical:subject4qn9t3  -2.500e-01  5.839e-01  -0.428\n",
              "grammaticalityagrammatical:subject51s1gf -7.500e-01  5.839e-01  -1.284\n",
              "grammaticalitygrammatical:subject51s1gf   8.750e-01  5.839e-01   1.498\n",
              "grammaticalityagrammatical:subject54kfmx -8.750e-01  5.839e-01  -1.498\n",
              "grammaticalitygrammatical:subject54kfmx   5.000e-01  5.839e-01   0.856\n",
              "grammaticalityagrammatical:subject58cf32  1.250e-01  5.839e-01   0.214\n",
              "grammaticalitygrammatical:subject58cf32   5.000e-01  5.839e-01   0.856\n",
              "grammaticalityagrammatical:subject5oqbe6 -2.750e+00  5.839e-01  -4.709\n",
              "grammaticalitygrammatical:subject5oqbe6  -1.686e-14  5.839e-01   0.000\n",
              "grammaticalityagrammatical:subject63jhey -1.125e+00  5.839e-01  -1.927\n",
              "grammaticalitygrammatical:subject63jhey  -5.000e-01  5.839e-01  -0.856\n",
              "grammaticalityagrammatical:subject7e9x0n -1.250e-01  5.839e-01  -0.214\n",
              "grammaticalitygrammatical:subject7e9x0n   5.000e-01  5.839e-01   0.856\n",
              "grammaticalityagrammatical:subject7q280f  2.500e-01  5.839e-01   0.428\n",
              "grammaticalitygrammatical:subject7q280f   3.750e-01  5.839e-01   0.642\n",
              "grammaticalityagrammatical:subject7rc4se -3.750e-01  5.839e-01  -0.642\n",
              "grammaticalitygrammatical:subject7rc4se   5.000e-01  5.839e-01   0.856\n",
              "grammaticalityagrammatical:subject7vdumt  1.083e-13  5.839e-01   0.000\n",
              "grammaticalitygrammatical:subject7vdumt   6.250e-01  5.839e-01   1.070\n",
              "grammaticalityagrammatical:subject879vr1  1.250e+00  5.839e-01   2.141\n",
              "grammaticalitygrammatical:subject879vr1   1.500e+00  5.839e-01   2.569\n",
              "grammaticalityagrammatical:subject87o3mz -2.250e+00  5.839e-01  -3.853\n",
              "grammaticalitygrammatical:subject87o3mz   2.500e-01  5.839e-01   0.428\n",
              "grammaticalityagrammatical:subject899lar  8.750e-01  5.839e-01   1.498\n",
              "grammaticalitygrammatical:subject899lar   1.625e+00  5.839e-01   2.783\n",
              "grammaticalityagrammatical:subject8rmmbt  2.500e-01  5.839e-01   0.428\n",
              "grammaticalitygrammatical:subject8rmmbt   8.750e-01  5.839e-01   1.498\n",
              "grammaticalityagrammatical:subject8ybm77 -2.750e+00  5.839e-01  -4.709\n",
              "grammaticalitygrammatical:subject8ybm77  -1.125e+00  5.839e-01  -1.927\n",
              "grammaticalityagrammatical:subject9ju643  5.000e-01  5.839e-01   0.856\n",
              "grammaticalitygrammatical:subject9ju643   5.000e-01  5.839e-01   0.856\n",
              "grammaticalityagrammatical:subjectawcp74  1.125e+00  5.839e-01   1.927\n",
              "grammaticalitygrammatical:subjectawcp74   8.750e-01  5.839e-01   1.498\n",
              "grammaticalityagrammatical:subjectazv8u4  2.500e-01  5.839e-01   0.428\n",
              "grammaticalitygrammatical:subjectazv8u4   8.750e-01  5.839e-01   1.498\n",
              "grammaticalityagrammatical:subjectb4yhdr -2.750e+00  5.839e-01  -4.709\n",
              "grammaticalitygrammatical:subjectb4yhdr   3.750e-01  5.839e-01   0.642\n",
              "grammaticalityagrammatical:subjectbavbyu -1.250e+00  5.839e-01  -2.141\n",
              "grammaticalitygrammatical:subjectbavbyu  -5.000e-01  5.839e-01  -0.856\n",
              "grammaticalityagrammatical:subjectbdcpw0 -5.000e-01  5.839e-01  -0.856\n",
              "grammaticalitygrammatical:subjectbdcpw0   5.000e-01  5.839e-01   0.856\n",
              "grammaticalityagrammatical:subjectc27twk -2.250e+00  5.839e-01  -3.853\n",
              "grammaticalitygrammatical:subjectc27twk  -5.000e-01  5.839e-01  -0.856\n",
              "grammaticalityagrammatical:subjectcvyowf -8.750e-01  5.839e-01  -1.498\n",
              "grammaticalitygrammatical:subjectcvyowf   6.250e-01  5.839e-01   1.070\n",
              "grammaticalityagrammatical:subjectd1ao35 -1.125e+00  5.839e-01  -1.927\n",
              "grammaticalitygrammatical:subjectd1ao35  -1.250e-01  5.839e-01  -0.214\n",
              "grammaticalityagrammatical:subjectdfhlvp -3.125e+00  5.839e-01  -5.352\n",
              "grammaticalitygrammatical:subjectdfhlvp  -1.375e+00  5.839e-01  -2.355\n",
              "grammaticalityagrammatical:subjectdykydm -2.500e+00  5.839e-01  -4.281\n",
              "grammaticalitygrammatical:subjectdykydm   2.500e-01  5.839e-01   0.428\n",
              "grammaticalityagrammatical:subjectedcv02 -1.000e+00  5.839e-01  -1.712\n",
              "grammaticalitygrammatical:subjectedcv02   3.750e-01  5.839e-01   0.642\n",
              "grammaticalityagrammatical:subjectes5pch -1.500e+00  5.839e-01  -2.569\n",
              "grammaticalitygrammatical:subjectes5pch   8.750e-01  5.839e-01   1.498\n",
              "grammaticalityagrammatical:subjectf0sl72 -1.125e+00  5.839e-01  -1.927\n",
              "grammaticalitygrammatical:subjectf0sl72  -1.250e-01  5.839e-01  -0.214\n",
              "grammaticalityagrammatical:subjectf6j9pl  1.375e+00  5.839e-01   2.355\n",
              "grammaticalitygrammatical:subjectf6j9pl   1.500e+00  5.839e-01   2.569\n",
              "grammaticalityagrammatical:subjectf7dzsk -8.750e-01  5.839e-01  -1.498\n",
              "grammaticalitygrammatical:subjectf7dzsk  -1.250e-01  5.839e-01  -0.214\n",
              "grammaticalityagrammatical:subjecthljjmo -2.500e-01  5.839e-01  -0.428\n",
              "grammaticalitygrammatical:subjecthljjmo   1.250e-01  5.839e-01   0.214\n",
              "grammaticalityagrammatical:subjecthlv1ng -6.250e-01  5.839e-01  -1.070\n",
              "grammaticalitygrammatical:subjecthlv1ng   1.250e-01  5.839e-01   0.214\n",
              "grammaticalityagrammatical:subjecthrru95 -2.250e+00  5.839e-01  -3.853\n",
              "grammaticalitygrammatical:subjecthrru95   1.000e+00  5.839e-01   1.712\n",
              "grammaticalityagrammatical:subjectjh8l3p -1.125e+00  5.839e-01  -1.927\n",
              "grammaticalitygrammatical:subjectjh8l3p   8.750e-01  5.839e-01   1.498\n",
              "grammaticalityagrammatical:subjectjkxofs -2.250e+00  5.839e-01  -3.853\n",
              "grammaticalitygrammatical:subjectjkxofs  -3.750e-01  5.839e-01  -0.642\n",
              "grammaticalityagrammatical:subjectjvoox5 -6.250e-01  5.839e-01  -1.070\n",
              "grammaticalitygrammatical:subjectjvoox5  -1.684e-14  5.839e-01   0.000\n",
              "grammaticalityagrammatical:subjectkkm9yc -7.500e-01  5.839e-01  -1.284\n",
              "grammaticalitygrammatical:subjectkkm9yc   1.250e-01  5.839e-01   0.214\n",
              "grammaticalityagrammatical:subjectktwue4  3.750e-01  5.839e-01   0.642\n",
              "grammaticalitygrammatical:subjectktwue4   2.500e-01  5.839e-01   0.428\n",
              "grammaticalityagrammatical:subjectl1czo5 -1.875e+00  5.839e-01  -3.211\n",
              "grammaticalitygrammatical:subjectl1czo5  -1.697e-14  5.839e-01   0.000\n",
              "grammaticalityagrammatical:subjectlcw0nv -1.625e+00  5.839e-01  -2.783\n",
              "grammaticalitygrammatical:subjectlcw0nv  -2.500e-01  5.839e-01  -0.428\n",
              "grammaticalityagrammatical:subjectm58skb -6.250e-01  5.839e-01  -1.070\n",
              "grammaticalitygrammatical:subjectm58skb   5.000e-01  5.839e-01   0.856\n",
              "grammaticalityagrammatical:subjectmesgdu -1.500e+00  5.839e-01  -2.569\n",
              "grammaticalitygrammatical:subjectmesgdu   5.000e-01  5.839e-01   0.856\n",
              "grammaticalityagrammatical:subjectn727gy  1.875e+00  5.839e-01   3.211\n",
              "grammaticalitygrammatical:subjectn727gy   1.750e+00  5.839e-01   2.997\n",
              "grammaticalityagrammatical:subjectnveknx -1.250e-01  5.839e-01  -0.214\n",
              "grammaticalitygrammatical:subjectnveknx   5.000e-01  5.839e-01   0.856\n",
              "grammaticalityagrammatical:subjectopwoxj -7.500e-01  5.839e-01  -1.284\n",
              "grammaticalitygrammatical:subjectopwoxj   2.500e-01  5.839e-01   0.428\n",
              "grammaticalityagrammatical:subjectp1o8hj -6.250e-01  5.839e-01  -1.070\n",
              "grammaticalitygrammatical:subjectp1o8hj  -1.250e-01  5.839e-01  -0.214\n",
              "grammaticalityagrammatical:subjectqeyhrm -1.875e+00  5.839e-01  -3.211\n",
              "grammaticalitygrammatical:subjectqeyhrm   1.625e+00  5.839e-01   2.783\n",
              "grammaticalityagrammatical:subjectqghju0 -2.750e+00  5.839e-01  -4.709\n",
              "grammaticalitygrammatical:subjectqghju0  -1.250e-01  5.839e-01  -0.214\n",
              "grammaticalityagrammatical:subjectqnqpy5  2.500e-01  5.839e-01   0.428\n",
              "grammaticalitygrammatical:subjectqnqpy5   6.250e-01  5.839e-01   1.070\n",
              "grammaticalityagrammatical:subjectrewc3a  1.875e+00  5.839e-01   3.211\n",
              "grammaticalitygrammatical:subjectrewc3a   1.750e+00  5.839e-01   2.997\n",
              "grammaticalityagrammatical:subjectrq9vnf  1.250e-01  5.839e-01   0.214\n",
              "grammaticalitygrammatical:subjectrq9vnf  -1.250e-01  5.839e-01  -0.214\n",
              "grammaticalityagrammatical:subjectrz4nxs -1.500e+00  5.839e-01  -2.569\n",
              "grammaticalitygrammatical:subjectrz4nxs  -3.750e-01  5.839e-01  -0.642\n",
              "grammaticalityagrammatical:subjects3eylm -1.875e+00  5.839e-01  -3.211\n",
              "grammaticalitygrammatical:subjects3eylm   7.500e-01  5.839e-01   1.284\n",
              "grammaticalityagrammatical:subjects6puyw  1.875e+00  5.839e-01   3.211\n",
              "grammaticalitygrammatical:subjects6puyw   1.500e+00  5.839e-01   2.569\n",
              "grammaticalityagrammatical:subjectsmxkvk -6.250e-01  5.839e-01  -1.070\n",
              "grammaticalitygrammatical:subjectsmxkvk  -1.250e-01  5.839e-01  -0.214\n",
              "grammaticalityagrammatical:subjectt0675l -2.750e+00  5.839e-01  -4.709\n",
              "grammaticalitygrammatical:subjectt0675l  -1.250e-01  5.839e-01  -0.214\n",
              "grammaticalityagrammatical:subjecttozh5t -1.000e+00  5.839e-01  -1.712\n",
              "grammaticalitygrammatical:subjecttozh5t   3.750e-01  5.839e-01   0.642\n",
              "grammaticalityagrammatical:subjectuf48fg -5.000e-01  5.839e-01  -0.856\n",
              "grammaticalitygrammatical:subjectuf48fg   3.750e-01  5.839e-01   0.642\n",
              "grammaticalityagrammatical:subjectufmcn3 -2.750e+00  5.839e-01  -4.709\n",
              "grammaticalitygrammatical:subjectufmcn3   5.000e-01  5.839e-01   0.856\n",
              "grammaticalityagrammatical:subjectuu9050  1.625e+00  5.839e-01   2.783\n",
              "grammaticalitygrammatical:subjectuu9050   1.750e+00  5.839e-01   2.997\n",
              "grammaticalityagrammatical:subjectvekvhu  1.078e-13  5.839e-01   0.000\n",
              "grammaticalitygrammatical:subjectvekvhu   8.750e-01  5.839e-01   1.498\n",
              "grammaticalityagrammatical:subjectvxh5qr -1.750e+00  5.839e-01  -2.997\n",
              "grammaticalitygrammatical:subjectvxh5qr   1.000e+00  5.839e-01   1.712\n",
              "grammaticalityagrammatical:subjectvxv6m3 -2.500e+00  5.839e-01  -4.281\n",
              "grammaticalitygrammatical:subjectvxv6m3   1.250e+00  5.839e-01   2.141\n",
              "grammaticalityagrammatical:subjectwjde23  1.250e-01  5.839e-01   0.214\n",
              "grammaticalitygrammatical:subjectwjde23  -2.500e-01  5.839e-01  -0.428\n",
              "grammaticalityagrammatical:subjectwrywed -1.375e+00  5.839e-01  -2.355\n",
              "grammaticalitygrammatical:subjectwrywed  -2.000e+00  5.839e-01  -3.425\n",
              "grammaticalityagrammatical:subjectwwgtn8 -1.125e+00  5.839e-01  -1.927\n",
              "grammaticalitygrammatical:subjectwwgtn8  -2.500e-01  5.839e-01  -0.428\n",
              "grammaticalityagrammatical:subjectwzewhd -2.500e+00  5.839e-01  -4.281\n",
              "grammaticalitygrammatical:subjectwzewhd  -1.250e-01  5.839e-01  -0.214\n",
              "grammaticalityagrammatical:subjectx74bb0 -7.500e-01  5.839e-01  -1.284\n",
              "grammaticalitygrammatical:subjectx74bb0  -2.500e-01  5.839e-01  -0.428\n",
              "grammaticalityagrammatical:subjectx8c67z -1.125e+00  5.839e-01  -1.927\n",
              "grammaticalitygrammatical:subjectx8c67z  -6.250e-01  5.839e-01  -1.070\n",
              "grammaticalityagrammatical:subjectxk6t6z -8.750e-01  5.839e-01  -1.498\n",
              "grammaticalitygrammatical:subjectxk6t6z   7.500e-01  5.839e-01   1.284\n",
              "grammaticalityagrammatical:subjectyh59cq -1.000e+00  5.839e-01  -1.712\n",
              "grammaticalitygrammatical:subjectyh59cq   3.750e-01  5.839e-01   0.642"
            ]
          },
          "metadata": {}
        }
      ]
    },
    {
      "cell_type": "markdown",
      "source": [
        "Comparing models with and without IC on forced choice IC results"
      ],
      "metadata": {
        "id": "r8wBwbuJh04P"
      }
    },
    {
      "cell_type": "code",
      "source": [
        "urlfile = 'https://raw.githubusercontent.com/haiqin-zhang/gestaltIC_melodies/main/data_analysis/fc'\n",
        "df <- read_csv(url(urlfile))\n",
        "head(df)"
      ],
      "metadata": {
        "id": "BLtj8I5bh0tW"
      },
      "execution_count": null,
      "outputs": []
    },
    {
      "cell_type": "markdown",
      "source": [
        "change code below"
      ],
      "metadata": {
        "id": "c6iHQF32iQ-e"
      }
    }
  ]
}