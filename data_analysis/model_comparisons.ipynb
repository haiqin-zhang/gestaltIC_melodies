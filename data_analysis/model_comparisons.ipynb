{
  "cells": [
    {
      "cell_type": "code",
      "execution_count": 3,
      "metadata": {
        "colab": {
          "base_uri": "https://localhost:8080/"
        },
        "id": "tA3VgZhz1HCp",
        "outputId": "26afc994-8981-4c74-99ca-4d4c851da828"
      },
      "outputs": [
        {
          "output_type": "stream",
          "name": "stderr",
          "text": [
            "Installing package into ‘/usr/local/lib/R/site-library’\n",
            "(as ‘lib’ is unspecified)\n",
            "\n",
            "also installing the dependencies ‘gsl’, ‘semEff’\n",
            "\n",
            "\n",
            "Warning message in install.packages(\"lme4\", dependencies = TRUE):\n",
            "“installation of package ‘gsl’ had non-zero exit status”\n",
            "Warning message in install.packages(\"lme4\", dependencies = TRUE):\n",
            "“installation of package ‘semEff’ had non-zero exit status”\n",
            "Installing package into ‘/usr/local/lib/R/site-library’\n",
            "(as ‘lib’ is unspecified)\n",
            "\n"
          ]
        }
      ],
      "source": [
        "install.packages(\"lme4\", dependencies=TRUE)\n",
        "install.packages(\"simr\", dependencies=TRUE)\n",
        "\n",
        "library(dplyr)\n",
        "library(ggplot2)\n",
        "library(lme4)\n",
        "library(readr)\n",
        "library(simr)"
      ]
    },
    {
      "cell_type": "code",
      "source": [
        "urlfile= \"https://raw.githubusercontent.com/haiqin-zhang/gestaltIC_melodies/main/data_analysis/fc_accent_regression.csv\"\n",
        "\n",
        "\n",
        "\n",
        "df <- read_csv(url(urlfile))\n",
        "head(df)"
      ],
      "metadata": {
        "colab": {
          "base_uri": "https://localhost:8080/",
          "height": 533
        },
        "id": "MdWjlFQ6-aHI",
        "outputId": "ff2816da-28d2-4b8b-b722-30d41c5fafce"
      },
      "execution_count": 95,
      "outputs": [
        {
          "output_type": "stream",
          "name": "stderr",
          "text": [
            "\u001b[1mRows: \u001b[22m\u001b[34m1248\u001b[39m \u001b[1mColumns: \u001b[22m\u001b[34m15\u001b[39m\n",
            "\u001b[36m──\u001b[39m \u001b[1mColumn specification\u001b[22m \u001b[36m────────────────────────────────────────────────────────\u001b[39m\n",
            "\u001b[1mDelimiter:\u001b[22m \",\"\n",
            "\u001b[31mchr\u001b[39m  (5): subject, condition, filename, sequence, contour\n",
            "\u001b[32mdbl\u001b[39m (10): accent_chosen, IC, target_pos, invU, U, asc, des, target_metric_2,...\n",
            "\n",
            "\u001b[36mℹ\u001b[39m Use `spec()` to retrieve the full column specification for this data.\n",
            "\u001b[36mℹ\u001b[39m Specify the column types or set `show_col_types = FALSE` to quiet this message.\n"
          ]
        },
        {
          "output_type": "display_data",
          "data": {
            "text/html": [
              "<table class=\"dataframe\">\n",
              "<caption>A tibble: 6 × 15</caption>\n",
              "<thead>\n",
              "\t<tr><th scope=col>subject</th><th scope=col>condition</th><th scope=col>filename</th><th scope=col>sequence</th><th scope=col>accent_chosen</th><th scope=col>IC</th><th scope=col>target_pos</th><th scope=col>invU</th><th scope=col>U</th><th scope=col>asc</th><th scope=col>des</th><th scope=col>target_metric_2</th><th scope=col>target_metric_4</th><th scope=col>contour</th><th scope=col>musician</th></tr>\n",
              "\t<tr><th scope=col>&lt;chr&gt;</th><th scope=col>&lt;chr&gt;</th><th scope=col>&lt;chr&gt;</th><th scope=col>&lt;chr&gt;</th><th scope=col>&lt;dbl&gt;</th><th scope=col>&lt;dbl&gt;</th><th scope=col>&lt;dbl&gt;</th><th scope=col>&lt;dbl&gt;</th><th scope=col>&lt;dbl&gt;</th><th scope=col>&lt;dbl&gt;</th><th scope=col>&lt;dbl&gt;</th><th scope=col>&lt;dbl&gt;</th><th scope=col>&lt;dbl&gt;</th><th scope=col>&lt;chr&gt;</th><th scope=col>&lt;dbl&gt;</th></tr>\n",
              "</thead>\n",
              "<tbody>\n",
              "\t<tr><td>dykydm</td><td>tonic Cs5</td><td>fc_accents_32_4.mp3</td><td>[1, 2, 6, 3, 2, 3, 1]   </td><td>1</td><td>1</td><td>4</td><td>0</td><td>1</td><td>0</td><td>0</td><td>1</td><td>1</td><td>U    </td><td>0</td></tr>\n",
              "\t<tr><td>dykydm</td><td>tonic Cs5</td><td>fc_accents_34_1.mp3</td><td>[1, 2, 6, 3, 4, 5, 3, 1]</td><td>1</td><td>0</td><td>4</td><td>0</td><td>0</td><td>1</td><td>0</td><td>1</td><td>1</td><td>asc  </td><td>0</td></tr>\n",
              "\t<tr><td>dykydm</td><td>tonic Cs5</td><td>fc_accents_54_2.mp3</td><td>[1, 2, 6, 5, 4, 5, 3, 1]</td><td>0</td><td>0</td><td>4</td><td>0</td><td>1</td><td>0</td><td>0</td><td>1</td><td>1</td><td>U    </td><td>0</td></tr>\n",
              "\t<tr><td>dykydm</td><td>tonic Cs5</td><td>fc_accents_56_2.mp3</td><td>[1, 2, 6, 5, 6, 5, 3, 1]</td><td>0</td><td>1</td><td>4</td><td>1</td><td>0</td><td>0</td><td>0</td><td>1</td><td>1</td><td>inv-U</td><td>0</td></tr>\n",
              "\t<tr><td>dykydm</td><td>tonic Cs5</td><td>fc_accents_56_4.mp3</td><td>[1, 2, 6, 5, 6, 5, 3, 1]</td><td>0</td><td>1</td><td>4</td><td>1</td><td>0</td><td>0</td><td>0</td><td>1</td><td>1</td><td>inv-U</td><td>0</td></tr>\n",
              "\t<tr><td>dykydm</td><td>tonic Cs5</td><td>fc_accents_32_3.mp3</td><td>[1, 2, 6, 3, 2, 3, 1]   </td><td>0</td><td>1</td><td>4</td><td>0</td><td>1</td><td>0</td><td>0</td><td>1</td><td>1</td><td>U    </td><td>0</td></tr>\n",
              "</tbody>\n",
              "</table>\n"
            ],
            "text/markdown": "\nA tibble: 6 × 15\n\n| subject &lt;chr&gt; | condition &lt;chr&gt; | filename &lt;chr&gt; | sequence &lt;chr&gt; | accent_chosen &lt;dbl&gt; | IC &lt;dbl&gt; | target_pos &lt;dbl&gt; | invU &lt;dbl&gt; | U &lt;dbl&gt; | asc &lt;dbl&gt; | des &lt;dbl&gt; | target_metric_2 &lt;dbl&gt; | target_metric_4 &lt;dbl&gt; | contour &lt;chr&gt; | musician &lt;dbl&gt; |\n|---|---|---|---|---|---|---|---|---|---|---|---|---|---|---|\n| dykydm | tonic Cs5 | fc_accents_32_4.mp3 | [1, 2, 6, 3, 2, 3, 1]    | 1 | 1 | 4 | 0 | 1 | 0 | 0 | 1 | 1 | U     | 0 |\n| dykydm | tonic Cs5 | fc_accents_34_1.mp3 | [1, 2, 6, 3, 4, 5, 3, 1] | 1 | 0 | 4 | 0 | 0 | 1 | 0 | 1 | 1 | asc   | 0 |\n| dykydm | tonic Cs5 | fc_accents_54_2.mp3 | [1, 2, 6, 5, 4, 5, 3, 1] | 0 | 0 | 4 | 0 | 1 | 0 | 0 | 1 | 1 | U     | 0 |\n| dykydm | tonic Cs5 | fc_accents_56_2.mp3 | [1, 2, 6, 5, 6, 5, 3, 1] | 0 | 1 | 4 | 1 | 0 | 0 | 0 | 1 | 1 | inv-U | 0 |\n| dykydm | tonic Cs5 | fc_accents_56_4.mp3 | [1, 2, 6, 5, 6, 5, 3, 1] | 0 | 1 | 4 | 1 | 0 | 0 | 0 | 1 | 1 | inv-U | 0 |\n| dykydm | tonic Cs5 | fc_accents_32_3.mp3 | [1, 2, 6, 3, 2, 3, 1]    | 0 | 1 | 4 | 0 | 1 | 0 | 0 | 1 | 1 | U     | 0 |\n\n",
            "text/latex": "A tibble: 6 × 15\n\\begin{tabular}{lllllllllllllll}\n subject & condition & filename & sequence & accent\\_chosen & IC & target\\_pos & invU & U & asc & des & target\\_metric\\_2 & target\\_metric\\_4 & contour & musician\\\\\n <chr> & <chr> & <chr> & <chr> & <dbl> & <dbl> & <dbl> & <dbl> & <dbl> & <dbl> & <dbl> & <dbl> & <dbl> & <chr> & <dbl>\\\\\n\\hline\n\t dykydm & tonic Cs5 & fc\\_accents\\_32\\_4.mp3 & {[}1, 2, 6, 3, 2, 3, 1{]}    & 1 & 1 & 4 & 0 & 1 & 0 & 0 & 1 & 1 & U     & 0\\\\\n\t dykydm & tonic Cs5 & fc\\_accents\\_34\\_1.mp3 & {[}1, 2, 6, 3, 4, 5, 3, 1{]} & 1 & 0 & 4 & 0 & 0 & 1 & 0 & 1 & 1 & asc   & 0\\\\\n\t dykydm & tonic Cs5 & fc\\_accents\\_54\\_2.mp3 & {[}1, 2, 6, 5, 4, 5, 3, 1{]} & 0 & 0 & 4 & 0 & 1 & 0 & 0 & 1 & 1 & U     & 0\\\\\n\t dykydm & tonic Cs5 & fc\\_accents\\_56\\_2.mp3 & {[}1, 2, 6, 5, 6, 5, 3, 1{]} & 0 & 1 & 4 & 1 & 0 & 0 & 0 & 1 & 1 & inv-U & 0\\\\\n\t dykydm & tonic Cs5 & fc\\_accents\\_56\\_4.mp3 & {[}1, 2, 6, 5, 6, 5, 3, 1{]} & 0 & 1 & 4 & 1 & 0 & 0 & 0 & 1 & 1 & inv-U & 0\\\\\n\t dykydm & tonic Cs5 & fc\\_accents\\_32\\_3.mp3 & {[}1, 2, 6, 3, 2, 3, 1{]}    & 0 & 1 & 4 & 0 & 1 & 0 & 0 & 1 & 1 & U     & 0\\\\\n\\end{tabular}\n",
            "text/plain": [
              "  subject condition filename            sequence                 accent_chosen\n",
              "1 dykydm  tonic Cs5 fc_accents_32_4.mp3 [1, 2, 6, 3, 2, 3, 1]    1            \n",
              "2 dykydm  tonic Cs5 fc_accents_34_1.mp3 [1, 2, 6, 3, 4, 5, 3, 1] 1            \n",
              "3 dykydm  tonic Cs5 fc_accents_54_2.mp3 [1, 2, 6, 5, 4, 5, 3, 1] 0            \n",
              "4 dykydm  tonic Cs5 fc_accents_56_2.mp3 [1, 2, 6, 5, 6, 5, 3, 1] 0            \n",
              "5 dykydm  tonic Cs5 fc_accents_56_4.mp3 [1, 2, 6, 5, 6, 5, 3, 1] 0            \n",
              "6 dykydm  tonic Cs5 fc_accents_32_3.mp3 [1, 2, 6, 3, 2, 3, 1]    0            \n",
              "  IC target_pos invU U asc des target_metric_2 target_metric_4 contour musician\n",
              "1 1  4          0    1 0   0   1               1               U       0       \n",
              "2 0  4          0    0 1   0   1               1               asc     0       \n",
              "3 0  4          0    1 0   0   1               1               U       0       \n",
              "4 1  4          1    0 0   0   1               1               inv-U   0       \n",
              "5 1  4          1    0 0   0   1               1               inv-U   0       \n",
              "6 1  4          0    1 0   0   1               1               U       0       "
            ]
          },
          "metadata": {}
        }
      ]
    },
    {
      "cell_type": "code",
      "execution_count": 96,
      "metadata": {
        "id": "RousDrT95x4o",
        "colab": {
          "base_uri": "https://localhost:8080/",
          "height": 390
        },
        "outputId": "b5af6025-9a54-47e9-98e5-cc4ff0c8cd5f"
      },
      "outputs": [
        {
          "output_type": "display_data",
          "data": {
            "text/html": [
              "<table class=\"dataframe\">\n",
              "<caption>A tibble: 6 × 15</caption>\n",
              "<thead>\n",
              "\t<tr><th scope=col>subject</th><th scope=col>condition</th><th scope=col>filename</th><th scope=col>sequence</th><th scope=col>accent_chosen</th><th scope=col>IC</th><th scope=col>target_pos</th><th scope=col>invU</th><th scope=col>U</th><th scope=col>asc</th><th scope=col>des</th><th scope=col>target_metric_2</th><th scope=col>target_metric_4</th><th scope=col>contour</th><th scope=col>musician</th></tr>\n",
              "\t<tr><th scope=col>&lt;chr&gt;</th><th scope=col>&lt;fct&gt;</th><th scope=col>&lt;chr&gt;</th><th scope=col>&lt;chr&gt;</th><th scope=col>&lt;dbl&gt;</th><th scope=col>&lt;fct&gt;</th><th scope=col>&lt;dbl&gt;</th><th scope=col>&lt;dbl&gt;</th><th scope=col>&lt;dbl&gt;</th><th scope=col>&lt;dbl&gt;</th><th scope=col>&lt;dbl&gt;</th><th scope=col>&lt;dbl&gt;</th><th scope=col>&lt;dbl&gt;</th><th scope=col>&lt;fct&gt;</th><th scope=col>&lt;fct&gt;</th></tr>\n",
              "</thead>\n",
              "<tbody>\n",
              "\t<tr><td>dykydm</td><td>tonic Cs5</td><td>fc_accents_32_4.mp3</td><td>[1, 2, 6, 3, 2, 3, 1]   </td><td>1</td><td>1</td><td>4</td><td>0</td><td>1</td><td>0</td><td>0</td><td>1</td><td>1</td><td>U    </td><td>0</td></tr>\n",
              "\t<tr><td>dykydm</td><td>tonic Cs5</td><td>fc_accents_34_1.mp3</td><td>[1, 2, 6, 3, 4, 5, 3, 1]</td><td>1</td><td>0</td><td>4</td><td>0</td><td>0</td><td>1</td><td>0</td><td>1</td><td>1</td><td>asc  </td><td>0</td></tr>\n",
              "\t<tr><td>dykydm</td><td>tonic Cs5</td><td>fc_accents_54_2.mp3</td><td>[1, 2, 6, 5, 4, 5, 3, 1]</td><td>0</td><td>0</td><td>4</td><td>0</td><td>1</td><td>0</td><td>0</td><td>1</td><td>1</td><td>U    </td><td>0</td></tr>\n",
              "\t<tr><td>dykydm</td><td>tonic Cs5</td><td>fc_accents_56_2.mp3</td><td>[1, 2, 6, 5, 6, 5, 3, 1]</td><td>0</td><td>1</td><td>4</td><td>1</td><td>0</td><td>0</td><td>0</td><td>1</td><td>1</td><td>inv-U</td><td>0</td></tr>\n",
              "\t<tr><td>dykydm</td><td>tonic Cs5</td><td>fc_accents_56_4.mp3</td><td>[1, 2, 6, 5, 6, 5, 3, 1]</td><td>0</td><td>1</td><td>4</td><td>1</td><td>0</td><td>0</td><td>0</td><td>1</td><td>1</td><td>inv-U</td><td>0</td></tr>\n",
              "\t<tr><td>dykydm</td><td>tonic Cs5</td><td>fc_accents_32_3.mp3</td><td>[1, 2, 6, 3, 2, 3, 1]   </td><td>0</td><td>1</td><td>4</td><td>0</td><td>1</td><td>0</td><td>0</td><td>1</td><td>1</td><td>U    </td><td>0</td></tr>\n",
              "</tbody>\n",
              "</table>\n"
            ],
            "text/markdown": "\nA tibble: 6 × 15\n\n| subject &lt;chr&gt; | condition &lt;fct&gt; | filename &lt;chr&gt; | sequence &lt;chr&gt; | accent_chosen &lt;dbl&gt; | IC &lt;fct&gt; | target_pos &lt;dbl&gt; | invU &lt;dbl&gt; | U &lt;dbl&gt; | asc &lt;dbl&gt; | des &lt;dbl&gt; | target_metric_2 &lt;dbl&gt; | target_metric_4 &lt;dbl&gt; | contour &lt;fct&gt; | musician &lt;fct&gt; |\n|---|---|---|---|---|---|---|---|---|---|---|---|---|---|---|\n| dykydm | tonic Cs5 | fc_accents_32_4.mp3 | [1, 2, 6, 3, 2, 3, 1]    | 1 | 1 | 4 | 0 | 1 | 0 | 0 | 1 | 1 | U     | 0 |\n| dykydm | tonic Cs5 | fc_accents_34_1.mp3 | [1, 2, 6, 3, 4, 5, 3, 1] | 1 | 0 | 4 | 0 | 0 | 1 | 0 | 1 | 1 | asc   | 0 |\n| dykydm | tonic Cs5 | fc_accents_54_2.mp3 | [1, 2, 6, 5, 4, 5, 3, 1] | 0 | 0 | 4 | 0 | 1 | 0 | 0 | 1 | 1 | U     | 0 |\n| dykydm | tonic Cs5 | fc_accents_56_2.mp3 | [1, 2, 6, 5, 6, 5, 3, 1] | 0 | 1 | 4 | 1 | 0 | 0 | 0 | 1 | 1 | inv-U | 0 |\n| dykydm | tonic Cs5 | fc_accents_56_4.mp3 | [1, 2, 6, 5, 6, 5, 3, 1] | 0 | 1 | 4 | 1 | 0 | 0 | 0 | 1 | 1 | inv-U | 0 |\n| dykydm | tonic Cs5 | fc_accents_32_3.mp3 | [1, 2, 6, 3, 2, 3, 1]    | 0 | 1 | 4 | 0 | 1 | 0 | 0 | 1 | 1 | U     | 0 |\n\n",
            "text/latex": "A tibble: 6 × 15\n\\begin{tabular}{lllllllllllllll}\n subject & condition & filename & sequence & accent\\_chosen & IC & target\\_pos & invU & U & asc & des & target\\_metric\\_2 & target\\_metric\\_4 & contour & musician\\\\\n <chr> & <fct> & <chr> & <chr> & <dbl> & <fct> & <dbl> & <dbl> & <dbl> & <dbl> & <dbl> & <dbl> & <dbl> & <fct> & <fct>\\\\\n\\hline\n\t dykydm & tonic Cs5 & fc\\_accents\\_32\\_4.mp3 & {[}1, 2, 6, 3, 2, 3, 1{]}    & 1 & 1 & 4 & 0 & 1 & 0 & 0 & 1 & 1 & U     & 0\\\\\n\t dykydm & tonic Cs5 & fc\\_accents\\_34\\_1.mp3 & {[}1, 2, 6, 3, 4, 5, 3, 1{]} & 1 & 0 & 4 & 0 & 0 & 1 & 0 & 1 & 1 & asc   & 0\\\\\n\t dykydm & tonic Cs5 & fc\\_accents\\_54\\_2.mp3 & {[}1, 2, 6, 5, 4, 5, 3, 1{]} & 0 & 0 & 4 & 0 & 1 & 0 & 0 & 1 & 1 & U     & 0\\\\\n\t dykydm & tonic Cs5 & fc\\_accents\\_56\\_2.mp3 & {[}1, 2, 6, 5, 6, 5, 3, 1{]} & 0 & 1 & 4 & 1 & 0 & 0 & 0 & 1 & 1 & inv-U & 0\\\\\n\t dykydm & tonic Cs5 & fc\\_accents\\_56\\_4.mp3 & {[}1, 2, 6, 5, 6, 5, 3, 1{]} & 0 & 1 & 4 & 1 & 0 & 0 & 0 & 1 & 1 & inv-U & 0\\\\\n\t dykydm & tonic Cs5 & fc\\_accents\\_32\\_3.mp3 & {[}1, 2, 6, 3, 2, 3, 1{]}    & 0 & 1 & 4 & 0 & 1 & 0 & 0 & 1 & 1 & U     & 0\\\\\n\\end{tabular}\n",
            "text/plain": [
              "  subject condition filename            sequence                 accent_chosen\n",
              "1 dykydm  tonic Cs5 fc_accents_32_4.mp3 [1, 2, 6, 3, 2, 3, 1]    1            \n",
              "2 dykydm  tonic Cs5 fc_accents_34_1.mp3 [1, 2, 6, 3, 4, 5, 3, 1] 1            \n",
              "3 dykydm  tonic Cs5 fc_accents_54_2.mp3 [1, 2, 6, 5, 4, 5, 3, 1] 0            \n",
              "4 dykydm  tonic Cs5 fc_accents_56_2.mp3 [1, 2, 6, 5, 6, 5, 3, 1] 0            \n",
              "5 dykydm  tonic Cs5 fc_accents_56_4.mp3 [1, 2, 6, 5, 6, 5, 3, 1] 0            \n",
              "6 dykydm  tonic Cs5 fc_accents_32_3.mp3 [1, 2, 6, 3, 2, 3, 1]    0            \n",
              "  IC target_pos invU U asc des target_metric_2 target_metric_4 contour musician\n",
              "1 1  4          0    1 0   0   1               1               U       0       \n",
              "2 0  4          0    0 1   0   1               1               asc     0       \n",
              "3 0  4          0    1 0   0   1               1               U       0       \n",
              "4 1  4          1    0 0   0   1               1               inv-U   0       \n",
              "5 1  4          1    0 0   0   1               1               inv-U   0       \n",
              "6 1  4          0    1 0   0   1               1               U       0       "
            ]
          },
          "metadata": {}
        }
      ],
      "source": [
        "##########################################\n",
        "# Data loading and organization\n",
        "##########################################\n",
        "\n",
        "df$IC <- factor(df$IC)\n",
        "df$musician <- factor(df$musician)\n",
        "df$contour <-factor(df$contour)\n",
        "df$condition <-factor(df$condition)\n",
        "#df$sequence <-factor(df$sequence)\n",
        "\n",
        "df$IC <- relevel(df$IC, ref = \"0\")\n",
        "df$musician <- relevel(df$musician, ref = \"1\")\n",
        "df$contour <- relevel(df$contour, ref = \"des\")\n",
        "\n",
        "\n",
        "#df$interaction<-contrasts(df$accent)[df$accent]*contrasts(df$musician)[df$musician]\n",
        "\n",
        "head(df)"
      ]
    },
    {
      "cell_type": "markdown",
      "source": [
        "## Full model"
      ],
      "metadata": {
        "id": "xjTmm36B42s6"
      }
    },
    {
      "cell_type": "code",
      "source": [
        "model.full <-glmer(\n",
        "  accent_chosen ~ IC + contour + musician + (1|subject),\n",
        "  data = df,\n",
        "  family = 'binomial'\n",
        ")\n",
        "\n",
        "summary(model.full)"
      ],
      "metadata": {
        "colab": {
          "base_uri": "https://localhost:8080/",
          "height": 660
        },
        "id": "HWYPfbFJDfPf",
        "outputId": "ff1b6441-c876-4461-db3b-f5d5dd637ba6"
      },
      "execution_count": 98,
      "outputs": [
        {
          "output_type": "display_data",
          "data": {
            "text/plain": [
              "Generalized linear mixed model fit by maximum likelihood (Laplace\n",
              "  Approximation) [glmerMod]\n",
              " Family: binomial  ( logit )\n",
              "Formula: accent_chosen ~ IC + contour + musician + (1 | subject)\n",
              "   Data: df\n",
              "\n",
              "     AIC      BIC   logLik deviance df.resid \n",
              "  1497.2   1533.1   -741.6   1483.2     1241 \n",
              "\n",
              "Scaled residuals: \n",
              "    Min      1Q  Median      3Q     Max \n",
              "-2.3561 -0.6973 -0.3002  0.8078  2.9466 \n",
              "\n",
              "Random effects:\n",
              " Groups  Name        Variance Std.Dev.\n",
              " subject (Intercept) 1.863    1.365   \n",
              "Number of obs: 1248, groups:  subject, 78\n",
              "\n",
              "Fixed effects:\n",
              "             Estimate Std. Error z value Pr(>|z|)  \n",
              "(Intercept)  -0.41822    0.40288  -1.038   0.2992  \n",
              "IC1          -0.19439    0.16691  -1.165   0.2442  \n",
              "contourasc    0.05927    0.26362   0.225   0.8221  \n",
              "contourinv-U  0.51376    0.26829   1.915   0.0555 .\n",
              "contourU     -0.02215    0.25762  -0.086   0.9315  \n",
              "musician0    -0.25729    0.40127  -0.641   0.5214  \n",
              "---\n",
              "Signif. codes:  0 ‘***’ 0.001 ‘**’ 0.01 ‘*’ 0.05 ‘.’ 0.1 ‘ ’ 1\n",
              "\n",
              "Correlation of Fixed Effects:\n",
              "            (Intr) IC1    cntrsc cntr-U contrU\n",
              "IC1          0.013                            \n",
              "contourasc  -0.403 -0.004                     \n",
              "contournv-U -0.406 -0.478  0.598              \n",
              "contourU    -0.423 -0.425  0.627  0.825       \n",
              "musician0   -0.764  0.000  0.007  0.003  0.008"
            ]
          },
          "metadata": {}
        }
      ]
    },
    {
      "cell_type": "markdown",
      "metadata": {
        "id": "OhugDm-wQkn8"
      },
      "source": [
        "## Model comparisons"
      ]
    },
    {
      "cell_type": "code",
      "source": [
        "#drop contour\n",
        "model.nocontour <- update(model.full, ~ . - contour)\n",
        "anova(model.full, model.nocontour)"
      ],
      "metadata": {
        "colab": {
          "base_uri": "https://localhost:8080/",
          "height": 161
        },
        "id": "jKClmhRuvfId",
        "outputId": "22d59515-0998-4667-d017-3306ff956751"
      },
      "execution_count": 99,
      "outputs": [
        {
          "output_type": "display_data",
          "data": {
            "text/html": [
              "<table class=\"dataframe\">\n",
              "<caption>A anova: 2 × 8</caption>\n",
              "<thead>\n",
              "\t<tr><th></th><th scope=col>npar</th><th scope=col>AIC</th><th scope=col>BIC</th><th scope=col>logLik</th><th scope=col>deviance</th><th scope=col>Chisq</th><th scope=col>Df</th><th scope=col>Pr(&gt;Chisq)</th></tr>\n",
              "\t<tr><th></th><th scope=col>&lt;dbl&gt;</th><th scope=col>&lt;dbl&gt;</th><th scope=col>&lt;dbl&gt;</th><th scope=col>&lt;dbl&gt;</th><th scope=col>&lt;dbl&gt;</th><th scope=col>&lt;dbl&gt;</th><th scope=col>&lt;dbl&gt;</th><th scope=col>&lt;dbl&gt;</th></tr>\n",
              "</thead>\n",
              "<tbody>\n",
              "\t<tr><th scope=row>model.nocontour</th><td>4</td><td>1503.510</td><td>1524.027</td><td>-747.7551</td><td>1495.510</td><td>      NA</td><td>NA</td><td>         NA</td></tr>\n",
              "\t<tr><th scope=row>model.full</th><td>7</td><td>1497.162</td><td>1533.067</td><td>-741.5809</td><td>1483.162</td><td>12.34837</td><td> 3</td><td>0.006280271</td></tr>\n",
              "</tbody>\n",
              "</table>\n"
            ],
            "text/markdown": "\nA anova: 2 × 8\n\n| <!--/--> | npar &lt;dbl&gt; | AIC &lt;dbl&gt; | BIC &lt;dbl&gt; | logLik &lt;dbl&gt; | deviance &lt;dbl&gt; | Chisq &lt;dbl&gt; | Df &lt;dbl&gt; | Pr(&gt;Chisq) &lt;dbl&gt; |\n|---|---|---|---|---|---|---|---|---|\n| model.nocontour | 4 | 1503.510 | 1524.027 | -747.7551 | 1495.510 |       NA | NA |          NA |\n| model.full | 7 | 1497.162 | 1533.067 | -741.5809 | 1483.162 | 12.34837 |  3 | 0.006280271 |\n\n",
            "text/latex": "A anova: 2 × 8\n\\begin{tabular}{r|llllllll}\n  & npar & AIC & BIC & logLik & deviance & Chisq & Df & Pr(>Chisq)\\\\\n  & <dbl> & <dbl> & <dbl> & <dbl> & <dbl> & <dbl> & <dbl> & <dbl>\\\\\n\\hline\n\tmodel.nocontour & 4 & 1503.510 & 1524.027 & -747.7551 & 1495.510 &       NA & NA &          NA\\\\\n\tmodel.full & 7 & 1497.162 & 1533.067 & -741.5809 & 1483.162 & 12.34837 &  3 & 0.006280271\\\\\n\\end{tabular}\n",
            "text/plain": [
              "                npar AIC      BIC      logLik    deviance Chisq    Df\n",
              "model.nocontour 4    1503.510 1524.027 -747.7551 1495.510       NA NA\n",
              "model.full      7    1497.162 1533.067 -741.5809 1483.162 12.34837  3\n",
              "                Pr(>Chisq) \n",
              "model.nocontour          NA\n",
              "model.full      0.006280271"
            ]
          },
          "metadata": {}
        }
      ]
    },
    {
      "cell_type": "code",
      "source": [
        "#drop IC\n",
        "model.noIC <- update(model.full, ~. -IC)\n",
        "anova(model.full, model.noIC)\n"
      ],
      "metadata": {
        "colab": {
          "base_uri": "https://localhost:8080/",
          "height": 161
        },
        "id": "c_yQyIyCxjS4",
        "outputId": "e9ce14d0-8fcc-4c7c-9b9e-4a1486f15cc5"
      },
      "execution_count": 91,
      "outputs": [
        {
          "output_type": "display_data",
          "data": {
            "text/html": [
              "<table class=\"dataframe\">\n",
              "<caption>A anova: 2 × 8</caption>\n",
              "<thead>\n",
              "\t<tr><th></th><th scope=col>npar</th><th scope=col>AIC</th><th scope=col>BIC</th><th scope=col>logLik</th><th scope=col>deviance</th><th scope=col>Chisq</th><th scope=col>Df</th><th scope=col>Pr(&gt;Chisq)</th></tr>\n",
              "\t<tr><th></th><th scope=col>&lt;dbl&gt;</th><th scope=col>&lt;dbl&gt;</th><th scope=col>&lt;dbl&gt;</th><th scope=col>&lt;dbl&gt;</th><th scope=col>&lt;dbl&gt;</th><th scope=col>&lt;dbl&gt;</th><th scope=col>&lt;dbl&gt;</th><th scope=col>&lt;dbl&gt;</th></tr>\n",
              "</thead>\n",
              "<tbody>\n",
              "\t<tr><th scope=row>model.noIC</th><td>6</td><td>1496.492</td><td>1527.268</td><td>-742.2459</td><td>1484.492</td><td>      NA</td><td>NA</td><td>       NA</td></tr>\n",
              "\t<tr><th scope=row>model.full</th><td>7</td><td>1497.162</td><td>1533.067</td><td>-741.5809</td><td>1483.162</td><td>1.330084</td><td> 1</td><td>0.2487902</td></tr>\n",
              "</tbody>\n",
              "</table>\n"
            ],
            "text/markdown": "\nA anova: 2 × 8\n\n| <!--/--> | npar &lt;dbl&gt; | AIC &lt;dbl&gt; | BIC &lt;dbl&gt; | logLik &lt;dbl&gt; | deviance &lt;dbl&gt; | Chisq &lt;dbl&gt; | Df &lt;dbl&gt; | Pr(&gt;Chisq) &lt;dbl&gt; |\n|---|---|---|---|---|---|---|---|---|\n| model.noIC | 6 | 1496.492 | 1527.268 | -742.2459 | 1484.492 |       NA | NA |        NA |\n| model.full | 7 | 1497.162 | 1533.067 | -741.5809 | 1483.162 | 1.330084 |  1 | 0.2487902 |\n\n",
            "text/latex": "A anova: 2 × 8\n\\begin{tabular}{r|llllllll}\n  & npar & AIC & BIC & logLik & deviance & Chisq & Df & Pr(>Chisq)\\\\\n  & <dbl> & <dbl> & <dbl> & <dbl> & <dbl> & <dbl> & <dbl> & <dbl>\\\\\n\\hline\n\tmodel.noIC & 6 & 1496.492 & 1527.268 & -742.2459 & 1484.492 &       NA & NA &        NA\\\\\n\tmodel.full & 7 & 1497.162 & 1533.067 & -741.5809 & 1483.162 & 1.330084 &  1 & 0.2487902\\\\\n\\end{tabular}\n",
            "text/plain": [
              "           npar AIC      BIC      logLik    deviance Chisq    Df Pr(>Chisq)\n",
              "model.noIC 6    1496.492 1527.268 -742.2459 1484.492       NA NA        NA \n",
              "model.full 7    1497.162 1533.067 -741.5809 1483.162 1.330084  1 0.2487902 "
            ]
          },
          "metadata": {}
        }
      ]
    },
    {
      "cell_type": "code",
      "source": [
        "#drop musicianship\n",
        "model.nomus <- update(model.full, ~. -musician)\n",
        "anova(model.full, model.nomus)"
      ],
      "metadata": {
        "colab": {
          "base_uri": "https://localhost:8080/",
          "height": 161
        },
        "id": "f3-DiudO5YJ-",
        "outputId": "30517780-eea5-4168-809a-1c2b031467c0"
      },
      "execution_count": 92,
      "outputs": [
        {
          "output_type": "display_data",
          "data": {
            "text/html": [
              "<table class=\"dataframe\">\n",
              "<caption>A anova: 2 × 8</caption>\n",
              "<thead>\n",
              "\t<tr><th></th><th scope=col>npar</th><th scope=col>AIC</th><th scope=col>BIC</th><th scope=col>logLik</th><th scope=col>deviance</th><th scope=col>Chisq</th><th scope=col>Df</th><th scope=col>Pr(&gt;Chisq)</th></tr>\n",
              "\t<tr><th></th><th scope=col>&lt;dbl&gt;</th><th scope=col>&lt;dbl&gt;</th><th scope=col>&lt;dbl&gt;</th><th scope=col>&lt;dbl&gt;</th><th scope=col>&lt;dbl&gt;</th><th scope=col>&lt;dbl&gt;</th><th scope=col>&lt;dbl&gt;</th><th scope=col>&lt;dbl&gt;</th></tr>\n",
              "</thead>\n",
              "<tbody>\n",
              "\t<tr><th scope=row>model.nomus</th><td>6</td><td>1495.571</td><td>1526.347</td><td>-741.7855</td><td>1483.571</td><td>       NA</td><td>NA</td><td>       NA</td></tr>\n",
              "\t<tr><th scope=row>model.full</th><td>7</td><td>1497.162</td><td>1533.067</td><td>-741.5809</td><td>1483.162</td><td>0.4093026</td><td> 1</td><td>0.5223237</td></tr>\n",
              "</tbody>\n",
              "</table>\n"
            ],
            "text/markdown": "\nA anova: 2 × 8\n\n| <!--/--> | npar &lt;dbl&gt; | AIC &lt;dbl&gt; | BIC &lt;dbl&gt; | logLik &lt;dbl&gt; | deviance &lt;dbl&gt; | Chisq &lt;dbl&gt; | Df &lt;dbl&gt; | Pr(&gt;Chisq) &lt;dbl&gt; |\n|---|---|---|---|---|---|---|---|---|\n| model.nomus | 6 | 1495.571 | 1526.347 | -741.7855 | 1483.571 |        NA | NA |        NA |\n| model.full | 7 | 1497.162 | 1533.067 | -741.5809 | 1483.162 | 0.4093026 |  1 | 0.5223237 |\n\n",
            "text/latex": "A anova: 2 × 8\n\\begin{tabular}{r|llllllll}\n  & npar & AIC & BIC & logLik & deviance & Chisq & Df & Pr(>Chisq)\\\\\n  & <dbl> & <dbl> & <dbl> & <dbl> & <dbl> & <dbl> & <dbl> & <dbl>\\\\\n\\hline\n\tmodel.nomus & 6 & 1495.571 & 1526.347 & -741.7855 & 1483.571 &        NA & NA &        NA\\\\\n\tmodel.full & 7 & 1497.162 & 1533.067 & -741.5809 & 1483.162 & 0.4093026 &  1 & 0.5223237\\\\\n\\end{tabular}\n",
            "text/plain": [
              "            npar AIC      BIC      logLik    deviance Chisq     Df Pr(>Chisq)\n",
              "model.nomus 6    1495.571 1526.347 -741.7855 1483.571        NA NA        NA \n",
              "model.full  7    1497.162 1533.067 -741.5809 1483.162 0.4093026  1 0.5223237 "
            ]
          },
          "metadata": {}
        }
      ]
    }
  ],
  "metadata": {
    "colab": {
      "provenance": []
    },
    "kernelspec": {
      "display_name": "R",
      "name": "ir"
    },
    "language_info": {
      "name": "R"
    }
  },
  "nbformat": 4,
  "nbformat_minor": 0
}