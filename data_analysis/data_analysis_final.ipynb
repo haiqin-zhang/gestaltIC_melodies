{
 "cells": [
  {
   "cell_type": "code",
   "execution_count": 475,
   "metadata": {},
   "outputs": [],
   "source": [
    "import pandas as pd\n",
    "import numpy as np\n",
    "from scipy import stats\n",
    "\n",
    "import matplotlib.pyplot as plt\n",
    "import seaborn as sns\n",
    "\n",
    "import re\n",
    "import json\n",
    "import pickle as pkl\n",
    "from collections import Counter\n",
    "\n",
    "from patsy import dmatrices\n",
    "import statsmodels.api as sm\n",
    "\n",
    "import statistics as s\n",
    "\n"
   ]
  },
  {
   "cell_type": "markdown",
   "metadata": {},
   "source": [
    "## Loading data"
   ]
  },
  {
   "cell_type": "code",
   "execution_count": 476,
   "metadata": {},
   "outputs": [],
   "source": [
    "file = 'pilot_4participants.csv'\n",
    "#conditions = ['tonic G4', 'tonic Bb4', 'tonic C4']\n",
    "conditions = ['tonic G4']\n",
    "df = pd.read_csv(file)\n",
    "\n",
    "#directory for figures\n",
    "fig_dir = './figures/'"
   ]
  },
  {
   "cell_type": "code",
   "execution_count": 477,
   "metadata": {},
   "outputs": [
    {
     "name": "stdout",
     "output_type": "stream",
     "text": [
      "Internal subject IDs: ['tuyp2m', 'a237ah', 'j0nqx8', 'yb48ry']\n"
     ]
    }
   ],
   "source": [
    "#getting list of participants\n",
    "jspsych_ids = list(df['subject'].value_counts().index) \n",
    "print('Internal subject IDs:', jspsych_ids)\n",
    "\n",
    "#matching jspsych ids to prolific ids\n",
    "prolific_ids = []\n",
    "for i in jspsych_ids:\n",
    "    prolific_ids.append(json.loads(df[df['subject'] == i]['response'].iloc[0])['prolific_id'])\n",
    "\n",
    "ids = pd.DataFrame(data = {'prolific_id': prolific_ids, 'jspsych_id': jspsych_ids})"
   ]
  },
  {
   "cell_type": "code",
   "execution_count": 478,
   "metadata": {},
   "outputs": [],
   "source": [
    "#initializing valid participant list (participants included in analyses)\n",
    "participant_ids = jspsych_ids\n",
    "valid_participant_ids = participant_ids"
   ]
  },
  {
   "cell_type": "code",
   "execution_count": 479,
   "metadata": {},
   "outputs": [],
   "source": [
    "\"\"\"UTILS\"\"\"\n",
    "\n",
    "\n",
    "#calculating participant scores over correct columns\n",
    "#takes the 'correct' column of a df as input\n",
    "#used for exposure phase screening and scoring of fc tasks\n",
    "def calculate_score(correct_column):\n",
    "    if True in correct_column.value_counts():\n",
    "        num_correct = correct_column.value_counts()[True]\n",
    "        total_trials = len(correct_column)\n",
    "        percent_correct = num_correct/total_trials*100\n",
    "    else:\n",
    "        percent_correct = 0\n",
    "    return percent_correct\n",
    "\n",
    "def plot_regression(x, y, xmin, xmax):\n",
    "    regression_x = np.linspace(xmin, xmax, 30)\n",
    "    coefs = np.polyfit(x, y, 1)\n",
    "    f = np.poly1d(coefs)\n",
    "    regression_y = f(regression_x)\n",
    "    plt.plot(regression_x, regression_y, color = 'grey', alpha = 0.3)\n",
    "\n",
    "#functions stolen from elsewhere\n",
    "\n",
    "# calculate Cohen's d for independent samples\n",
    "def cohend(d1, d2):\n",
    " n1, n2 = len(d1), len(d2)\n",
    " # calculate the variance of the samples\n",
    " s1, s2 = np.var(d1, ddof=1), np.var(d2, ddof=1)\n",
    " # calculate the pooled standard deviation\n",
    " s = np.sqrt(((n1 - 1) * s1 + (n2 - 1) * s2) / (n1 + n2 - 2))\n",
    " # calculate the means of the samples\n",
    " u1, u2 = np.mean(d1), np.mean(d2)\n",
    " # calculate the effect size\n",
    " return (u1 - u2) / s\n",
    "\n",
    "#calculate 95% ci\n",
    "def ci_95(y): #takes a list\n",
    "    std = np.std(y)\n",
    "    sem = std / np.sqrt(len(y))\n",
    "    ci = 1.96 * sem\n",
    "    return ci"
   ]
  },
  {
   "attachments": {},
   "cell_type": "markdown",
   "metadata": {},
   "source": [
    "## PART 1: Exposure phase "
   ]
  },
  {
   "attachments": {},
   "cell_type": "markdown",
   "metadata": {},
   "source": [
    "Soundcheck"
   ]
  },
  {
   "cell_type": "code",
   "execution_count": 480,
   "metadata": {},
   "outputs": [],
   "source": [
    "#how many participants answered default soundchecks correctly\n",
    "soundcheck_df = df[df['task']=='soundcheck']\n",
    "\n",
    "soundcheck_score = []\n",
    "\n",
    "for i in participant_ids: \n",
    "    soundcheck_trials = soundcheck_df[soundcheck_df['subject'] == i]\n",
    "    percent_correct = calculate_score(soundcheck_trials['correct'])\n",
    "    soundcheck_score.append(percent_correct)\n",
    "\n",
    "#making list of participants who failed soundchecks\n",
    "soundcheck_failed = [x for x in participant_ids if soundcheck_score[participant_ids.index(x)]<50]"
   ]
  },
  {
   "attachments": {},
   "cell_type": "markdown",
   "metadata": {},
   "source": [
    "Attention check"
   ]
  },
  {
   "cell_type": "code",
   "execution_count": 481,
   "metadata": {},
   "outputs": [
    {
     "name": "stdout",
     "output_type": "stream",
     "text": [
      "tuyp2m 93.75\n",
      "a237ah 100.0\n",
      "j0nqx8 100.0\n",
      "yb48ry 100.0\n"
     ]
    }
   ],
   "source": [
    "#finding all exposure trials\n",
    "exposure_df = df[df['subtask']=='attncheck']\n",
    "\n",
    "#screening for participants who answered the exposure questions correctly\n",
    "#creates a list of trials where the correct response rate < 80%\n",
    "invalid_trials = []\n",
    "attn_score = []\n",
    "\n",
    "for i in participant_ids: \n",
    "    exposure_trials = exposure_df[exposure_df['subject'] == i]\n",
    "\n",
    "    percent_correct = calculate_score(exposure_trials['correct'])\n",
    "    print(i,percent_correct)\n",
    "    \n",
    "    attn_score.append(percent_correct)"
   ]
  },
  {
   "cell_type": "code",
   "execution_count": 482,
   "metadata": {},
   "outputs": [
    {
     "data": {
      "text/plain": [
       "[Text(0.5, 23.52222222222222, 'Test type'),\n",
       " Text(38.097222222222214, 0.5, 'Score')]"
      ]
     },
     "execution_count": 482,
     "metadata": {},
     "output_type": "execute_result"
    },
    {
     "data": {
      "image/png": "[encoded data removed]",
      "text/plain": [
       "<Figure size 640x480 with 1 Axes>"
      ]
     },
     "metadata": {},
     "output_type": "display_data"
    }
   ],
   "source": [
    "#soundcheck and attention scores\n",
    "soundcheck_scores = pd.DataFrame([soundcheck_score]).transpose()\n",
    "soundcheck_scores['type'] = 'soundcheck'\n",
    "\n",
    "attn_scores = pd.DataFrame([attn_score]).transpose()\n",
    "attn_scores['type'] = 'attention'\n",
    "exposure_scores = pd.concat([soundcheck_scores, attn_scores])\n",
    "exposure_scores.columns = ['score', 'type']\n",
    "\n",
    "ax = sns.barplot(data = exposure_scores, x = 'type', y = 'score')\n",
    "ax = sns.swarmplot(data = exposure_scores, x = 'type', y = 'score', color = 'black')\n",
    "ax.axhline(60, color = 'grey', linestyle = '--')\n",
    "ax.set(xlabel='Test type', ylabel='Score')"
   ]
  },
  {
   "attachments": {},
   "cell_type": "markdown",
   "metadata": {},
   "source": [
    "Attention check by difficulty"
   ]
  },
  {
   "cell_type": "code",
   "execution_count": 483,
   "metadata": {},
   "outputs": [
    {
     "name": "stderr",
     "output_type": "stream",
     "text": [
      "/var/folders/18/hp_602x50x34x_4p_qjc80g40000gn/T/ipykernel_38037/2667865876.py:12: SettingWithCopyWarning: \n",
      "A value is trying to be set on a copy of a slice from a DataFrame.\n",
      "Try using .loc[row_indexer,col_indexer] = value instead\n",
      "\n",
      "See the caveats in the documentation: https://pandas.pydata.org/pandas-docs/stable/user_guide/indexing.html#returning-a-view-versus-a-copy\n",
      "  exposure_df['attn_diff'] = exposure_df['stimulus'].map(define_diff)\n"
     ]
    }
   ],
   "source": [
    "def define_diff(x):\n",
    "    easy = re.search('easy', str(x))\n",
    "    int = re.search('int', str(x))\n",
    "    hard = re.search('hard', str(x))\n",
    "    if easy: \n",
    "        return 'easy'\n",
    "    elif int: \n",
    "        return 'int'\n",
    "    elif hard:\n",
    "        return 'hard'\n",
    "\n",
    "exposure_df['attn_diff'] = exposure_df['stimulus'].map(define_diff)"
   ]
  },
  {
   "cell_type": "code",
   "execution_count": 484,
   "metadata": {},
   "outputs": [
    {
     "data": {
      "text/plain": [
       "[Text(0.5, 23.52222222222222, 'Attention test difficulty'),\n",
       " Text(38.097222222222214, 0.5, 'Score')]"
      ]
     },
     "execution_count": 484,
     "metadata": {},
     "output_type": "execute_result"
    },
    {
     "data": {
      "image/png": "[encoded data removed]",
      "text/plain": [
       "<Figure size 640x480 with 1 Axes>"
      ]
     },
     "metadata": {},
     "output_type": "display_data"
    }
   ],
   "source": [
    "#putting data into df to plot with sns\n",
    "\n",
    "attn_scores_easy = []\n",
    "attn_scores_int = []\n",
    "attn_scores_hard = []\n",
    "\n",
    "for i in participant_ids: \n",
    "    easy_trials = exposure_df[(exposure_df['subject'] == i) & (exposure_df['attn_diff'] == 'easy')]\n",
    "    int_trials = exposure_df[(exposure_df['subject'] == i) & (exposure_df['attn_diff'] == 'int')]\n",
    "    hard_trials = exposure_df[(exposure_df['subject'] == i) & (exposure_df['attn_diff'] == 'hard')]\n",
    "\n",
    "\n",
    "    easy_score = calculate_score(easy_trials['correct'])\n",
    "    int_score = calculate_score(int_trials['correct'])\n",
    "    hard_score = calculate_score(hard_trials['correct'])\n",
    "    \n",
    "    attn_scores_easy.append(easy_score)\n",
    "    attn_scores_int.append(int_score)\n",
    "    attn_scores_hard.append(hard_score)\n",
    "\n",
    "df_easy = pd.DataFrame(data = {'participant': participant_ids, 'score': attn_scores_easy, 'difficulty': 'easy'})\n",
    "df_int = pd.DataFrame(data = {'participant': participant_ids, 'score': attn_scores_int, 'difficulty': 'int'})\n",
    "df_hard = pd.DataFrame(data = {'participant': participant_ids, 'score': attn_scores_hard, 'difficulty': 'hard'})\n",
    "\n",
    "attn_scores_bydiff = pd.DataFrame()\n",
    "attn_scores_bydiff = pd.concat([df_easy, df_int, df_hard])\n",
    "\n",
    "ax = sns.barplot(data = attn_scores_bydiff, x = 'difficulty', y = 'score')\n",
    "ax = sns.swarmplot(data = attn_scores_bydiff, x = 'difficulty', y = 'score', color = 'black')\n",
    "#ax.axhline(60, color = 'grey', linestyle = '--')\n",
    "ax.set(xlabel='Attention test difficulty', ylabel='Score')\n",
    "\n",
    "#plt.savefig(fig_dir+'attn_test_scores.png', dpi = 300)"
   ]
  },
  {
   "attachments": {},
   "cell_type": "markdown",
   "metadata": {},
   "source": [
    "Grammar learning"
   ]
  },
  {
   "cell_type": "code",
   "execution_count": 485,
   "metadata": {},
   "outputs": [
    {
     "name": "stderr",
     "output_type": "stream",
     "text": [
      "/var/folders/18/hp_602x50x34x_4p_qjc80g40000gn/T/ipykernel_38037/1653981478.py:9: SettingWithCopyWarning: \n",
      "A value is trying to be set on a copy of a slice from a DataFrame.\n",
      "Try using .loc[row_indexer,col_indexer] = value instead\n",
      "\n",
      "See the caveats in the documentation: https://pandas.pydata.org/pandas-docs/stable/user_guide/indexing.html#returning-a-view-versus-a-copy\n",
      "  df_learning['grammaticality'] = df_learning['stimulus'].map(map_grammaticality)\n",
      "/var/folders/18/hp_602x50x34x_4p_qjc80g40000gn/T/ipykernel_38037/1653981478.py:10: SettingWithCopyWarning: \n",
      "A value is trying to be set on a copy of a slice from a DataFrame.\n",
      "Try using .loc[row_indexer,col_indexer] = value instead\n",
      "\n",
      "See the caveats in the documentation: https://pandas.pydata.org/pandas-docs/stable/user_guide/indexing.html#returning-a-view-versus-a-copy\n",
      "  df_learning['response'] = pd.to_numeric(df_learning['response'])\n"
     ]
    },
    {
     "data": {
      "text/html": [
       "<div>\n",
       "<style scoped>\n",
       "    .dataframe tbody tr th:only-of-type {\n",
       "        vertical-align: middle;\n",
       "    }\n",
       "\n",
       "    .dataframe tbody tr th {\n",
       "        vertical-align: top;\n",
       "    }\n",
       "\n",
       "    .dataframe thead th {\n",
       "        text-align: right;\n",
       "    }\n",
       "</style>\n",
       "<table border=\"1\" class=\"dataframe\">\n",
       "  <thead>\n",
       "    <tr style=\"text-align: right;\">\n",
       "      <th></th>\n",
       "      <th>rt</th>\n",
       "      <th>response</th>\n",
       "      <th>trial_type</th>\n",
       "      <th>trial_index</th>\n",
       "      <th>time_elapsed</th>\n",
       "      <th>internal_node_id</th>\n",
       "      <th>run_id</th>\n",
       "      <th>condition</th>\n",
       "      <th>recorded_at</th>\n",
       "      <th>source_code_version</th>\n",
       "      <th>...</th>\n",
       "      <th>task</th>\n",
       "      <th>correct</th>\n",
       "      <th>subtask</th>\n",
       "      <th>slider_start</th>\n",
       "      <th>accent</th>\n",
       "      <th>high_IC</th>\n",
       "      <th>accent_chosen</th>\n",
       "      <th>high_IC_chosen</th>\n",
       "      <th>question_order</th>\n",
       "      <th>grammaticality</th>\n",
       "    </tr>\n",
       "  </thead>\n",
       "  <tbody>\n",
       "    <tr>\n",
       "      <th>79</th>\n",
       "      <td>16880.0</td>\n",
       "      <td>6</td>\n",
       "      <td>audio-slider-response</td>\n",
       "      <td>79</td>\n",
       "      <td>1401608</td>\n",
       "      <td>0.0-19.0-0.0</td>\n",
       "      <td>3</td>\n",
       "      <td>tonic G4</td>\n",
       "      <td>2024-04-30 12:07:05</td>\n",
       "      <td>82b5fab46a22c85f845190e7e39286c1</td>\n",
       "      <td>...</td>\n",
       "      <td>grammar_learning</td>\n",
       "      <td>NaN</td>\n",
       "      <td>NaN</td>\n",
       "      <td>4.0</td>\n",
       "      <td>NaN</td>\n",
       "      <td>NaN</td>\n",
       "      <td>NaN</td>\n",
       "      <td>NaN</td>\n",
       "      <td>NaN</td>\n",
       "      <td>agrammatical</td>\n",
       "    </tr>\n",
       "    <tr>\n",
       "      <th>80</th>\n",
       "      <td>15469.0</td>\n",
       "      <td>5</td>\n",
       "      <td>audio-slider-response</td>\n",
       "      <td>80</td>\n",
       "      <td>1417088</td>\n",
       "      <td>0.0-19.0-0.1</td>\n",
       "      <td>3</td>\n",
       "      <td>tonic G4</td>\n",
       "      <td>2024-04-30 12:07:05</td>\n",
       "      <td>82b5fab46a22c85f845190e7e39286c1</td>\n",
       "      <td>...</td>\n",
       "      <td>grammar_learning</td>\n",
       "      <td>NaN</td>\n",
       "      <td>NaN</td>\n",
       "      <td>4.0</td>\n",
       "      <td>NaN</td>\n",
       "      <td>NaN</td>\n",
       "      <td>NaN</td>\n",
       "      <td>NaN</td>\n",
       "      <td>NaN</td>\n",
       "      <td>grammatical</td>\n",
       "    </tr>\n",
       "    <tr>\n",
       "      <th>81</th>\n",
       "      <td>6880.0</td>\n",
       "      <td>6</td>\n",
       "      <td>audio-slider-response</td>\n",
       "      <td>81</td>\n",
       "      <td>1424252</td>\n",
       "      <td>0.0-19.0-0.2</td>\n",
       "      <td>3</td>\n",
       "      <td>tonic G4</td>\n",
       "      <td>2024-04-30 12:07:05</td>\n",
       "      <td>82b5fab46a22c85f845190e7e39286c1</td>\n",
       "      <td>...</td>\n",
       "      <td>grammar_learning</td>\n",
       "      <td>NaN</td>\n",
       "      <td>NaN</td>\n",
       "      <td>4.0</td>\n",
       "      <td>NaN</td>\n",
       "      <td>NaN</td>\n",
       "      <td>NaN</td>\n",
       "      <td>NaN</td>\n",
       "      <td>NaN</td>\n",
       "      <td>agrammatical</td>\n",
       "    </tr>\n",
       "    <tr>\n",
       "      <th>82</th>\n",
       "      <td>8229.0</td>\n",
       "      <td>3</td>\n",
       "      <td>audio-slider-response</td>\n",
       "      <td>82</td>\n",
       "      <td>1432712</td>\n",
       "      <td>0.0-19.0-0.3</td>\n",
       "      <td>3</td>\n",
       "      <td>tonic G4</td>\n",
       "      <td>2024-04-30 12:07:05</td>\n",
       "      <td>82b5fab46a22c85f845190e7e39286c1</td>\n",
       "      <td>...</td>\n",
       "      <td>grammar_learning</td>\n",
       "      <td>NaN</td>\n",
       "      <td>NaN</td>\n",
       "      <td>4.0</td>\n",
       "      <td>NaN</td>\n",
       "      <td>NaN</td>\n",
       "      <td>NaN</td>\n",
       "      <td>NaN</td>\n",
       "      <td>NaN</td>\n",
       "      <td>agrammatical</td>\n",
       "    </tr>\n",
       "    <tr>\n",
       "      <th>83</th>\n",
       "      <td>9629.0</td>\n",
       "      <td>6</td>\n",
       "      <td>audio-slider-response</td>\n",
       "      <td>83</td>\n",
       "      <td>1442667</td>\n",
       "      <td>0.0-19.0-0.4</td>\n",
       "      <td>3</td>\n",
       "      <td>tonic G4</td>\n",
       "      <td>2024-04-30 12:07:05</td>\n",
       "      <td>82b5fab46a22c85f845190e7e39286c1</td>\n",
       "      <td>...</td>\n",
       "      <td>grammar_learning</td>\n",
       "      <td>NaN</td>\n",
       "      <td>NaN</td>\n",
       "      <td>4.0</td>\n",
       "      <td>NaN</td>\n",
       "      <td>NaN</td>\n",
       "      <td>NaN</td>\n",
       "      <td>NaN</td>\n",
       "      <td>NaN</td>\n",
       "      <td>grammatical</td>\n",
       "    </tr>\n",
       "  </tbody>\n",
       "</table>\n",
       "<p>5 rows × 31 columns</p>\n",
       "</div>"
      ],
      "text/plain": [
       "         rt  response             trial_type  trial_index  time_elapsed  \\\n",
       "79  16880.0         6  audio-slider-response           79       1401608   \n",
       "80  15469.0         5  audio-slider-response           80       1417088   \n",
       "81   6880.0         6  audio-slider-response           81       1424252   \n",
       "82   8229.0         3  audio-slider-response           82       1432712   \n",
       "83   9629.0         6  audio-slider-response           83       1442667   \n",
       "\n",
       "   internal_node_id  run_id condition          recorded_at  \\\n",
       "79     0.0-19.0-0.0       3  tonic G4  2024-04-30 12:07:05   \n",
       "80     0.0-19.0-0.1       3  tonic G4  2024-04-30 12:07:05   \n",
       "81     0.0-19.0-0.2       3  tonic G4  2024-04-30 12:07:05   \n",
       "82     0.0-19.0-0.3       3  tonic G4  2024-04-30 12:07:05   \n",
       "83     0.0-19.0-0.4       3  tonic G4  2024-04-30 12:07:05   \n",
       "\n",
       "                 source_code_version  ...              task correct subtask  \\\n",
       "79  82b5fab46a22c85f845190e7e39286c1  ...  grammar_learning     NaN     NaN   \n",
       "80  82b5fab46a22c85f845190e7e39286c1  ...  grammar_learning     NaN     NaN   \n",
       "81  82b5fab46a22c85f845190e7e39286c1  ...  grammar_learning     NaN     NaN   \n",
       "82  82b5fab46a22c85f845190e7e39286c1  ...  grammar_learning     NaN     NaN   \n",
       "83  82b5fab46a22c85f845190e7e39286c1  ...  grammar_learning     NaN     NaN   \n",
       "\n",
       "   slider_start accent high_IC  accent_chosen high_IC_chosen question_order  \\\n",
       "79          4.0    NaN     NaN            NaN            NaN            NaN   \n",
       "80          4.0    NaN     NaN            NaN            NaN            NaN   \n",
       "81          4.0    NaN     NaN            NaN            NaN            NaN   \n",
       "82          4.0    NaN     NaN            NaN            NaN            NaN   \n",
       "83          4.0    NaN     NaN            NaN            NaN            NaN   \n",
       "\n",
       "   grammaticality  \n",
       "79   agrammatical  \n",
       "80    grammatical  \n",
       "81   agrammatical  \n",
       "82   agrammatical  \n",
       "83    grammatical  \n",
       "\n",
       "[5 rows x 31 columns]"
      ]
     },
     "execution_count": 485,
     "metadata": {},
     "output_type": "execute_result"
    }
   ],
   "source": [
    "df_learning = df[df['task'] == 'grammar_learning']\n",
    "\n",
    "def map_grammaticality(x):\n",
    "    if x[0:2] == 'gr':\n",
    "        return 'grammatical'\n",
    "    elif x[0:2] == 'ag':\n",
    "        return 'agrammatical'\n",
    "\n",
    "df_learning['grammaticality'] = df_learning['stimulus'].map(map_grammaticality)\n",
    "df_learning['response'] = pd.to_numeric(df_learning['response'])\n",
    "df_learning.head()"
   ]
  },
  {
   "cell_type": "code",
   "execution_count": 486,
   "metadata": {},
   "outputs": [
    {
     "data": {
      "text/plain": [
       "<matplotlib.legend.Legend at 0x286134070>"
      ]
     },
     "execution_count": 486,
     "metadata": {},
     "output_type": "execute_result"
    },
    {
     "data": {
      "image/png": "[encoded data removed]",
      "text/plain": [
       "<Figure size 700x500 with 1 Axes>"
      ]
     },
     "metadata": {},
     "output_type": "display_data"
    }
   ],
   "source": [
    "#grammatical learning difference \n",
    "fig = plt.figure(figsize = (7,5))\n",
    "ax = fig.add_axes([0.1, 0.1, 0.8, 0.8]) \n",
    "#ax.set_xlim(0.75, 2.25)\n",
    "ax.set_ylim(0,7)\n",
    "ax.set_xticks(np.arange(1, len(valid_participant_ids)+1))\n",
    "#ax.set_xticklabels(valid_participant_ids)\n",
    "ax.set_ylabel('Similarity rating')\n",
    "ax.set_xlabel('Participant index')\n",
    "\n",
    "\n",
    "grammatical_means = []\n",
    "agrammatical_means = []\n",
    "grammatical_ci = []\n",
    "agrammatical_ci = []\n",
    "grammar_subj_stats = []\n",
    "\n",
    "for i in valid_participant_ids:\n",
    "    #grammatical_means.append(df_learning[(df_learning['subject']==i) & (df_learning['grammaticality'] == 'grammatical')]['response'].mean())\n",
    "    subj_mean_grammatical = df_learning[(df_learning['subject']==i) & (df_learning['grammaticality'] == 'grammatical')]['response']\n",
    "    grammatical_means.append(subj_mean_grammatical.mean())\n",
    "    #agrammatical_means.append(df_learning[(df_learning['subject']==i) & (df_learning['grammaticality'] == 'agrammatical')]['response'].mean())\n",
    "    subj_mean_agrammatical = df_learning[(df_learning['subject']==i) & (df_learning['grammaticality'] == 'agrammatical')]['response']\n",
    "    agrammatical_means.append(subj_mean_agrammatical.mean())\n",
    "\n",
    "    #testing whether participant had significantly different responses\n",
    "    subj_stat = stats.ttest_rel(subj_mean_grammatical, subj_mean_agrammatical)\n",
    "    grammar_subj_stats.append(subj_stat)\n",
    "    #calculating CI95\n",
    "    grammatical_ci.append(ci_95(df_learning[(df_learning['subject']==i) & (df_learning['grammaticality'] == 'grammatical')]['response']))\n",
    "    agrammatical_ci.append(ci_95(df_learning[(df_learning['subject']==i) & (df_learning['grammaticality'] == 'agrammatical')]['response']))\n",
    "\n",
    "ax.errorbar(np.arange(1, len(grammatical_means)+1), grammatical_means, yerr = grammatical_ci,label = 'grammatical', fmt = 'o')\n",
    "ax.errorbar(np.arange(1, len(agrammatical_means)+1), agrammatical_means, yerr = agrammatical_ci,label = 'agrammatical', fmt = 'o')\n",
    "ax.legend()\n",
    "\n",
    "#plt.savefig(fig_dir+'grammar_learning_error.png', dpi = 300)"
   ]
  },
  {
   "cell_type": "code",
   "execution_count": 487,
   "metadata": {},
   "outputs": [
    {
     "data": {
      "text/plain": [
       "[TtestResult(statistic=1.2104198771788934, pvalue=0.2653980394260696, df=7),\n",
       " TtestResult(statistic=0.7808688094430304, pvalue=0.4604668317856171, df=7),\n",
       " TtestResult(statistic=5.136595699937399, pvalue=0.001343793878100284, df=7),\n",
       " TtestResult(statistic=-0.11438580396855509, pvalue=0.9121437748043706, df=7)]"
      ]
     },
     "execution_count": 487,
     "metadata": {},
     "output_type": "execute_result"
    }
   ],
   "source": [
    "#statistics about grammar learning\n",
    "grammar_subj_stats"
   ]
  },
  {
   "cell_type": "code",
   "execution_count": 488,
   "metadata": {},
   "outputs": [
    {
     "name": "stdout",
     "output_type": "stream",
     "text": [
      "TtestResult(statistic=1.4943191395152677, pvalue=0.23195190221215223, df=3)\n"
     ]
    },
    {
     "data": {
      "text/plain": [
       "Text(2, 1, '$t$ = 1.494\\n$p$ < 0.001 ')"
      ]
     },
     "execution_count": 488,
     "metadata": {},
     "output_type": "execute_result"
    },
    {
     "data": {
      "image/png": "[encoded data removed]",
      "text/plain": [
       "<Figure size 640x480 with 1 Axes>"
      ]
     },
     "metadata": {},
     "output_type": "display_data"
    }
   ],
   "source": [
    "#grammar learning within subject\n",
    "fig = plt.figure()\n",
    "ax = fig.add_axes([0.1, 0.1, 0.8, 0.8]) \n",
    "ax.set_xlim(0.75, 2.25)\n",
    "ax.set_ylim(0,7)\n",
    "ax.set_xticks([1,2])\n",
    "ax.set_xticklabels(['grammatical', 'agrammatical'])\n",
    "ax.set_ylabel('Similarity rating')\n",
    "#paxlt.set_xlabel()\n",
    "\n",
    "grammar_test_failed = []\n",
    "grammar_cohend = []\n",
    "\n",
    "for i in valid_participant_ids:\n",
    "    grammatical_mean = df_learning[(df_learning['subject']==i) & (df_learning['grammaticality'] == 'grammatical')]['response'].mean()\n",
    "   # grammatical_ci = ci_95(df_learning[(df_learning['subject']==i) & (df_learning['grammaticality'] == 'grammatical')]['response'])\n",
    "    agrammatical_mean = df_learning[(df_learning['subject']==i) & (df_learning['grammaticality'] == 'agrammatical')]['response'].mean()\n",
    "    ax.plot([1,2], [grammatical_mean, agrammatical_mean], 'o-', color = 'grey')\n",
    "    #ax.errorbar([1,2], [grammatical_mean, agrammatical_mean], yerr= [grammatical_ci,1], fmt = 'o-')\n",
    "\n",
    "    #eliminating participants who didn't learn the grammar\n",
    "    if agrammatical_mean > grammatical_mean or agrammatical_mean == grammatical_mean:\n",
    "        grammar_test_failed.append(i)\n",
    "    \n",
    "    cohend_current = cohend(df_learning[(df_learning['subject']==i) & (df_learning['grammaticality'] == 'grammatical')]['response'], df_learning[(df_learning['subject']==i) & (df_learning['grammaticality'] == 'agrammatical')]['response'])\n",
    "    grammar_cohend.append(cohend_current)\n",
    "\n",
    "#testing over all data points\n",
    "grammar_res = stats.ttest_rel(grammatical_means, agrammatical_means)\n",
    "print(grammar_res)\n",
    "plt.text(2,1, '$t$ = '+str(round(grammar_res.statistic, 3))+'\\n$p$ < 0.001 ')\n",
    "#plt.savefig(fig_dir'grammar_learning_within.png', dpi = 300)"
   ]
  },
  {
   "attachments": {},
   "cell_type": "markdown",
   "metadata": {},
   "source": [
    "### Filtering Participants"
   ]
  },
  {
   "cell_type": "code",
   "execution_count": 489,
   "metadata": {},
   "outputs": [],
   "source": [
    "#extracting survey trials\n",
    "survey = df[df['task']=='survey'] "
   ]
  },
  {
   "cell_type": "code",
   "execution_count": 490,
   "metadata": {},
   "outputs": [
    {
     "name": "stdout",
     "output_type": "stream",
     "text": [
      "Mean birth year:  1997.75\n",
      "Median birth year:  1998.0\n",
      "Std birth year:  3.304037933599835\n"
     ]
    }
   ],
   "source": [
    "#birth year\n",
    "age_labels =[int(x) for x in np.linspace(1920, 2020, 101).tolist()]\n",
    "age_values = np.zeros(len(age_labels))\n",
    "\n",
    "ages = []\n",
    "for i in valid_participant_ids:\n",
    "    #if int(json.loads(survey[survey['subject'] == i]['response'].iloc[1])['age']) == True:\n",
    "    age = json.loads(survey[survey['subject'] == i]['response'].iloc[1])['age']\n",
    "    #label_index = age_labels.index(age)\n",
    "    #age_values[label_index] +=1\n",
    "    ages.append(age)\n",
    "\n",
    "#ages.remove('05th March 1982')\n",
    "#ages.append('1982')\n",
    "ages = [int(x) for x in ages]\n",
    "\"\"\"fig = plt.figure()\n",
    "fig.set_facecolor('white')\n",
    "\n",
    "plt.title('Use of headphones')\n",
    "\"\"\"\n",
    "#plt.savefig('supp_headphone_use.png', dpi = 300)\n",
    "\n",
    "print('Mean birth year: ', s.mean(ages))\n",
    "print('Median birth year: ', s.median(ages))\n",
    "print('Std birth year: ',s.stdev(ages))"
   ]
  },
  {
   "cell_type": "code",
   "execution_count": 491,
   "metadata": {},
   "outputs": [
    {
     "data": {
      "text/plain": [
       "Text(0.5, 1.0, 'Use of headphones')"
      ]
     },
     "execution_count": 491,
     "metadata": {},
     "output_type": "execute_result"
    },
    {
     "data": {
      "image/png": "[encoded data removed]",
      "text/plain": [
       "<Figure size 640x480 with 1 Axes>"
      ]
     },
     "metadata": {},
     "output_type": "display_data"
    }
   ],
   "source": [
    "#headphone use\n",
    "headphones_labels = ['Yes, I used headphones', 'Yes, I used earbuds', 'No, I used computer speakers']\n",
    "headphones_values = np.zeros(len(headphones_labels))\n",
    "\n",
    "\n",
    "for i in valid_participant_ids:\n",
    "    headphone = json.loads(survey[survey['subject'] == i]['response'].iloc[0])['HeadphoneUse']\n",
    "    label_index = headphones_labels.index(headphone)\n",
    "    headphones_values[label_index] +=1\n",
    "\n",
    "fig = plt.figure()\n",
    "fig.set_facecolor('white')\n",
    "plt.pie(headphones_values, labels = headphones_labels)\n",
    "plt.title('Use of headphones')\n",
    "\n",
    "#plt.savefig(fig_dir+'supp_headphone_use.png', dpi = 300)"
   ]
  },
  {
   "attachments": {},
   "cell_type": "markdown",
   "metadata": {},
   "source": [
    "Training years"
   ]
  },
  {
   "cell_type": "code",
   "execution_count": 492,
   "metadata": {},
   "outputs": [
    {
     "data": {
      "text/plain": [
       "Text(0.5, 1.0, 'Years of formal music education')"
      ]
     },
     "execution_count": 492,
     "metadata": {},
     "output_type": "execute_result"
    },
    {
     "data": {
      "image/png": "[encoded data removed]",
      "text/plain": [
       "<Figure size 640x480 with 1 Axes>"
      ]
     },
     "metadata": {},
     "output_type": "display_data"
    }
   ],
   "source": [
    "#musical background\n",
    "training_labels = ['None at all', 'Less than 1 year', '1-4 years', '5-7 years', '7-10 years', 'Over 10 years']\n",
    "training_values = np.zeros(len(training_labels))\n",
    "\n",
    "#musicians = []\n",
    "musicians_57 = []\n",
    "musicians_710 = []\n",
    "musicians_10 = []\n",
    "nonmusicians = []\n",
    "\n",
    "for i in valid_participant_ids:\n",
    "    training = json.loads(survey[survey['subject'] == i]['response'].iloc[4])['TrainingYears'] #forgot to change the label of this question but should be TrainingYears\n",
    "    label_index = training_labels.index(training)\n",
    "    training_values[label_index] +=1\n",
    "\n",
    "    #if training == '1-4 years':\n",
    "    if training == '5-7 years':\n",
    "        musicians_57.append(i)\n",
    "    elif training == '7-10 years':\n",
    "        musicians_710.append(i)\n",
    "    elif training == 'Over 10 years':\n",
    "        musicians_10.append(i)\n",
    "    #if training == '1-4 years' or training == '5-7 years':\n",
    "    #if training == '5-7 years' or training == 'Over 10 years' or training == '1-4 years':\n",
    "        #musicians.append(i)\n",
    "\n",
    "    elif training == 'None at all':\n",
    "        nonmusicians.append(i)\n",
    "\n",
    "fig = plt.figure()\n",
    "fig.set_facecolor('white')\n",
    "plt.pie(training_values, labels = training_labels)\n",
    "plt.title('Years of formal music education')\n",
    "\n",
    "#plt.savefig(fig_dir+'supp_music_training.png', dpi = 300)"
   ]
  },
  {
   "attachments": {},
   "cell_type": "markdown",
   "metadata": {},
   "source": [
    "Expertise"
   ]
  },
  {
   "cell_type": "code",
   "execution_count": 493,
   "metadata": {},
   "outputs": [
    {
     "data": {
      "text/plain": [
       "Text(0.5, 1.0, 'Self-reported musical expertise')"
      ]
     },
     "execution_count": 493,
     "metadata": {},
     "output_type": "execute_result"
    },
    {
     "data": {
      "image/png": "[encoded data removed]",
      "text/plain": [
       "<Figure size 640x480 with 1 Axes>"
      ]
     },
     "metadata": {},
     "output_type": "display_data"
    }
   ],
   "source": [
    "training_labels = ['Beginner', 'Intermediate', 'Advanced', 'Professional']\n",
    "training_values = np.zeros(len(training_labels))\n",
    "\n",
    "beginners = []\n",
    "intermediate = []\n",
    "advanced = []\n",
    "professional = []\n",
    "\n",
    "for i in valid_participant_ids:\n",
    "    training = json.loads(survey[survey['subject'] == i]['response'].iloc[4])['Expertise'] #forgot to change the label of this question but should be TrainingYears\n",
    "    label_index = training_labels.index(training)\n",
    "    training_values[label_index] +=1\n",
    "\n",
    "    if training == 'Beginner':\n",
    "        beginners.append(i)\n",
    "    elif training == 'Intermediate':\n",
    "        intermediate.append(i)\n",
    "    elif training == 'Advanced':\n",
    "        advanced.append(i)\n",
    "    elif training == 'Professional':\n",
    "        professional.append(i)\n",
    "    \n",
    "\n",
    "fig = plt.figure()\n",
    "fig.set_facecolor('white')\n",
    "plt.pie(training_values, labels = training_labels)\n",
    "plt.title('Self-reported musical expertise')\n",
    "\n",
    "#plt.savefig(fig_dir+'supp_music_level.png', dpi = 300)"
   ]
  },
  {
   "attachments": {},
   "cell_type": "markdown",
   "metadata": {},
   "source": [
    "Start age"
   ]
  },
  {
   "cell_type": "code",
   "execution_count": 494,
   "metadata": {},
   "outputs": [
    {
     "data": {
      "text/plain": [
       "Text(0.5, 1.0, 'Age that musical training was started')"
      ]
     },
     "execution_count": 494,
     "metadata": {},
     "output_type": "execute_result"
    },
    {
     "data": {
      "image/png": "[encoded data removed]",
      "text/plain": [
       "<Figure size 640x480 with 1 Axes>"
      ]
     },
     "metadata": {},
     "output_type": "display_data"
    }
   ],
   "source": [
    "training_labels = ['Under 5', '5-7', '7-10', '10-15', '15-18', '18+', 'I did not have any formal training']\n",
    "training_values = np.zeros(len(training_labels))\n",
    "\n",
    "under7 = []\n",
    "under10 = []\n",
    "for i in valid_participant_ids:\n",
    "    training = json.loads(survey[survey['subject'] == i]['response'].iloc[5])['TrainingStart'] #forgot to change the label of this question but should be TrainingYears\n",
    "    label_index = training_labels.index(training)\n",
    "    training_values[label_index] +=1\n",
    "\n",
    "    if training == 'Under 5' or training == '5-7':\n",
    "        under7.append(i)\n",
    "        under10.append(i)\n",
    "    elif training == '7-10':\n",
    "        under10.append(i)\n",
    "\n",
    "fig = plt.figure()\n",
    "fig.set_facecolor('white')\n",
    "plt.pie(training_values, labels = training_labels)\n",
    "plt.title('Age that musical training was started')\n",
    "\n",
    "#plt.savefig(fig_dir+'supp_start_age.png', dpi = 300)"
   ]
  },
  {
   "attachments": {},
   "cell_type": "markdown",
   "metadata": {},
   "source": [
    "Reaction times during forced choice"
   ]
  },
  {
   "cell_type": "code",
   "execution_count": 495,
   "metadata": {},
   "outputs": [],
   "source": [
    "#defining forced choice\n",
    "fc = df[df.loc[:,'task']=='forced_choice']\n"
   ]
  },
  {
   "cell_type": "code",
   "execution_count": 496,
   "metadata": {},
   "outputs": [],
   "source": [
    "def pkl_to_list(filename):\n",
    "    file = open(filename,'rb')\n",
    "    loaded_list = pkl.load(file) #pilot 4.0 intermediate files\\agrammatical_9.mid\n",
    "    file.close()\n",
    "    return loaded_list\n",
    "\n",
    "\"\"\"\n",
    "takes ONE melody and returns its expected length\n",
    "\"\"\"\n",
    "def calculate_duration(list): #assumes tempo of quarter note = 168\n",
    "    quarternote = 60/168 \n",
    "    melody = quarternote*len(list)\n",
    "    duration = melody*2+quarternote*2 #because there are 2 melodies of the same length in each fc file, separated by a half rest\n",
    "    return duration*1000 #want to have duration in ms to match rxn times\n",
    "\n",
    "\n",
    "\n",
    "\"\"\"\n",
    "takes a list of sequences and converts everything in the list to the expected durations\n",
    "returns dataframe with file names and the list of durations\n",
    "\"\"\"\n",
    "def seq_to_dur_list(seq_list, filename):\n",
    "    \n",
    "    duration_list = []\n",
    "    filenames = []\n",
    "    file_index = 1\n",
    "\n",
    "    for item in seq_list:\n",
    "        duration = calculate_duration(item)\n",
    "        duration_list.append(duration)\n",
    "        filenames.append(str(filename)+'_'+str(file_index)+'.mp3')\n",
    "        \n",
    "        file_index +=1\n",
    "    df = pd.DataFrame(data = {'filename': filenames, 'duration': duration_list})\n",
    "    return df\n",
    "\n",
    "\"\"\"\n",
    "takes a list of sequences and returns a dataframe with file names and sequences\n",
    "\"\"\"\n",
    "def seq_to_df(seq_list, filename):\n",
    "\n",
    "    filenames = []\n",
    "    file_index = 1\n",
    "\n",
    "    for item in seq_list:\n",
    "        filenames.append(str(filename)+'_'+str(file_index)+'.mp3')\n",
    "        \n",
    "        file_index +=1\n",
    "    df = pd.DataFrame(data = {'filename': filenames, 'sequence': seq_list})\n",
    "    return df"
   ]
  },
  {
   "cell_type": "code",
   "execution_count": 497,
   "metadata": {},
   "outputs": [],
   "source": [
    "\"\"\"\n",
    "takes the pkl lists in an experiment folder and returns their expected durations\n",
    "folder should be a string of the folder name\n",
    "tonic should be 'tonic G4, tonic C4, etc' \n",
    "\"\"\"\n",
    "def pkl_to_dur(folder, tonic):\n",
    "\n",
    "    fc_IC_default_short_5 = pkl_to_list(folder+'/fc_IC_default_short_5.pkl')\n",
    "    fc_IC_accent_short_5 = pkl_to_list(folder+'/fc_IC_accent_short_5.pkl')\n",
    "    fc_IC_default_short_3 = pkl_to_list(folder+'/fc_IC_default_short_3.pkl')\n",
    "    fc_IC_accent_short_3 = pkl_to_list(folder+'/fc_IC_accent_short_3.pkl')\n",
    "\n",
    "    fc_accents_short_54 = pkl_to_list(folder+'/fc_accents_short_54.pkl')\n",
    "    fc_accents_short_56 = pkl_to_list(folder+'/fc_accents_short_56.pkl')\n",
    "    fc_accents_short_34 = pkl_to_list(folder+'/fc_accents_short_34.pkl')\n",
    "    fc_accents_short_32 = pkl_to_list(folder+'/fc_accents_short_32.pkl')\n",
    "\n",
    "    dur_df = pd.DataFrame(columns=['filename', 'duration', 'condition'])\n",
    "\n",
    "    df_1 = seq_to_dur_list(fc_accents_short_54, 'fc_accents_54')\n",
    "    df_2 = seq_to_dur_list(fc_accents_short_56, 'fc_accents_56')\n",
    "    df_3 = seq_to_dur_list(fc_accents_short_32, 'fc_accents_32')\n",
    "    df_4 = seq_to_dur_list(fc_accents_short_34, 'fc_accents_34')\n",
    "\n",
    "\n",
    "    df_5 = seq_to_dur_list(fc_IC_default_short_5, 'fc_IC_default_5')\n",
    "    df_6 = seq_to_dur_list(fc_IC_accent_short_5, 'fc_IC_accent_5')\n",
    "    df_7 = seq_to_dur_list(fc_IC_default_short_3, 'fc_IC_default_3')\n",
    "    df_8 = seq_to_dur_list(fc_IC_accent_short_3, 'fc_IC_accent_3')\n",
    "\n",
    "\n",
    "    dur_df= pd.concat([df_1, df_2, df_3, df_4, df_5, df_6, df_7, df_8], ignore_index= True)\n",
    "    dur_df['condition'] = tonic\n",
    "\n",
    "    return dur_df\n"
   ]
  },
  {
   "cell_type": "code",
   "execution_count": 498,
   "metadata": {},
   "outputs": [],
   "source": [
    "\"\"\"dur_df_G = pkl_to_dur('pkl files pilot 5', 'tonic G4')\n",
    "dur_df_Bb = pkl_to_dur('pkl files pilot 5_1', 'tonic Bb4')\n",
    "dur_df_C = pkl_to_dur('pkl files pilot 5_2', 'tonic C4')\"\"\"\n",
    "\n",
    "dur_df_G = pkl_to_dur('../intermediate_files/5', 'tonic G4')\n",
    "dur_df_all = pd.concat([dur_df_G])"
   ]
  },
  {
   "cell_type": "code",
   "execution_count": 499,
   "metadata": {},
   "outputs": [
    {
     "data": {
      "text/html": [
       "<div>\n",
       "<style scoped>\n",
       "    .dataframe tbody tr th:only-of-type {\n",
       "        vertical-align: middle;\n",
       "    }\n",
       "\n",
       "    .dataframe tbody tr th {\n",
       "        vertical-align: top;\n",
       "    }\n",
       "\n",
       "    .dataframe thead th {\n",
       "        text-align: right;\n",
       "    }\n",
       "</style>\n",
       "<table border=\"1\" class=\"dataframe\">\n",
       "  <thead>\n",
       "    <tr style=\"text-align: right;\">\n",
       "      <th></th>\n",
       "      <th>filename</th>\n",
       "      <th>duration</th>\n",
       "      <th>condition</th>\n",
       "    </tr>\n",
       "  </thead>\n",
       "  <tbody>\n",
       "    <tr>\n",
       "      <th>0</th>\n",
       "      <td>fc_accents_54_1.mp3</td>\n",
       "      <td>5714.285714</td>\n",
       "      <td>tonic G4</td>\n",
       "    </tr>\n",
       "    <tr>\n",
       "      <th>1</th>\n",
       "      <td>fc_accents_54_2.mp3</td>\n",
       "      <td>5714.285714</td>\n",
       "      <td>tonic G4</td>\n",
       "    </tr>\n",
       "    <tr>\n",
       "      <th>2</th>\n",
       "      <td>fc_accents_54_3.mp3</td>\n",
       "      <td>6428.571429</td>\n",
       "      <td>tonic G4</td>\n",
       "    </tr>\n",
       "    <tr>\n",
       "      <th>3</th>\n",
       "      <td>fc_accents_54_4.mp3</td>\n",
       "      <td>5714.285714</td>\n",
       "      <td>tonic G4</td>\n",
       "    </tr>\n",
       "    <tr>\n",
       "      <th>4</th>\n",
       "      <td>fc_accents_56_1.mp3</td>\n",
       "      <td>5000.000000</td>\n",
       "      <td>tonic G4</td>\n",
       "    </tr>\n",
       "    <tr>\n",
       "      <th>5</th>\n",
       "      <td>fc_accents_56_2.mp3</td>\n",
       "      <td>5714.285714</td>\n",
       "      <td>tonic G4</td>\n",
       "    </tr>\n",
       "    <tr>\n",
       "      <th>6</th>\n",
       "      <td>fc_accents_56_3.mp3</td>\n",
       "      <td>5714.285714</td>\n",
       "      <td>tonic G4</td>\n",
       "    </tr>\n",
       "    <tr>\n",
       "      <th>7</th>\n",
       "      <td>fc_accents_56_4.mp3</td>\n",
       "      <td>5714.285714</td>\n",
       "      <td>tonic G4</td>\n",
       "    </tr>\n",
       "    <tr>\n",
       "      <th>8</th>\n",
       "      <td>fc_accents_32_1.mp3</td>\n",
       "      <td>5714.285714</td>\n",
       "      <td>tonic G4</td>\n",
       "    </tr>\n",
       "    <tr>\n",
       "      <th>9</th>\n",
       "      <td>fc_accents_32_2.mp3</td>\n",
       "      <td>6428.571429</td>\n",
       "      <td>tonic G4</td>\n",
       "    </tr>\n",
       "    <tr>\n",
       "      <th>10</th>\n",
       "      <td>fc_accents_32_3.mp3</td>\n",
       "      <td>5714.285714</td>\n",
       "      <td>tonic G4</td>\n",
       "    </tr>\n",
       "    <tr>\n",
       "      <th>11</th>\n",
       "      <td>fc_accents_32_4.mp3</td>\n",
       "      <td>6428.571429</td>\n",
       "      <td>tonic G4</td>\n",
       "    </tr>\n",
       "    <tr>\n",
       "      <th>12</th>\n",
       "      <td>fc_accents_34_1.mp3</td>\n",
       "      <td>5714.285714</td>\n",
       "      <td>tonic G4</td>\n",
       "    </tr>\n",
       "    <tr>\n",
       "      <th>13</th>\n",
       "      <td>fc_accents_34_2.mp3</td>\n",
       "      <td>5000.000000</td>\n",
       "      <td>tonic G4</td>\n",
       "    </tr>\n",
       "    <tr>\n",
       "      <th>14</th>\n",
       "      <td>fc_accents_34_3.mp3</td>\n",
       "      <td>6428.571429</td>\n",
       "      <td>tonic G4</td>\n",
       "    </tr>\n",
       "    <tr>\n",
       "      <th>15</th>\n",
       "      <td>fc_accents_34_4.mp3</td>\n",
       "      <td>6428.571429</td>\n",
       "      <td>tonic G4</td>\n",
       "    </tr>\n",
       "    <tr>\n",
       "      <th>16</th>\n",
       "      <td>fc_IC_default_5_1.mp3</td>\n",
       "      <td>5714.285714</td>\n",
       "      <td>tonic G4</td>\n",
       "    </tr>\n",
       "    <tr>\n",
       "      <th>17</th>\n",
       "      <td>fc_IC_default_5_2.mp3</td>\n",
       "      <td>5714.285714</td>\n",
       "      <td>tonic G4</td>\n",
       "    </tr>\n",
       "    <tr>\n",
       "      <th>18</th>\n",
       "      <td>fc_IC_default_5_3.mp3</td>\n",
       "      <td>6428.571429</td>\n",
       "      <td>tonic G4</td>\n",
       "    </tr>\n",
       "    <tr>\n",
       "      <th>19</th>\n",
       "      <td>fc_IC_default_5_4.mp3</td>\n",
       "      <td>6428.571429</td>\n",
       "      <td>tonic G4</td>\n",
       "    </tr>\n",
       "    <tr>\n",
       "      <th>20</th>\n",
       "      <td>fc_IC_accent_5_1.mp3</td>\n",
       "      <td>6428.571429</td>\n",
       "      <td>tonic G4</td>\n",
       "    </tr>\n",
       "    <tr>\n",
       "      <th>21</th>\n",
       "      <td>fc_IC_accent_5_2.mp3</td>\n",
       "      <td>6428.571429</td>\n",
       "      <td>tonic G4</td>\n",
       "    </tr>\n",
       "    <tr>\n",
       "      <th>22</th>\n",
       "      <td>fc_IC_accent_5_3.mp3</td>\n",
       "      <td>5000.000000</td>\n",
       "      <td>tonic G4</td>\n",
       "    </tr>\n",
       "    <tr>\n",
       "      <th>23</th>\n",
       "      <td>fc_IC_accent_5_4.mp3</td>\n",
       "      <td>6428.571429</td>\n",
       "      <td>tonic G4</td>\n",
       "    </tr>\n",
       "    <tr>\n",
       "      <th>24</th>\n",
       "      <td>fc_IC_default_3_1.mp3</td>\n",
       "      <td>6428.571429</td>\n",
       "      <td>tonic G4</td>\n",
       "    </tr>\n",
       "    <tr>\n",
       "      <th>25</th>\n",
       "      <td>fc_IC_default_3_2.mp3</td>\n",
       "      <td>6428.571429</td>\n",
       "      <td>tonic G4</td>\n",
       "    </tr>\n",
       "    <tr>\n",
       "      <th>26</th>\n",
       "      <td>fc_IC_default_3_3.mp3</td>\n",
       "      <td>6428.571429</td>\n",
       "      <td>tonic G4</td>\n",
       "    </tr>\n",
       "    <tr>\n",
       "      <th>27</th>\n",
       "      <td>fc_IC_default_3_4.mp3</td>\n",
       "      <td>6428.571429</td>\n",
       "      <td>tonic G4</td>\n",
       "    </tr>\n",
       "    <tr>\n",
       "      <th>28</th>\n",
       "      <td>fc_IC_accent_3_1.mp3</td>\n",
       "      <td>6428.571429</td>\n",
       "      <td>tonic G4</td>\n",
       "    </tr>\n",
       "    <tr>\n",
       "      <th>29</th>\n",
       "      <td>fc_IC_accent_3_2.mp3</td>\n",
       "      <td>5714.285714</td>\n",
       "      <td>tonic G4</td>\n",
       "    </tr>\n",
       "    <tr>\n",
       "      <th>30</th>\n",
       "      <td>fc_IC_accent_3_3.mp3</td>\n",
       "      <td>5714.285714</td>\n",
       "      <td>tonic G4</td>\n",
       "    </tr>\n",
       "    <tr>\n",
       "      <th>31</th>\n",
       "      <td>fc_IC_accent_3_4.mp3</td>\n",
       "      <td>5714.285714</td>\n",
       "      <td>tonic G4</td>\n",
       "    </tr>\n",
       "  </tbody>\n",
       "</table>\n",
       "</div>"
      ],
      "text/plain": [
       "                 filename     duration condition\n",
       "0     fc_accents_54_1.mp3  5714.285714  tonic G4\n",
       "1     fc_accents_54_2.mp3  5714.285714  tonic G4\n",
       "2     fc_accents_54_3.mp3  6428.571429  tonic G4\n",
       "3     fc_accents_54_4.mp3  5714.285714  tonic G4\n",
       "4     fc_accents_56_1.mp3  5000.000000  tonic G4\n",
       "5     fc_accents_56_2.mp3  5714.285714  tonic G4\n",
       "6     fc_accents_56_3.mp3  5714.285714  tonic G4\n",
       "7     fc_accents_56_4.mp3  5714.285714  tonic G4\n",
       "8     fc_accents_32_1.mp3  5714.285714  tonic G4\n",
       "9     fc_accents_32_2.mp3  6428.571429  tonic G4\n",
       "10    fc_accents_32_3.mp3  5714.285714  tonic G4\n",
       "11    fc_accents_32_4.mp3  6428.571429  tonic G4\n",
       "12    fc_accents_34_1.mp3  5714.285714  tonic G4\n",
       "13    fc_accents_34_2.mp3  5000.000000  tonic G4\n",
       "14    fc_accents_34_3.mp3  6428.571429  tonic G4\n",
       "15    fc_accents_34_4.mp3  6428.571429  tonic G4\n",
       "16  fc_IC_default_5_1.mp3  5714.285714  tonic G4\n",
       "17  fc_IC_default_5_2.mp3  5714.285714  tonic G4\n",
       "18  fc_IC_default_5_3.mp3  6428.571429  tonic G4\n",
       "19  fc_IC_default_5_4.mp3  6428.571429  tonic G4\n",
       "20   fc_IC_accent_5_1.mp3  6428.571429  tonic G4\n",
       "21   fc_IC_accent_5_2.mp3  6428.571429  tonic G4\n",
       "22   fc_IC_accent_5_3.mp3  5000.000000  tonic G4\n",
       "23   fc_IC_accent_5_4.mp3  6428.571429  tonic G4\n",
       "24  fc_IC_default_3_1.mp3  6428.571429  tonic G4\n",
       "25  fc_IC_default_3_2.mp3  6428.571429  tonic G4\n",
       "26  fc_IC_default_3_3.mp3  6428.571429  tonic G4\n",
       "27  fc_IC_default_3_4.mp3  6428.571429  tonic G4\n",
       "28   fc_IC_accent_3_1.mp3  6428.571429  tonic G4\n",
       "29   fc_IC_accent_3_2.mp3  5714.285714  tonic G4\n",
       "30   fc_IC_accent_3_3.mp3  5714.285714  tonic G4\n",
       "31   fc_IC_accent_3_4.mp3  5714.285714  tonic G4"
      ]
     },
     "execution_count": 499,
     "metadata": {},
     "output_type": "execute_result"
    }
   ],
   "source": [
    "dur_df_all"
   ]
  },
  {
   "cell_type": "code",
   "execution_count": 500,
   "metadata": {},
   "outputs": [
    {
     "name": "stderr",
     "output_type": "stream",
     "text": [
      "/var/folders/18/hp_602x50x34x_4p_qjc80g40000gn/T/ipykernel_38037/1405685294.py:1: SettingWithCopyWarning: \n",
      "A value is trying to be set on a copy of a slice from a DataFrame.\n",
      "Try using .loc[row_indexer,col_indexer] = value instead\n",
      "\n",
      "See the caveats in the documentation: https://pandas.pydata.org/pandas-docs/stable/user_guide/indexing.html#returning-a-view-versus-a-copy\n",
      "  fc['condition'] = 'tonic G4'\n",
      "/var/folders/18/hp_602x50x34x_4p_qjc80g40000gn/T/ipykernel_38037/1405685294.py:10: SettingWithCopyWarning: \n",
      "A value is trying to be set on a copy of a slice from a DataFrame.\n",
      "Try using .loc[row_indexer,col_indexer] = value instead\n",
      "\n",
      "See the caveats in the documentation: https://pandas.pydata.org/pandas-docs/stable/user_guide/indexing.html#returning-a-view-versus-a-copy\n",
      "  fc['expected_duration'] = fc.apply(add_duration, axis=1)\n",
      "/var/folders/18/hp_602x50x34x_4p_qjc80g40000gn/T/ipykernel_38037/1405685294.py:11: SettingWithCopyWarning: \n",
      "A value is trying to be set on a copy of a slice from a DataFrame.\n",
      "Try using .loc[row_indexer,col_indexer] = value instead\n",
      "\n",
      "See the caveats in the documentation: https://pandas.pydata.org/pandas-docs/stable/user_guide/indexing.html#returning-a-view-versus-a-copy\n",
      "  fc['normalized_rxntime'] = fc['rt']-fc['expected_duration']\n"
     ]
    }
   ],
   "source": [
    "fc['condition'] = 'tonic G4'\n",
    "\n",
    "def add_duration(row):\n",
    "    for i in conditions: \n",
    "        if row['condition'] == i:\n",
    "            if row['stimulus'] in dur_df_all['filename'].values:\n",
    "                return float(dur_df_all[(dur_df_all['filename'] == row['stimulus']) & (dur_df_all['condition'] == row['condition'])]['duration'].iloc[0])\n",
    "\n",
    "\n",
    "fc['expected_duration'] = fc.apply(add_duration, axis=1)\n",
    "fc['normalized_rxntime'] = fc['rt']-fc['expected_duration']"
   ]
  },
  {
   "cell_type": "code",
   "execution_count": 501,
   "metadata": {},
   "outputs": [
    {
     "data": {
      "image/png": "[encoded data removed]",
      "text/plain": [
       "<Figure size 1000x200 with 3 Axes>"
      ]
     },
     "metadata": {},
     "output_type": "display_data"
    }
   ],
   "source": [
    "\n",
    "\n",
    "num_participants = len(valid_participant_ids)\n",
    "num_rows = (num_participants + 1) // 2  # Calculate the number of rows needed\n",
    "num_cols = 2  # Number of columns\n",
    "\n",
    "fig, axs = plt.subplots(nrows=num_rows, ncols=num_cols, figsize=(10, num_rows), sharey = True)\n",
    "\n",
    "for i, participant_id in enumerate(valid_participant_ids):\n",
    "    row = i // num_cols\n",
    "    col = i % num_cols\n",
    "    ax = axs[row, col]\n",
    "    #ax.hist(fc[fc['subject'] == participant_id]['normalized_rxntime'], bins=np.linspace(-10000, 30000, 30))\n",
    "    ax.hist(fc[fc['subject'] == participant_id]['normalized_rxntime'], bins=60, range = (-10000, 30000))\n",
    "    ax.set_xlim(-10000, 30000)\n",
    "    ax.vlines(0, 0, 10, linestyles='--', color='black')\n",
    "    ax.set_title(participant_id, fontdict={'fontsize': 10})\n",
    "\n",
    "fig.text(0.001, 0.5, 'Frequency in response times', va='center', rotation='vertical', fontdict={'fontsize': 12})\n",
    "fig.text(0.5, 0.001, 'Response time relative to melody end (ms)', ha='center', fontdict={'fontsize': 12})\n",
    "\n",
    "fig.delaxes(axs[-1,-1])\n",
    "plt.tight_layout()\n",
    "\n",
    "#plt.savefig('./figures for paper/supp_rxntime.png', dpi = 300)\n"
   ]
  },
  {
   "cell_type": "code",
   "execution_count": 502,
   "metadata": {},
   "outputs": [
    {
     "name": "stdout",
     "output_type": "stream",
     "text": [
      "[]\n"
     ]
    }
   ],
   "source": [
    "#eliminating participants who responded >3s before end of the melody \n",
    "#this is now earlier in the code\n",
    "\n",
    "unthinking_participants = []\n",
    "for i in valid_participant_ids:\n",
    "    fc_current = fc[fc['subject'] == i]\n",
    "    #if fc_current['normalized_rxntime'].min() < -2000:\n",
    "    #if fc_current['normalized_rxntime'].min() < -2000 and fc_current['normalized_rxntime'].max() > 5000:\n",
    "    if fc_current['normalized_rxntime'].mean() < -2000:\n",
    "        unthinking_participants.append(i)\n",
    "\n",
    "\n",
    "\n",
    "#fc_rxn_filtered = fc[(fc['normalized_rxntime'] > 0) & (fc['normalized_rxntime'] < 70000) ]\n",
    "print(unthinking_participants)\n"
   ]
  },
  {
   "attachments": {},
   "cell_type": "markdown",
   "metadata": {},
   "source": [
    "Rejecting participants"
   ]
  },
  {
   "cell_type": "code",
   "execution_count": 503,
   "metadata": {},
   "outputs": [
    {
     "name": "stdout",
     "output_type": "stream",
     "text": [
      "Soundcheck failed: 0 participants []\n",
      "Answered too fast: 0 participants []\n",
      "Didn't learn grammar 1 participants ['yb48ry']\n",
      "\n",
      " Failed participants:  1\n"
     ]
    }
   ],
   "source": [
    "print('Soundcheck failed:', len(soundcheck_failed), 'participants', soundcheck_failed)\n",
    "print('Answered too fast:', len(unthinking_participants), 'participants', unthinking_participants)\n",
    "print('Didn\\'t learn grammar', len(grammar_test_failed), 'participants', grammar_test_failed)\n",
    "\n",
    "failed_participants = soundcheck_failed + unthinking_participants + grammar_test_failed #no longer looking at attention test\n",
    "\n",
    "\n",
    "failed_participants = list(dict.fromkeys(failed_participants))\n",
    "\n",
    "print('\\n Failed participants: ', len(failed_participants))\n",
    "\n",
    "#failed_participants = []\n"
   ]
  },
  {
   "attachments": {},
   "cell_type": "markdown",
   "metadata": {},
   "source": [
    "CHOOSING PARTICIPANTS\n",
    "\n",
    "The valid_participant_ids list can be modified to include only the people we want in the analysis. Participants are filtered by grammar learning and demographics later in this notebook, so everything should be run once before adjusting this parameter."
   ]
  },
  {
   "cell_type": "code",
   "execution_count": 504,
   "metadata": {},
   "outputs": [
    {
     "name": "stdout",
     "output_type": "stream",
     "text": [
      "Participants included: ['tuyp2m', 'a237ah', 'j0nqx8', 'yb48ry']\n",
      "Number of participants: 4\n"
     ]
    }
   ],
   "source": [
    "#choosing which dataset to analyze for the rest of the analysis \n",
    "\n",
    "\"\"\"\n",
    "inclusion for participants based on specific traits\n",
    "\"\"\"\n",
    "valid_participant_ids = participant_ids\n",
    "#valid_participant_ids = musicians_57+musicians_710+musicians_10\n",
    "\n",
    "#valid_participant_ids = [x for x in valid_participant_ids if x not in failed_participants+musicians_10+musicians_57+musicians_710]\n",
    "\n",
    "\"\"\"\n",
    "RUN FIRST:\n",
    "\"\"\"\n",
    "valid_participant_ids = [x for x in valid_participant_ids if x not in failed_participants] \n",
    "\n",
    "\n",
    "print('Participants included:', valid_participant_ids)\n",
    "print('Number of participants:', len(valid_participant_ids))"
   ]
  },
  {
   "attachments": {},
   "cell_type": "markdown",
   "metadata": {},
   "source": [
    "Melody liking"
   ]
  },
  {
   "cell_type": "code",
   "execution_count": 505,
   "metadata": {},
   "outputs": [],
   "source": [
    "df_liking = df[df['subtask'] == 'exp_liking']\n",
    "\n",
    "liking_x = []\n",
    "liking_y = []\n",
    "\n",
    "for subject in valid_participant_ids:\n",
    "   # df_liking_current = df_liking[df_liking['subject'] == subject]\n",
    "    df_liking_current = [int(x) for x in df_liking[df_liking['subject'] == subject]['response'].tolist()]\n",
    "    liking_y.append(df_liking_current)\n",
    "    df_liking_index = [int(x) for x in df_liking[df_liking['subject'] == subject]['trial_index'].tolist()]\n",
    "    liking_x.append(df_liking_index)\n",
    "   "
   ]
  },
  {
   "cell_type": "code",
   "execution_count": 506,
   "metadata": {},
   "outputs": [
    {
     "data": {
      "text/plain": [
       "[<matplotlib.lines.Line2D at 0x284001240>]"
      ]
     },
     "execution_count": 506,
     "metadata": {},
     "output_type": "execute_result"
    },
    {
     "data": {
      "image/png": "[encoded data removed]",
      "text/plain": [
       "<Figure size 640x480 with 1 Axes>"
      ]
     },
     "metadata": {},
     "output_type": "display_data"
    }
   ],
   "source": [
    "#interpolation for melody liking\n",
    "interp_x = np.linspace(0, 80, 8)\n",
    "interp_y_arr = np.zeros((len(liking_x), len(interp_x)))\n",
    "\n",
    "plt.figure()\n",
    "plt.xlabel(\"Trial index\")\n",
    "plt.ylabel(\"Interpolated liking rating\")\n",
    "plt.ylim((1,7))\n",
    "\n",
    "for i in range(len(liking_x)):\n",
    "    if len(liking_x[i]) != 0:\n",
    "        interp_y = np.interp(interp_x, liking_x[i], liking_y[i])\n",
    "        interp_y_arr[i] = interp_y\n",
    "\n",
    "        plt.scatter(interp_x, interp_y, alpha = 0.3)\n",
    "\n",
    "mean_interp_y = np.mean(interp_y_arr, axis=0)\n",
    "plt.plot(interp_x, mean_interp_y, color='black')\n",
    "#plt.savefig(fig_dir+'supp_likingratings.png', dpi = 300)\n"
   ]
  },
  {
   "cell_type": "markdown",
   "metadata": {},
   "source": [
    "Redefining musicians vs nonmusicians"
   ]
  },
  {
   "cell_type": "code",
   "execution_count": 507,
   "metadata": {},
   "outputs": [],
   "source": [
    "musicians = [x for x in musicians_57+musicians_710+musicians_10 if x not in failed_participants]\n",
    "#musicians = [x for x in musicians_710+musicians_10 if x not in failed_participants]\n",
    "\n",
    "nonmusicians = [x for x in participant_ids if x not in musicians and x not in failed_participants]"
   ]
  },
  {
   "cell_type": "markdown",
   "metadata": {},
   "source": [
    "Grammar learning plots (after filtering for participants)"
   ]
  },
  {
   "cell_type": "code",
   "execution_count": 508,
   "metadata": {},
   "outputs": [
    {
     "data": {
      "text/plain": [
       "nan"
      ]
     },
     "execution_count": 508,
     "metadata": {},
     "output_type": "execute_result"
    }
   ],
   "source": [
    "ci_95(df_learning[(df_learning['subject'].isin(musicians)) & (df_learning['grammaticality']=='grammatical')]['response'])"
   ]
  },
  {
   "cell_type": "code",
   "execution_count": 509,
   "metadata": {},
   "outputs": [
    {
     "data": {
      "image/png": "[encoded data removed]",
      "text/plain": [
       "<Figure size 1200x500 with 2 Axes>"
      ]
     },
     "metadata": {},
     "output_type": "display_data"
    }
   ],
   "source": [
    "def plot_ws_grammar(people, shade, ax):\n",
    "\n",
    "    ax.set_xlim(0.75, 2.25)\n",
    "    ax.set_ylim(0,7)\n",
    "    ax.set_xticks([1,2])\n",
    "    ax.set_xticklabels(['grammatical', 'agrammatical'])\n",
    "\n",
    "    for i in people:\n",
    "        grammatical_mean = df_learning[(df_learning['subject']==i) & (df_learning['grammaticality'] == 'grammatical')]['response'].mean()\n",
    "        agrammatical_mean = df_learning[(df_learning['subject']==i) & (df_learning['grammaticality'] == 'agrammatical')]['response'].mean()\n",
    "        \n",
    "        jitter = np.random.normal(-0.05,0.05, 2)\n",
    "        ax.plot([1,2]+jitter, [grammatical_mean, agrammatical_mean], 'o-', color = shade, alpha = 0.2, markersize = 2)\n",
    "\n",
    "fig, (ax1, ax2) = plt.subplots(1,2, figsize = (12,5), sharey = True)\n",
    "\n",
    "mus_mean_g = df_learning[(df_learning['subject'].isin(musicians)) & (df_learning['grammaticality']=='grammatical')]['response'].mean()\n",
    "mus_ci_g = ci_95(df_learning[(df_learning['subject'].isin(musicians)) & (df_learning['grammaticality']=='grammatical')]['response'])\n",
    "\n",
    "mus_mean_ag = df_learning[(df_learning['subject'].isin(musicians)) & (df_learning['grammaticality']=='agrammatical')]['response'].mean()\n",
    "mus_ci_ag = ci_95(df_learning[(df_learning['subject'].isin(musicians)) & (df_learning['grammaticality']=='agrammatical')]['response'])\n",
    "\n",
    "nmus_mean_g = df_learning[(df_learning['subject'].isin(nonmusicians)) & (df_learning['grammaticality']=='grammatical')]['response'].mean()\n",
    "nmus_ci_g = ci_95(df_learning[(df_learning['subject'].isin(nonmusicians)) & (df_learning['grammaticality']=='grammatical')]['response'])\n",
    "\n",
    "nmus_mean_ag = df_learning[(df_learning['subject'].isin(nonmusicians)) & (df_learning['grammaticality']=='agrammatical')]['response'].mean()\n",
    "nmus_ci_ag = ci_95(df_learning[(df_learning['subject'].isin(nonmusicians)) & (df_learning['grammaticality']=='agrammatical')]['response'])\n",
    "\n",
    "plot_ws_grammar(musicians, 'green', ax1)\n",
    "ax1.set_title('Musicians', color = 'green')\n",
    "ax1.errorbar([1,2], [mus_mean_g, mus_mean_ag], [mus_ci_g, mus_ci_ag], fmt = 'o-', color = 'green')\n",
    "ax1.set_ylabel('Similarity rating', fontsize = 14)\n",
    "\n",
    "plot_ws_grammar(nonmusicians, 'grey', ax2)\n",
    "ax2.set_title('Nonmusicians', color = 'grey')\n",
    "ax2.errorbar([1,2], [nmus_mean_g, nmus_mean_ag], [nmus_ci_g, nmus_ci_ag], fmt = 'o-', color = 'grey')\n",
    "\n",
    "plt.tight_layout()\n",
    "\n",
    "#plt.savefig('./figures for paper/ws_grammar.png', dpi = 500)"
   ]
  },
  {
   "cell_type": "code",
   "execution_count": 510,
   "metadata": {},
   "outputs": [
    {
     "data": {
      "text/plain": [
       "<matplotlib.legend.Legend at 0x28550e530>"
      ]
     },
     "execution_count": 510,
     "metadata": {},
     "output_type": "execute_result"
    },
    {
     "data": {
      "image/png": "[encoded data removed]",
      "text/plain": [
       "<Figure size 700x500 with 1 Axes>"
      ]
     },
     "metadata": {},
     "output_type": "display_data"
    }
   ],
   "source": [
    "#grammatical learning difference \n",
    "fig = plt.figure(figsize = (7,5))\n",
    "ax = fig.add_axes([0.1, 0.1, 0.8, 0.8]) \n",
    "#ax.set_xlim(0.75, 2.25)\n",
    "ax.set_ylim(0,7)\n",
    "ax.set_xticks(np.arange(1, len(valid_participant_ids)+1))\n",
    "#ax.set_xticklabels(valid_participant_ids)\n",
    "ax.set_ylabel('Similarity rating')\n",
    "ax.set_xlabel('Participant index')\n",
    "\n",
    "\n",
    "grammatical_means = []\n",
    "agrammatical_means = []\n",
    "grammatical_ci = []\n",
    "agrammatical_ci = []\n",
    "grammar_subj_stats = []\n",
    "\n",
    "for i in musicians+nonmusicians:\n",
    "    #grammatical_means.append(df_learning[(df_learning['subject']==i) & (df_learning['grammaticality'] == 'grammatical')]['response'].mean())\n",
    "    subj_mean_grammatical = df_learning[(df_learning['subject']==i) & (df_learning['grammaticality'] == 'grammatical')]['response']\n",
    "    grammatical_means.append(subj_mean_grammatical.mean())\n",
    "    #agrammatical_means.append(df_learning[(df_learning['subject']==i) & (df_learning['grammaticality'] == 'agrammatical')]['response'].mean())\n",
    "    subj_mean_agrammatical = df_learning[(df_learning['subject']==i) & (df_learning['grammaticality'] == 'agrammatical')]['response']\n",
    "    agrammatical_means.append(subj_mean_agrammatical.mean())\n",
    "\n",
    "    #testing whether participant had significantly different responses\n",
    "    subj_stat = stats.ttest_rel(subj_mean_grammatical, subj_mean_agrammatical)\n",
    "    grammar_subj_stats.append(subj_stat)\n",
    "\n",
    "    #calculating CI95\n",
    "    grammatical_ci.append(ci_95(df_learning[(df_learning['subject']==i) & (df_learning['grammaticality'] == 'grammatical')]['response']))\n",
    "    agrammatical_ci.append(ci_95(df_learning[(df_learning['subject']==i) & (df_learning['grammaticality'] == 'agrammatical')]['response']))\n",
    "\n",
    "ax.errorbar(np.arange(1, len(grammatical_means)+1), grammatical_means, yerr = grammatical_ci,label = 'grammatical', fmt = 'o', color = 'steelblue')\n",
    "ax.errorbar(np.arange(1, len(agrammatical_means)+1), agrammatical_means, yerr = agrammatical_ci,label = 'agrammatical', fmt = 'x', color = 'skyblue')\n",
    "ax.legend()\n",
    "\n",
    "#plt.savefig('./figures for paper/grammar_learning_error.png', dpi = 500)"
   ]
  },
  {
   "cell_type": "code",
   "execution_count": 511,
   "metadata": {},
   "outputs": [
    {
     "data": {
      "text/plain": [
       "TtestResult(statistic=nan, pvalue=nan, df=nan)"
      ]
     },
     "execution_count": 511,
     "metadata": {},
     "output_type": "execute_result"
    }
   ],
   "source": [
    "#stats on the confidence intervals in musicians vs nonmusicians\n",
    "error_mus_g = grammatical_ci[:9]\n",
    "error_nmus_g = grammatical_ci[9:]\n",
    "\n",
    "error_mus_ag = agrammatical_ci[:9]\n",
    "error_nmus_ag = agrammatical_ci[9:]\n",
    "\n",
    "stats.ttest_ind(error_mus_ag, error_nmus_ag)"
   ]
  },
  {
   "cell_type": "code",
   "execution_count": 512,
   "metadata": {},
   "outputs": [],
   "source": [
    "#cohens d\n",
    "for i in musicians:\n",
    "    #grammatical_means.append(df_learning[(df_learning['subject']==i) & (df_learning['grammaticality'] == 'grammatical')]['response'].mean())\n",
    "    subj_mean_grammatical = df_learning[(df_learning['subject']==i) & (df_learning['grammaticality'] == 'grammatical')]['response']\n",
    "   # grammatical_means.append(subj_mean_grammatical.mean())\n",
    "\n",
    "    #agrammatical_means.append(df_learning[(df_learning['subject']==i) & (df_learning['grammaticality'] == 'agrammatical')]['response'].mean())\n",
    "    subj_mean_agrammatical = df_learning[(df_learning['subject']==i) & (df_learning['grammaticality'] == 'agrammatical')]['response']\n",
    " #   agrammatical_means.append(subj_mean_agrammatical.mean())\n"
   ]
  },
  {
   "attachments": {},
   "cell_type": "markdown",
   "metadata": {},
   "source": [
    "## PART 2: Forced choice analysis"
   ]
  },
  {
   "cell_type": "code",
   "execution_count": 513,
   "metadata": {},
   "outputs": [
    {
     "name": "stderr",
     "output_type": "stream",
     "text": [
      "/var/folders/18/hp_602x50x34x_4p_qjc80g40000gn/T/ipykernel_38037/2433560914.py:12: SettingWithCopyWarning: \n",
      "A value is trying to be set on a copy of a slice from a DataFrame.\n",
      "Try using .loc[row_indexer,col_indexer] = value instead\n",
      "\n",
      "See the caveats in the documentation: https://pandas.pydata.org/pandas-docs/stable/user_guide/indexing.html#returning-a-view-versus-a-copy\n",
      "  fc['test_type'] = fc['stimulus'].map(truncate_stimulus_type)\n",
      "/var/folders/18/hp_602x50x34x_4p_qjc80g40000gn/T/ipykernel_38037/2433560914.py:22: SettingWithCopyWarning: \n",
      "A value is trying to be set on a copy of a slice from a DataFrame.\n",
      "Try using .loc[row_indexer,col_indexer] = value instead\n",
      "\n",
      "See the caveats in the documentation: https://pandas.pydata.org/pandas-docs/stable/user_guide/indexing.html#returning-a-view-versus-a-copy\n",
      "  fc['IC'] = fc['stimulus'].map(truncate_stimulus_IC)\n",
      "/var/folders/18/hp_602x50x34x_4p_qjc80g40000gn/T/ipykernel_38037/2433560914.py:30: SettingWithCopyWarning: \n",
      "A value is trying to be set on a copy of a slice from a DataFrame.\n",
      "Try using .loc[row_indexer,col_indexer] = value instead\n",
      "\n",
      "See the caveats in the documentation: https://pandas.pydata.org/pandas-docs/stable/user_guide/indexing.html#returning-a-view-versus-a-copy\n",
      "  fc['context'] = fc['stimulus'].map(truncate_context)\n"
     ]
    },
    {
     "data": {
      "text/html": [
       "<div>\n",
       "<style scoped>\n",
       "    .dataframe tbody tr th:only-of-type {\n",
       "        vertical-align: middle;\n",
       "    }\n",
       "\n",
       "    .dataframe tbody tr th {\n",
       "        vertical-align: top;\n",
       "    }\n",
       "\n",
       "    .dataframe thead th {\n",
       "        text-align: right;\n",
       "    }\n",
       "</style>\n",
       "<table border=\"1\" class=\"dataframe\">\n",
       "  <thead>\n",
       "    <tr style=\"text-align: right;\">\n",
       "      <th></th>\n",
       "      <th>rt</th>\n",
       "      <th>response</th>\n",
       "      <th>trial_type</th>\n",
       "      <th>trial_index</th>\n",
       "      <th>time_elapsed</th>\n",
       "      <th>internal_node_id</th>\n",
       "      <th>run_id</th>\n",
       "      <th>condition</th>\n",
       "      <th>recorded_at</th>\n",
       "      <th>source_code_version</th>\n",
       "      <th>...</th>\n",
       "      <th>subtask</th>\n",
       "      <th>slider_start</th>\n",
       "      <th>accent</th>\n",
       "      <th>high_IC</th>\n",
       "      <th>accent_chosen</th>\n",
       "      <th>high_IC_chosen</th>\n",
       "      <th>question_order</th>\n",
       "      <th>test_type</th>\n",
       "      <th>IC</th>\n",
       "      <th>context</th>\n",
       "    </tr>\n",
       "  </thead>\n",
       "  <tbody>\n",
       "    <tr>\n",
       "      <th>100</th>\n",
       "      <td>7451.0</td>\n",
       "      <td>j</td>\n",
       "      <td>audio-keyboard-response</td>\n",
       "      <td>100</td>\n",
       "      <td>1699842</td>\n",
       "      <td>0.0-25.0-0.0</td>\n",
       "      <td>3</td>\n",
       "      <td>tonic G4</td>\n",
       "      <td>2024-04-30 12:07:05</td>\n",
       "      <td>82b5fab46a22c85f845190e7e39286c1</td>\n",
       "      <td>...</td>\n",
       "      <td>NaN</td>\n",
       "      <td>NaN</td>\n",
       "      <td>j</td>\n",
       "      <td>NaN</td>\n",
       "      <td>True</td>\n",
       "      <td>False</td>\n",
       "      <td>NaN</td>\n",
       "      <td>accent</td>\n",
       "      <td>high</td>\n",
       "      <td>3</td>\n",
       "    </tr>\n",
       "    <tr>\n",
       "      <th>101</th>\n",
       "      <td>6501.0</td>\n",
       "      <td>f</td>\n",
       "      <td>audio-keyboard-response</td>\n",
       "      <td>101</td>\n",
       "      <td>1706355</td>\n",
       "      <td>0.0-25.0-0.1</td>\n",
       "      <td>3</td>\n",
       "      <td>tonic G4</td>\n",
       "      <td>2024-04-30 12:07:05</td>\n",
       "      <td>82b5fab46a22c85f845190e7e39286c1</td>\n",
       "      <td>...</td>\n",
       "      <td>NaN</td>\n",
       "      <td>NaN</td>\n",
       "      <td>j</td>\n",
       "      <td>NaN</td>\n",
       "      <td>False</td>\n",
       "      <td>False</td>\n",
       "      <td>NaN</td>\n",
       "      <td>accent</td>\n",
       "      <td>high</td>\n",
       "      <td>3</td>\n",
       "    </tr>\n",
       "    <tr>\n",
       "      <th>102</th>\n",
       "      <td>6360.0</td>\n",
       "      <td>f</td>\n",
       "      <td>audio-keyboard-response</td>\n",
       "      <td>102</td>\n",
       "      <td>1712980</td>\n",
       "      <td>0.0-25.0-0.2</td>\n",
       "      <td>3</td>\n",
       "      <td>tonic G4</td>\n",
       "      <td>2024-04-30 12:07:05</td>\n",
       "      <td>82b5fab46a22c85f845190e7e39286c1</td>\n",
       "      <td>...</td>\n",
       "      <td>NaN</td>\n",
       "      <td>NaN</td>\n",
       "      <td>j</td>\n",
       "      <td>NaN</td>\n",
       "      <td>False</td>\n",
       "      <td>False</td>\n",
       "      <td>NaN</td>\n",
       "      <td>accent</td>\n",
       "      <td>low</td>\n",
       "      <td>3</td>\n",
       "    </tr>\n",
       "    <tr>\n",
       "      <th>103</th>\n",
       "      <td>5869.0</td>\n",
       "      <td>j</td>\n",
       "      <td>audio-keyboard-response</td>\n",
       "      <td>103</td>\n",
       "      <td>1719087</td>\n",
       "      <td>0.0-25.0-0.3</td>\n",
       "      <td>3</td>\n",
       "      <td>tonic G4</td>\n",
       "      <td>2024-04-30 12:07:05</td>\n",
       "      <td>82b5fab46a22c85f845190e7e39286c1</td>\n",
       "      <td>...</td>\n",
       "      <td>NaN</td>\n",
       "      <td>NaN</td>\n",
       "      <td>j</td>\n",
       "      <td>NaN</td>\n",
       "      <td>True</td>\n",
       "      <td>False</td>\n",
       "      <td>NaN</td>\n",
       "      <td>accent</td>\n",
       "      <td>high</td>\n",
       "      <td>5</td>\n",
       "    </tr>\n",
       "    <tr>\n",
       "      <th>104</th>\n",
       "      <td>7840.0</td>\n",
       "      <td>j</td>\n",
       "      <td>audio-keyboard-response</td>\n",
       "      <td>104</td>\n",
       "      <td>1727186</td>\n",
       "      <td>0.0-25.0-0.4</td>\n",
       "      <td>3</td>\n",
       "      <td>tonic G4</td>\n",
       "      <td>2024-04-30 12:07:05</td>\n",
       "      <td>82b5fab46a22c85f845190e7e39286c1</td>\n",
       "      <td>...</td>\n",
       "      <td>NaN</td>\n",
       "      <td>NaN</td>\n",
       "      <td>NaN</td>\n",
       "      <td>j</td>\n",
       "      <td>False</td>\n",
       "      <td>True</td>\n",
       "      <td>NaN</td>\n",
       "      <td>IC_accent</td>\n",
       "      <td>NA</td>\n",
       "      <td>5</td>\n",
       "    </tr>\n",
       "  </tbody>\n",
       "</table>\n",
       "<p>5 rows × 33 columns</p>\n",
       "</div>"
      ],
      "text/plain": [
       "         rt response               trial_type  trial_index  time_elapsed  \\\n",
       "100  7451.0        j  audio-keyboard-response          100       1699842   \n",
       "101  6501.0        f  audio-keyboard-response          101       1706355   \n",
       "102  6360.0        f  audio-keyboard-response          102       1712980   \n",
       "103  5869.0        j  audio-keyboard-response          103       1719087   \n",
       "104  7840.0        j  audio-keyboard-response          104       1727186   \n",
       "\n",
       "    internal_node_id  run_id condition          recorded_at  \\\n",
       "100     0.0-25.0-0.0       3  tonic G4  2024-04-30 12:07:05   \n",
       "101     0.0-25.0-0.1       3  tonic G4  2024-04-30 12:07:05   \n",
       "102     0.0-25.0-0.2       3  tonic G4  2024-04-30 12:07:05   \n",
       "103     0.0-25.0-0.3       3  tonic G4  2024-04-30 12:07:05   \n",
       "104     0.0-25.0-0.4       3  tonic G4  2024-04-30 12:07:05   \n",
       "\n",
       "                  source_code_version  ... subtask slider_start accent  \\\n",
       "100  82b5fab46a22c85f845190e7e39286c1  ...     NaN          NaN      j   \n",
       "101  82b5fab46a22c85f845190e7e39286c1  ...     NaN          NaN      j   \n",
       "102  82b5fab46a22c85f845190e7e39286c1  ...     NaN          NaN      j   \n",
       "103  82b5fab46a22c85f845190e7e39286c1  ...     NaN          NaN      j   \n",
       "104  82b5fab46a22c85f845190e7e39286c1  ...     NaN          NaN    NaN   \n",
       "\n",
       "    high_IC accent_chosen high_IC_chosen  question_order  test_type    IC  \\\n",
       "100     NaN          True          False             NaN     accent  high   \n",
       "101     NaN         False          False             NaN     accent  high   \n",
       "102     NaN         False          False             NaN     accent   low   \n",
       "103     NaN          True          False             NaN     accent  high   \n",
       "104       j         False           True             NaN  IC_accent    NA   \n",
       "\n",
       "    context  \n",
       "100       3  \n",
       "101       3  \n",
       "102       3  \n",
       "103       5  \n",
       "104       5  \n",
       "\n",
       "[5 rows x 33 columns]"
      ]
     },
     "execution_count": 513,
     "metadata": {},
     "output_type": "execute_result"
    }
   ],
   "source": [
    "#extracting fc data from big dataframe\n",
    "fc = df[df.loc[:,'task']=='forced_choice']\n",
    "\n",
    "#adding column for test type\n",
    "def truncate_stimulus_type(x):\n",
    "    if x[3:5] == 'ac':\n",
    "        return 'accent'\n",
    "    elif x[3:5] == 'IC' and x[6] == 'd':\n",
    "        return 'IC_default'\n",
    "    elif x[3:5] == 'IC' and x[6] == 'a':\n",
    "        return 'IC_accent'\n",
    "fc['test_type'] = fc['stimulus'].map(truncate_stimulus_type)\n",
    "\n",
    "#adding column for IC\n",
    "def truncate_stimulus_IC(x):\n",
    "    if x[-8:-6] == '54' or x[-8:-6] == '34':\n",
    "        return 'low'\n",
    "    elif x[-8:-6] == '32' or x[-8:-6] == '56':\n",
    "        return 'high'\n",
    "    else:\n",
    "        return 'NA'\n",
    "fc['IC'] = fc['stimulus'].map(truncate_stimulus_IC)\n",
    "\n",
    "#adding column for context note\n",
    "def truncate_context(x):\n",
    "    if x[-8:-7] == '5' or x[-8:-7] == '3':\n",
    "        return x[-8:-7]\n",
    "    else:\n",
    "        return x[-7:-6]\n",
    "fc['context'] = fc['stimulus'].map(truncate_context)\n",
    "\n",
    "fc.head()\n"
   ]
  },
  {
   "attachments": {},
   "cell_type": "markdown",
   "metadata": {},
   "source": [
    "### Score between accents\n",
    "\n",
    "(choice is between accented and unaccented versions of the same melody)"
   ]
  },
  {
   "cell_type": "code",
   "execution_count": 514,
   "metadata": {},
   "outputs": [],
   "source": [
    "fc_accents = fc[fc['test_type']=='accent']\n",
    "\n",
    "\n",
    "high_IC_accent_scores = []\n",
    "low_IC_accent_scores = []\n",
    "\n",
    "#screening for participants who answered the exposure questions correctly\n",
    "for i in valid_participant_ids: \n",
    "    included_trials = fc_accents[fc_accents['subject'] == i]\n",
    "\n",
    "    high_IC_trials = included_trials[included_trials['IC'] == 'high']\n",
    "    low_IC_trials = included_trials[included_trials['IC'] == 'low']\n",
    "\n",
    "    score_high_IC = calculate_score(high_IC_trials['accent_chosen'])\n",
    "    score_low_IC = calculate_score(low_IC_trials['accent_chosen'])\n",
    "\n",
    "    high_IC_accent_scores.append(score_high_IC)\n",
    "    low_IC_accent_scores.append(score_low_IC)\n",
    "    \n",
    "        \n",
    "fc_results_accent_high = pd.DataFrame(data = {'valid_participant_ids': valid_participant_ids, 'score': high_IC_accent_scores, 'IC': 'high'})\n",
    "fc_results_accent_low = pd.DataFrame(data = {'valid_participant_ids': valid_participant_ids, 'score': low_IC_accent_scores, 'IC': 'low'})\n",
    "fc_accent_results = pd.concat([fc_results_accent_high,fc_results_accent_low])"
   ]
  },
  {
   "cell_type": "code",
   "execution_count": 515,
   "metadata": {},
   "outputs": [
    {
     "data": {
      "image/png": "[encoded data removed]",
      "text/plain": [
       "<Figure size 1200x500 with 2 Axes>"
      ]
     },
     "metadata": {},
     "output_type": "display_data"
    }
   ],
   "source": [
    "#same plot as above but with direct comparison between musicians and nonmusicians\n",
    "def plot_ws_accent(people, shade, ax):\n",
    "    ax.set_xlim(0.75, 2.25)\n",
    "    ax.set_xticks([1,2])\n",
    "    ax.set_xticklabels(['high IC', 'low IC'])\n",
    "\n",
    "    accent_chosen_low = []\n",
    "    accent_chosen_high = []\n",
    "\n",
    "    for i in people:\n",
    "        high_result = fc_accent_results[(fc_accent_results['valid_participant_ids']==i) & (fc_accent_results['IC']=='high')]['score']\n",
    "        low_result = fc_accent_results[(fc_accent_results['valid_participant_ids']==i) & (fc_accent_results['IC']=='low')]['score']\n",
    "\n",
    "        accent_chosen_low.append((low_result))\n",
    "        accent_chosen_high.append((high_result))\n",
    "        jitter = np.random.normal(-0.04,0.04, 2)\n",
    "        ax.plot([1,2]+jitter, [high_result, low_result], 'o-', color = shade, alpha = 0.2, markersize = 3)\n",
    "\n",
    "#calculating group statistics\n",
    "mus_mean_hi = fc_accent_results[(fc_accent_results['valid_participant_ids'].isin(musicians)) & (fc_accent_results['IC']=='high')]['score'].mean()\n",
    "mus_ci_hi = ci_95(fc_accent_results[(fc_accent_results['valid_participant_ids'].isin(musicians)) & (fc_accent_results['IC']=='high')]['score'])\n",
    "\n",
    "mus_mean_lo = fc_accent_results[(fc_accent_results['valid_participant_ids'].isin(musicians)) & (fc_accent_results['IC']=='low')]['score'].mean()\n",
    "mus_ci_lo = ci_95(fc_accent_results[(fc_accent_results['valid_participant_ids'].isin(musicians)) & (fc_accent_results['IC']=='low')]['score'])\n",
    "\n",
    "nnmus_mean_hi = fc_accent_results[(fc_accent_results['valid_participant_ids'].isin(nonmusicians)) & (fc_accent_results['IC']=='high')]['score'].mean()\n",
    "nmus_ci_hi = ci_95(fc_accent_results[(fc_accent_results['valid_participant_ids'].isin(nonmusicians)) & (fc_accent_results['IC']=='high')]['score'])\n",
    "\n",
    "nmus_mean_lo = fc_accent_results[(fc_accent_results['valid_participant_ids'].isin(nonmusicians)) & (fc_accent_results['IC']=='low')]['score'].mean()\n",
    "nmus_ci_lo = ci_95(fc_accent_results[(fc_accent_results['valid_participant_ids'].isin(nonmusicians)) & (fc_accent_results['IC']=='low')]['score'])\n",
    "\n",
    "fig, (ax1, ax2) = plt.subplots(1, 2, figsize=(12, 5), sharey = True)\n",
    "\n",
    "plot_ws_accent(musicians, 'green', ax1)\n",
    "ax1.errorbar([1,2], [mus_mean_hi, mus_mean_lo], yerr = [mus_ci_hi, mus_ci_lo], fmt = 'o-', color = 'green')\n",
    "ax1.set_title('Musicians', color = 'green')\n",
    "ax1.set_ylabel('Percentage of accented melodies chosen', fontsize = 14)\n",
    "\n",
    "plot_ws_accent(nonmusicians, 'grey', ax2)\n",
    "ax2.set_title('Nonmusicians', color = 'grey')\n",
    "ax2.errorbar([1,2], [nnmus_mean_hi, nmus_mean_lo], yerr = [nmus_ci_hi, nmus_ci_lo], fmt = 'o-', color = 'grey')\n",
    "\n",
    "plt.tight_layout()\n",
    "\n",
    "#plt.savefig('./figures for paper/ws_accent.png', dpi = 500)"
   ]
  },
  {
   "attachments": {},
   "cell_type": "markdown",
   "metadata": {},
   "source": [
    "### Score between IC \n",
    "\n",
    "(choice is between target note that is low or high IC)"
   ]
  },
  {
   "cell_type": "code",
   "execution_count": 516,
   "metadata": {},
   "outputs": [
    {
     "data": {
      "text/plain": [
       "\"\\nax = sns.barplot(data = fc_IC_results_accent, x  = 'valid_participant_ids' , y = 'score', ci = 'sd', palette= ['grey'])\\nax.set(xlabel='Participant ID', ylabel='High IC chosen', title = 'Target note accented')\""
      ]
     },
     "execution_count": 516,
     "metadata": {},
     "output_type": "execute_result"
    }
   ],
   "source": [
    "#IC forced choice where the target note is accented\n",
    "fc_ICs = fc[fc['test_type']=='IC_accent' ]\n",
    "\n",
    "\n",
    "high_IC_chosen_accent = []\n",
    "\n",
    "#screening for participants who answered the exposure questions correctly\n",
    "for i in valid_participant_ids: \n",
    "    included_trials = fc_ICs[fc_ICs['subject'] == i]\n",
    "    score_IC = calculate_score(included_trials['high_IC_chosen'])\n",
    "    high_IC_chosen_accent.append(score_IC)\n",
    "        \n",
    "fc_IC_results_accent = pd.DataFrame(data = {'valid_participant_ids': valid_participant_ids, 'score': high_IC_chosen_accent})\n",
    "\"\"\"\n",
    "ax = sns.barplot(data = fc_IC_results_accent, x  = 'valid_participant_ids' , y = 'score', ci = 'sd', palette= ['grey'])\n",
    "ax.set(xlabel='Participant ID', ylabel='High IC chosen', title = 'Target note accented')\"\"\""
   ]
  },
  {
   "cell_type": "code",
   "execution_count": 517,
   "metadata": {},
   "outputs": [
    {
     "data": {
      "text/plain": [
       "\"ax = sns.barplot(data = fc_IC_default_results, x  = 'valid_participant_ids' , y = 'score', ci = 'sd', palette= ['grey'])\\nax.set(xlabel='Participant ID', ylabel='High IC chosen', title = 'Target note not accented')\""
      ]
     },
     "execution_count": 517,
     "metadata": {},
     "output_type": "execute_result"
    }
   ],
   "source": [
    "#IC forced choice where the target note is NOT accented\n",
    "fc_ICs = fc[fc['test_type']=='IC_default' ]\n",
    "\n",
    "\n",
    "high_IC_chosen_default = []\n",
    "\n",
    "#screening for participants who answered the exposure questions correctly\n",
    "for i in valid_participant_ids: \n",
    "    included_trials = fc_ICs[fc_ICs['subject'] == i]\n",
    "    score_IC = calculate_score(included_trials['high_IC_chosen'])\n",
    "    high_IC_chosen_default.append(score_IC)\n",
    "        \n",
    "fc_IC_default_results = pd.DataFrame(data = {'valid_participant_ids': valid_participant_ids, 'score': high_IC_chosen_default})\n",
    "fc_IC_default_results\n",
    "\n",
    "\"\"\"ax = sns.barplot(data = fc_IC_default_results, x  = 'valid_participant_ids' , y = 'score', ci = 'sd', palette= ['grey'])\n",
    "ax.set(xlabel='Participant ID', ylabel='High IC chosen', title = 'Target note not accented')\"\"\""
   ]
  },
  {
   "cell_type": "code",
   "execution_count": 518,
   "metadata": {},
   "outputs": [],
   "source": [
    "fc_IC_results_accent['type'] = 'accent'\n",
    "fc_IC_default_results['type'] = 'default'\n",
    "fc_IC_results = pd.concat([fc_IC_results_accent, fc_IC_default_results])"
   ]
  },
  {
   "cell_type": "code",
   "execution_count": 519,
   "metadata": {},
   "outputs": [
    {
     "data": {
      "image/png": "[encoded data removed]",
      "text/plain": [
       "<Figure size 1200x500 with 2 Axes>"
      ]
     },
     "metadata": {},
     "output_type": "display_data"
    }
   ],
   "source": [
    "#same as plot above but with multiple groups compared in subplots\n",
    "def plot_ws_IC(people, shade, ax):\n",
    "    ax.set_xlim(0.75, 2.25)\n",
    "    ax.set_xticks([1, 2])\n",
    "    ax.set_xticklabels(['default', 'accented'])\n",
    "   # ax.set_ylabel('High IC melody chosen')\n",
    "\n",
    "    fc_IC_accent = []\n",
    "    fc_IC_default = []\n",
    "\n",
    "    for i in people:\n",
    "        accent_result = fc_IC_results[(fc_IC_results['valid_participant_ids'] == i) & (fc_IC_results['type'] == 'accent')]['score']\n",
    "        default_result = fc_IC_results[(fc_IC_results['valid_participant_ids'] == i) & (fc_IC_results['type'] == 'default')]['score']\n",
    "\n",
    "        fc_IC_accent.append(accent_result)\n",
    "        fc_IC_default.append(default_result)\n",
    "\n",
    "        jitter = np.random.uniform(-0.11, 0.11, 2)\n",
    "        ax.plot([1,2]+ jitter, [default_result, accent_result], 'o-', color=shade, alpha = 0.2, markersize = 2)\n",
    "\n",
    "fig, (ax1, ax2) = plt.subplots(1, 2, figsize=(12, 5), sharey = True) \n",
    "\n",
    "#calculating group statistics\n",
    "mus_mean_de = fc_IC_results[(fc_IC_results['valid_participant_ids'].isin(musicians)) & (fc_IC_results['type']=='default')]['score'].mean()\n",
    "mus_ci_de = ci_95(fc_IC_results[(fc_IC_results['valid_participant_ids'].isin(musicians)) & (fc_IC_results['type']=='default')]['score'])\n",
    "\n",
    "mus_mean_ac = fc_IC_results[(fc_IC_results['valid_participant_ids'].isin(musicians)) & (fc_IC_results['type']=='accent')]['score'].mean()\n",
    "mus_ci_ac = ci_95(fc_IC_results[(fc_IC_results['valid_participant_ids'].isin(musicians)) & (fc_IC_results['type']=='accent')]['score'])\n",
    "\n",
    "nmus_mean_de = fc_IC_results[(fc_IC_results['valid_participant_ids'].isin(nonmusicians)) & (fc_IC_results['type']=='default')]['score'].mean()\n",
    "nmus_ci_de = ci_95(fc_IC_results[(fc_IC_results['valid_participant_ids'].isin(nonmusicians)) & (fc_IC_results['type']=='default')]['score'])\n",
    "\n",
    "nmus_mean_ac = fc_IC_results[(fc_IC_results['valid_participant_ids'].isin(nonmusicians)) & (fc_IC_results['type']=='accent')]['score'].mean()\n",
    "nmus_ci_ac = ci_95(fc_IC_results[(fc_IC_results['valid_participant_ids'].isin(nonmusicians)) & (fc_IC_results['type']=='accent')]['score'])\n",
    "\n",
    "plot_ws_IC(musicians, 'green', ax1)\n",
    "ax1.set_title('Musicians', color = 'green')\n",
    "#ax1.plot([1,2], [60,60])\n",
    "ax1.errorbar([1,2], [mus_mean_de, mus_mean_ac], yerr = [mus_ci_de, mus_ci_ac], fmt = 'o-', color = 'green')\n",
    "ax1.set_ylabel('Percentage of high IC melodies chosen', fontsize = 14)\n",
    "\n",
    "plot_ws_IC(nonmusicians, 'grey', ax2) \n",
    "ax2.set_title('Nonmusicians', color = 'grey')\n",
    "ax2.errorbar([1,2], [nmus_mean_de, nmus_mean_ac], yerr = [nmus_ci_de, nmus_ci_ac], fmt = 'o-', color = 'grey')\n",
    "ax2.set_ylabel('')\n",
    "\n",
    "plt.tight_layout()  \n",
    "\n",
    "\n",
    "#plt.savefig('./figures for paper/ws_IC.png', dpi = 500)"
   ]
  },
  {
   "cell_type": "code",
   "execution_count": 520,
   "metadata": {},
   "outputs": [],
   "source": [
    "def jitter(list):\n",
    "    noise = np.random.uniform(-4, 4, len(list))\n",
    "    return list+noise"
   ]
  },
  {
   "attachments": {},
   "cell_type": "markdown",
   "metadata": {},
   "source": [
    "PART 2A: Scores separated by context note"
   ]
  },
  {
   "cell_type": "code",
   "execution_count": 521,
   "metadata": {},
   "outputs": [],
   "source": [
    "fc_3 = fc[fc['context']=='3']\n",
    "fc_5 = fc[fc['context']=='5']"
   ]
  },
  {
   "attachments": {},
   "cell_type": "markdown",
   "metadata": {},
   "source": [
    "Accent by context"
   ]
  },
  {
   "cell_type": "code",
   "execution_count": 522,
   "metadata": {},
   "outputs": [
    {
     "name": "stderr",
     "output_type": "stream",
     "text": [
      "/var/folders/18/hp_602x50x34x_4p_qjc80g40000gn/T/ipykernel_38037/2206463160.py:29: FutureWarning: \n",
      "\n",
      "The `ci` parameter is deprecated. Use `errorbar='sd'` for the same effect.\n",
      "\n",
      "  ax = sns.barplot(data = fc_accent_results_3, x  = 'IC' , y = 'score', ci = 'sd')\n"
     ]
    },
    {
     "data": {
      "text/plain": [
       "[Text(0.5, 23.52222222222222, 'Target note IC'),\n",
       " Text(38.097222222222214, 0.5, 'Accented version chosen'),\n",
       " Text(0.5, 1.0, 'Context = 3')]"
      ]
     },
     "execution_count": 522,
     "metadata": {},
     "output_type": "execute_result"
    },
    {
     "data": {
      "image/png": "[encoded data removed]",
      "text/plain": [
       "<Figure size 640x480 with 1 Axes>"
      ]
     },
     "metadata": {},
     "output_type": "display_data"
    }
   ],
   "source": [
    "#redoing same as above but plotting when accents were chosen (instead of score which inverses the correct answers for low and high IC)\n",
    "fc_accents_3 = fc_3[fc_3['test_type']=='accent']\n",
    "\n",
    "\n",
    "high_IC_accent_scores = []\n",
    "low_IC_accent_scores = []\n",
    "\n",
    "#screening for participants who answered the exposure questions correctly\n",
    "for i in valid_participant_ids: \n",
    "    included_trials = fc_accents_3[fc_accents_3['subject'] == i]\n",
    "\n",
    "    high_IC_trials = included_trials[included_trials['IC'] == 'high']\n",
    "    low_IC_trials = included_trials[included_trials['IC'] == 'low']\n",
    "\n",
    "    score_high_IC = calculate_score(high_IC_trials['accent_chosen'])\n",
    "    score_low_IC = calculate_score(low_IC_trials['accent_chosen'])\n",
    "\n",
    "    high_IC_accent_scores.append(score_high_IC)\n",
    "    low_IC_accent_scores.append(score_low_IC)\n",
    "    \n",
    "        \n",
    "fc_results_accent_high = pd.DataFrame(data = {'valid_participant_ids': valid_participant_ids, 'score': high_IC_accent_scores, 'IC': 'high'})\n",
    "fc_results_accent_low = pd.DataFrame(data = {'valid_participant_ids': valid_participant_ids, 'score': low_IC_accent_scores, 'IC': 'low'})\n",
    "\n",
    "fc_accent_results_3 = pd.concat([fc_results_accent_high,fc_results_accent_low])\n",
    "\n",
    "#ax = sns.violinplot(data = fc_accent_results_3, x  = 'IC' , y = 'score', ci = 'sd')\n",
    "\n",
    "ax = sns.barplot(data = fc_accent_results_3, x  = 'IC' , y = 'score', ci = 'sd')\n",
    "ax = sns.swarmplot(data = fc_accent_results_3, x  = 'IC' , y = 'score', color = 'black')\n",
    "ax.set(xlabel='Target note IC', ylabel='Accented version chosen', title = 'Context = 3')\n",
    "\n",
    "#plt.savefig(fig_dir+'supp_accent_bycontext_3.png', dpi = 300)"
   ]
  },
  {
   "cell_type": "code",
   "execution_count": 523,
   "metadata": {},
   "outputs": [
    {
     "name": "stderr",
     "output_type": "stream",
     "text": [
      "/var/folders/18/hp_602x50x34x_4p_qjc80g40000gn/T/ipykernel_38037/2679665856.py:28: FutureWarning: \n",
      "\n",
      "The `ci` parameter is deprecated. Use `errorbar='sd'` for the same effect.\n",
      "\n",
      "  ax = sns.barplot(data = fc_accent_results_5, x  = 'IC' , y = 'score', ci = 'sd')\n"
     ]
    },
    {
     "data": {
      "text/plain": [
       "[Text(0.5, 23.52222222222222, 'Target note IC'),\n",
       " Text(38.097222222222214, 0.5, 'Accented version chosen'),\n",
       " Text(0.5, 1.0, 'Context = 5')]"
      ]
     },
     "execution_count": 523,
     "metadata": {},
     "output_type": "execute_result"
    },
    {
     "data": {
      "image/png": "[encoded data removed]",
      "text/plain": [
       "<Figure size 640x480 with 1 Axes>"
      ]
     },
     "metadata": {},
     "output_type": "display_data"
    }
   ],
   "source": [
    "#redoing same as above but plotting when accents were chosen (instead of score which inverses the correct answers for low and high IC)\n",
    "fc_accents_5 = fc_5[fc_5['test_type']=='accent']\n",
    "\n",
    "\n",
    "high_IC_accent_scores = []\n",
    "low_IC_accent_scores = []\n",
    "\n",
    "#screening for participants who answered the exposure questions correctly\n",
    "for i in valid_participant_ids: \n",
    "    included_trials = fc_accents_5[fc_accents_5['subject'] == i]\n",
    "\n",
    "    high_IC_trials = included_trials[included_trials['IC'] == 'high']\n",
    "    low_IC_trials = included_trials[included_trials['IC'] == 'low']\n",
    "\n",
    "    score_high_IC = calculate_score(high_IC_trials['accent_chosen'])\n",
    "    score_low_IC = calculate_score(low_IC_trials['accent_chosen'])\n",
    "\n",
    "    high_IC_accent_scores.append(score_high_IC)\n",
    "    low_IC_accent_scores.append(score_low_IC)\n",
    "    \n",
    "        \n",
    "fc_results_accent_high = pd.DataFrame(data = {'valid_participant_ids': valid_participant_ids, 'score': high_IC_accent_scores, 'IC': 'high'})\n",
    "fc_results_accent_low = pd.DataFrame(data = {'valid_participant_ids': valid_participant_ids, 'score': low_IC_accent_scores, 'IC': 'low'})\n",
    "\n",
    "fc_accent_results_5 = pd.concat([fc_results_accent_high,fc_results_accent_low])\n",
    "\n",
    "\n",
    "ax = sns.barplot(data = fc_accent_results_5, x  = 'IC' , y = 'score', ci = 'sd')\n",
    "ax = sns.swarmplot(data = fc_accent_results_5, x  = 'IC' , y = 'score', color = 'black')\n",
    "ax.set(xlabel='Target note IC', ylabel='Accented version chosen', title = 'Context = 5')\n",
    "\n",
    "#plt.savefig(fig_dir+'supp_accent_bycontext_5.png', dpi = 300)"
   ]
  },
  {
   "attachments": {},
   "cell_type": "markdown",
   "metadata": {},
   "source": [
    "IC by context"
   ]
  },
  {
   "cell_type": "code",
   "execution_count": 524,
   "metadata": {},
   "outputs": [
    {
     "name": "stderr",
     "output_type": "stream",
     "text": [
      "/var/folders/18/hp_602x50x34x_4p_qjc80g40000gn/T/ipykernel_38037/4264931625.py:30: FutureWarning: \n",
      "\n",
      "The `ci` parameter is deprecated. Use `errorbar='sd'` for the same effect.\n",
      "\n",
      "  ax = sns.barplot(data = fc_IC_results_3, x  = 'accent_condition' , y = 'score', ci = 'sd', palette= ['grey'])\n",
      "/var/folders/18/hp_602x50x34x_4p_qjc80g40000gn/T/ipykernel_38037/4264931625.py:30: FutureWarning: \n",
      "\n",
      "Passing `palette` without assigning `hue` is deprecated and will be removed in v0.14.0. Assign the `x` variable to `hue` and set `legend=False` for the same effect.\n",
      "\n",
      "  ax = sns.barplot(data = fc_IC_results_3, x  = 'accent_condition' , y = 'score', ci = 'sd', palette= ['grey'])\n",
      "/var/folders/18/hp_602x50x34x_4p_qjc80g40000gn/T/ipykernel_38037/4264931625.py:30: UserWarning: \n",
      "The palette list has fewer values (1) than needed (2) and will cycle, which may produce an uninterpretable plot.\n",
      "  ax = sns.barplot(data = fc_IC_results_3, x  = 'accent_condition' , y = 'score', ci = 'sd', palette= ['grey'])\n"
     ]
    },
    {
     "data": {
      "text/plain": [
       "[Text(0.5, 23.52222222222222, 'Participant ID'),\n",
       " Text(46.972222222222214, 0.5, 'High IC chosen'),\n",
       " Text(0.5, 1.0, 'Context = 3')]"
      ]
     },
     "execution_count": 524,
     "metadata": {},
     "output_type": "execute_result"
    },
    {
     "data": {
      "image/png": "[encoded data removed]",
      "text/plain": [
       "<Figure size 640x480 with 1 Axes>"
      ]
     },
     "metadata": {},
     "output_type": "display_data"
    }
   ],
   "source": [
    "fc_ICs_3_accent = fc_3[fc_3['test_type']=='IC_accent']\n",
    "\n",
    "\n",
    "high_IC_chosen = []\n",
    "\n",
    "#calculating results for when target note is accented\n",
    "for i in valid_participant_ids: \n",
    "    included_trials = fc_ICs_3_accent[fc_ICs_3_accent['subject'] == i]\n",
    "    score_IC = calculate_score(included_trials['high_IC_chosen'])\n",
    "    high_IC_chosen.append(score_IC)\n",
    "        \n",
    "fc_IC_results_3_accent = pd.DataFrame(data = {'valid_participant_ids': valid_participant_ids, 'score': high_IC_chosen, 'accent_condition': 'accent'})\n",
    "\n",
    "#calculating results for when target note is not accented\n",
    "fc_ICs_3_default = fc_3[fc_3['test_type']=='IC_default']\n",
    "\n",
    "high_IC_chosen = []\n",
    "\n",
    "for i in valid_participant_ids: \n",
    "    included_trials = fc_ICs_3_default[fc_ICs_3_default['subject'] == i]\n",
    "    score_IC = calculate_score(included_trials['high_IC_chosen'])\n",
    "    high_IC_chosen.append(score_IC)\n",
    "        \n",
    "fc_IC_results_3_default = pd.DataFrame(data = {'valid_participant_ids': valid_participant_ids, 'score': high_IC_chosen, 'accent_condition': 'default'})\n",
    "\n",
    "\n",
    "#appending the two dataframes together\n",
    "fc_IC_results_3 = pd.concat([fc_IC_results_3_accent, fc_IC_results_3_default])\n",
    "\n",
    "ax = sns.barplot(data = fc_IC_results_3, x  = 'accent_condition' , y = 'score', ci = 'sd', palette= ['grey'])\n",
    "ax = sns.swarmplot(data = fc_IC_results_3, x = 'accent_condition', y = 'score', color = 'black')\n",
    "ax.set(xlabel='Participant ID', ylabel='High IC chosen', title = 'Context = 3')\n",
    "\n",
    "\n",
    "#plt.savefig(fig_dir+'supp_IC_bycontext_3.png', dpi = 300)"
   ]
  },
  {
   "cell_type": "code",
   "execution_count": 525,
   "metadata": {},
   "outputs": [
    {
     "name": "stderr",
     "output_type": "stream",
     "text": [
      "/var/folders/18/hp_602x50x34x_4p_qjc80g40000gn/T/ipykernel_38037/1316388651.py:31: FutureWarning: \n",
      "\n",
      "The `ci` parameter is deprecated. Use `errorbar='sd'` for the same effect.\n",
      "\n",
      "  ax = sns.barplot(data = fc_IC_results_5, x  = 'accent_condition' , y = 'score', ci = 'sd', palette= ['grey'])\n",
      "/var/folders/18/hp_602x50x34x_4p_qjc80g40000gn/T/ipykernel_38037/1316388651.py:31: FutureWarning: \n",
      "\n",
      "Passing `palette` without assigning `hue` is deprecated and will be removed in v0.14.0. Assign the `x` variable to `hue` and set `legend=False` for the same effect.\n",
      "\n",
      "  ax = sns.barplot(data = fc_IC_results_5, x  = 'accent_condition' , y = 'score', ci = 'sd', palette= ['grey'])\n",
      "/var/folders/18/hp_602x50x34x_4p_qjc80g40000gn/T/ipykernel_38037/1316388651.py:31: UserWarning: \n",
      "The palette list has fewer values (1) than needed (2) and will cycle, which may produce an uninterpretable plot.\n",
      "  ax = sns.barplot(data = fc_IC_results_5, x  = 'accent_condition' , y = 'score', ci = 'sd', palette= ['grey'])\n"
     ]
    },
    {
     "data": {
      "text/plain": [
       "[Text(0.5, 23.52222222222222, 'Participant ID'),\n",
       " Text(38.097222222222214, 0.5, 'High IC chosen'),\n",
       " Text(0.5, 1.0, 'Context = 5')]"
      ]
     },
     "execution_count": 525,
     "metadata": {},
     "output_type": "execute_result"
    },
    {
     "data": {
      "image/png": "[encoded data removed]",
      "text/plain": [
       "<Figure size 640x480 with 1 Axes>"
      ]
     },
     "metadata": {},
     "output_type": "display_data"
    }
   ],
   "source": [
    "fc_ICs_5_accent = fc_5[fc_5['test_type']=='IC_accent']\n",
    "\n",
    "\n",
    "high_IC_chosen = []\n",
    "\n",
    "#calculating results for when target note is accented\n",
    "for i in valid_participant_ids: \n",
    "    included_trials = fc_ICs_5_accent[fc_ICs_5_accent['subject'] == i]\n",
    "    score_IC = calculate_score(included_trials['high_IC_chosen'])\n",
    "    high_IC_chosen.append(score_IC)\n",
    "        \n",
    "fc_IC_results_5_accent = pd.DataFrame(data = {'valid_participant_ids': valid_participant_ids, 'score': high_IC_chosen, 'accent_condition': 'accent'})\n",
    "\n",
    "#calculating results for when target note is not accented\n",
    "fc_ICs_5_default = fc_5[fc_5['test_type']=='IC_default']\n",
    "\n",
    "high_IC_chosen = []\n",
    "\n",
    "for i in valid_participant_ids: \n",
    "    included_trials = fc_ICs_5_default[fc_ICs_5_default['subject'] == i]\n",
    "    score_IC = calculate_score(included_trials['high_IC_chosen'])\n",
    "    high_IC_chosen.append(score_IC)\n",
    "        \n",
    "fc_IC_results_5_default = pd.DataFrame(data = {'valid_participant_ids': valid_participant_ids, 'score': high_IC_chosen, 'accent_condition': 'default'})\n",
    "\n",
    "\n",
    "#appending the two dataframes together\n",
    "\n",
    "fc_IC_results_5 = pd.concat([fc_IC_results_5_accent, fc_IC_results_5_default])\n",
    "\n",
    "ax = sns.barplot(data = fc_IC_results_5, x  = 'accent_condition' , y = 'score', ci = 'sd', palette= ['grey'])\n",
    "ax = sns.swarmplot(data = fc_IC_results_5, x = 'accent_condition', y = 'score', color = 'black')\n",
    "ax.set(xlabel='Participant ID', ylabel='High IC chosen', title = 'Context = 5')\n",
    "\n",
    "#plt.savefig(fig_dir+'supp_IC_bycontext_5.png', dpi = 300)"
   ]
  },
  {
   "attachments": {},
   "cell_type": "markdown",
   "metadata": {},
   "source": [
    "## PART 3: OLS Regression"
   ]
  },
  {
   "attachments": {},
   "cell_type": "markdown",
   "metadata": {},
   "source": [
    "Accent regression"
   ]
  },
  {
   "cell_type": "code",
   "execution_count": 526,
   "metadata": {},
   "outputs": [],
   "source": [
    "\"\"\"\n",
    "takes a list of sequences and converts everything in the list to the expected durations\n",
    "returns dataframe with file names and the list of durations\n",
    "\"\"\"\n",
    "def seq_to_df(seq_list, filename):\n",
    "\n",
    "    filenames = []\n",
    "    file_index = 1\n",
    "\n",
    "    for item in seq_list:\n",
    "        filenames.append(str(filename)+'_'+str(file_index)+'.mp3')\n",
    "        \n",
    "        file_index +=1\n",
    "    df = pd.DataFrame(data = {'filename': filenames, 'sequence': seq_list})\n",
    "    return df\n"
   ]
  },
  {
   "cell_type": "code",
   "execution_count": 527,
   "metadata": {},
   "outputs": [],
   "source": [
    "\"\"\"\n",
    "takes the pkl lists in an experiment folder \n",
    "folder should be a string of the folder name\n",
    "tonic should be 'tonic G4, tonic C4, etc' \n",
    "\"\"\"\n",
    "def pkl_to_seq(folder, tonic):\n",
    "\n",
    "    fc_IC_default_short_5 = pkl_to_list(folder+'/fc_IC_default_short_5.pkl')\n",
    "    fc_IC_accent_short_5 = pkl_to_list(folder+'/fc_IC_accent_short_5.pkl')\n",
    "    fc_IC_default_short_3 = pkl_to_list(folder+'/fc_IC_default_short_3.pkl')\n",
    "    fc_IC_accent_short_3 = pkl_to_list(folder+'/fc_IC_accent_short_3.pkl')\n",
    "\n",
    "    fc_accents_short_54 = pkl_to_list(folder+'/fc_accents_short_54.pkl')\n",
    "    fc_accents_short_56 = pkl_to_list(folder+'/fc_accents_short_56.pkl')\n",
    "    fc_accents_short_34 = pkl_to_list(folder+'/fc_accents_short_34.pkl')\n",
    "    fc_accents_short_32 = pkl_to_list(folder+'/fc_accents_short_32.pkl')\n",
    "\n",
    "    \n",
    "\n",
    "    df_1 = seq_to_df(fc_accents_short_54, 'fc_accents_54')\n",
    "    df_2 = seq_to_df(fc_accents_short_56, 'fc_accents_56')\n",
    "    df_3 = seq_to_df(fc_accents_short_32, 'fc_accents_32')\n",
    "    df_4 = seq_to_df(fc_accents_short_34, 'fc_accents_34')\n",
    "\n",
    "    df_5 = seq_to_df(fc_IC_default_short_5, 'fc_IC_default_5')\n",
    "    df_6 = seq_to_df(fc_IC_accent_short_5, 'fc_IC_accent_5')\n",
    "    df_7 = seq_to_df(fc_IC_default_short_3, 'fc_IC_default_3')\n",
    "    df_8 = seq_to_df(fc_IC_accent_short_3, 'fc_IC_accent_3')\n",
    "\n",
    "    seq_df = pd.DataFrame(columns=['filename', 'sequence', 'condition'])\n",
    "    seq_df= pd.concat([df_1, df_2, df_3, df_4, df_5, df_6, df_7, df_8], ignore_index= True)\n",
    "    seq_df['condition'] = tonic\n",
    "\n",
    "    return seq_df\n"
   ]
  },
  {
   "cell_type": "code",
   "execution_count": 528,
   "metadata": {},
   "outputs": [],
   "source": [
    "seq_df_G = pkl_to_seq('../intermediate_files/5', 'tonic G4')\n",
    "#seq_df_Bb = pkl_to_seq('pkl files pilot 5_1', 'tonic Bb4')\n",
    "#seq_df_C = pkl_to_seq('pkl files pilot 5_2', 'tonic C4')\n",
    "\n",
    "#seq_df_all = pd.concat([seq_df_G, seq_df_Bb, seq_df_C])\n",
    "seq_df_all = pd.concat([seq_df_G])"
   ]
  },
  {
   "cell_type": "code",
   "execution_count": 529,
   "metadata": {},
   "outputs": [
    {
     "data": {
      "text/html": [
       "<div>\n",
       "<style scoped>\n",
       "    .dataframe tbody tr th:only-of-type {\n",
       "        vertical-align: middle;\n",
       "    }\n",
       "\n",
       "    .dataframe tbody tr th {\n",
       "        vertical-align: top;\n",
       "    }\n",
       "\n",
       "    .dataframe thead th {\n",
       "        text-align: right;\n",
       "    }\n",
       "</style>\n",
       "<table border=\"1\" class=\"dataframe\">\n",
       "  <thead>\n",
       "    <tr style=\"text-align: right;\">\n",
       "      <th></th>\n",
       "      <th>filename</th>\n",
       "      <th>sequence</th>\n",
       "      <th>condition</th>\n",
       "    </tr>\n",
       "  </thead>\n",
       "  <tbody>\n",
       "    <tr>\n",
       "      <th>0</th>\n",
       "      <td>fc_accents_54_1.mp3</td>\n",
       "      <td>[1, 2, 6, 5, 4, 3, 1]</td>\n",
       "      <td>tonic G4</td>\n",
       "    </tr>\n",
       "    <tr>\n",
       "      <th>1</th>\n",
       "      <td>fc_accents_54_2.mp3</td>\n",
       "      <td>[1, 2, 6, 5, 4, 3, 1]</td>\n",
       "      <td>tonic G4</td>\n",
       "    </tr>\n",
       "    <tr>\n",
       "      <th>2</th>\n",
       "      <td>fc_accents_54_3.mp3</td>\n",
       "      <td>[1, 2, 6, 5, 4, 5, 3, 1]</td>\n",
       "      <td>tonic G4</td>\n",
       "    </tr>\n",
       "    <tr>\n",
       "      <th>3</th>\n",
       "      <td>fc_accents_54_4.mp3</td>\n",
       "      <td>[1, 3, 6, 5, 4, 3, 1]</td>\n",
       "      <td>tonic G4</td>\n",
       "    </tr>\n",
       "    <tr>\n",
       "      <th>4</th>\n",
       "      <td>fc_accents_56_1.mp3</td>\n",
       "      <td>[1, 2, 5, 6, 3, 1]</td>\n",
       "      <td>tonic G4</td>\n",
       "    </tr>\n",
       "    <tr>\n",
       "      <th>5</th>\n",
       "      <td>fc_accents_56_2.mp3</td>\n",
       "      <td>[1, 2, 6, 5, 6, 3, 1]</td>\n",
       "      <td>tonic G4</td>\n",
       "    </tr>\n",
       "    <tr>\n",
       "      <th>6</th>\n",
       "      <td>fc_accents_56_3.mp3</td>\n",
       "      <td>[1, 3, 6, 5, 6, 3, 1]</td>\n",
       "      <td>tonic G4</td>\n",
       "    </tr>\n",
       "    <tr>\n",
       "      <th>7</th>\n",
       "      <td>fc_accents_56_4.mp3</td>\n",
       "      <td>[1, 2, 6, 5, 6, 3, 1]</td>\n",
       "      <td>tonic G4</td>\n",
       "    </tr>\n",
       "    <tr>\n",
       "      <th>8</th>\n",
       "      <td>fc_accents_32_1.mp3</td>\n",
       "      <td>[1, 2, 3, 2, 5, 3, 1]</td>\n",
       "      <td>tonic G4</td>\n",
       "    </tr>\n",
       "    <tr>\n",
       "      <th>9</th>\n",
       "      <td>fc_accents_32_2.mp3</td>\n",
       "      <td>[1, 2, 6, 3, 2, 5, 3, 1]</td>\n",
       "      <td>tonic G4</td>\n",
       "    </tr>\n",
       "    <tr>\n",
       "      <th>10</th>\n",
       "      <td>fc_accents_32_3.mp3</td>\n",
       "      <td>[1, 3, 6, 3, 2, 3, 1]</td>\n",
       "      <td>tonic G4</td>\n",
       "    </tr>\n",
       "    <tr>\n",
       "      <th>11</th>\n",
       "      <td>fc_accents_32_4.mp3</td>\n",
       "      <td>[1, 2, 6, 3, 2, 5, 3, 1]</td>\n",
       "      <td>tonic G4</td>\n",
       "    </tr>\n",
       "    <tr>\n",
       "      <th>12</th>\n",
       "      <td>fc_accents_34_1.mp3</td>\n",
       "      <td>[1, 2, 6, 3, 4, 3, 1]</td>\n",
       "      <td>tonic G4</td>\n",
       "    </tr>\n",
       "    <tr>\n",
       "      <th>13</th>\n",
       "      <td>fc_accents_34_2.mp3</td>\n",
       "      <td>[1, 2, 3, 4, 3, 1]</td>\n",
       "      <td>tonic G4</td>\n",
       "    </tr>\n",
       "    <tr>\n",
       "      <th>14</th>\n",
       "      <td>fc_accents_34_3.mp3</td>\n",
       "      <td>[1, 2, 6, 3, 4, 5, 3, 1]</td>\n",
       "      <td>tonic G4</td>\n",
       "    </tr>\n",
       "    <tr>\n",
       "      <th>15</th>\n",
       "      <td>fc_accents_34_4.mp3</td>\n",
       "      <td>[1, 2, 6, 3, 4, 5, 3, 1]</td>\n",
       "      <td>tonic G4</td>\n",
       "    </tr>\n",
       "    <tr>\n",
       "      <th>16</th>\n",
       "      <td>fc_IC_default_5_1.mp3</td>\n",
       "      <td>[1, 2, 6, 5, 4, 3, 1]</td>\n",
       "      <td>tonic G4</td>\n",
       "    </tr>\n",
       "    <tr>\n",
       "      <th>17</th>\n",
       "      <td>fc_IC_default_5_2.mp3</td>\n",
       "      <td>[1, 2, 6, 5, 4, 3, 1]</td>\n",
       "      <td>tonic G4</td>\n",
       "    </tr>\n",
       "    <tr>\n",
       "      <th>18</th>\n",
       "      <td>fc_IC_default_5_3.mp3</td>\n",
       "      <td>[1, 2, 6, 5, 4, 5, 3, 1]</td>\n",
       "      <td>tonic G4</td>\n",
       "    </tr>\n",
       "    <tr>\n",
       "      <th>19</th>\n",
       "      <td>fc_IC_default_5_4.mp3</td>\n",
       "      <td>[1, 2, 6, 5, 4, 5, 3, 1]</td>\n",
       "      <td>tonic G4</td>\n",
       "    </tr>\n",
       "    <tr>\n",
       "      <th>20</th>\n",
       "      <td>fc_IC_accent_5_1.mp3</td>\n",
       "      <td>[1, 2, 6, 5, 4, 5, 3, 1]</td>\n",
       "      <td>tonic G4</td>\n",
       "    </tr>\n",
       "    <tr>\n",
       "      <th>21</th>\n",
       "      <td>fc_IC_accent_5_2.mp3</td>\n",
       "      <td>[1, 2, 6, 5, 4, 5, 3, 1]</td>\n",
       "      <td>tonic G4</td>\n",
       "    </tr>\n",
       "    <tr>\n",
       "      <th>22</th>\n",
       "      <td>fc_IC_accent_5_3.mp3</td>\n",
       "      <td>[1, 2, 5, 4, 3, 1]</td>\n",
       "      <td>tonic G4</td>\n",
       "    </tr>\n",
       "    <tr>\n",
       "      <th>23</th>\n",
       "      <td>fc_IC_accent_5_4.mp3</td>\n",
       "      <td>[1, 2, 6, 5, 4, 5, 3, 1]</td>\n",
       "      <td>tonic G4</td>\n",
       "    </tr>\n",
       "    <tr>\n",
       "      <th>24</th>\n",
       "      <td>fc_IC_default_3_1.mp3</td>\n",
       "      <td>[1, 2, 6, 3, 2, 5, 3, 1]</td>\n",
       "      <td>tonic G4</td>\n",
       "    </tr>\n",
       "    <tr>\n",
       "      <th>25</th>\n",
       "      <td>fc_IC_default_3_2.mp3</td>\n",
       "      <td>[1, 2, 6, 3, 2, 5, 3, 1]</td>\n",
       "      <td>tonic G4</td>\n",
       "    </tr>\n",
       "    <tr>\n",
       "      <th>26</th>\n",
       "      <td>fc_IC_default_3_3.mp3</td>\n",
       "      <td>[1, 2, 6, 3, 2, 5, 3, 1]</td>\n",
       "      <td>tonic G4</td>\n",
       "    </tr>\n",
       "    <tr>\n",
       "      <th>27</th>\n",
       "      <td>fc_IC_default_3_4.mp3</td>\n",
       "      <td>[1, 3, 6, 3, 2, 5, 3, 1]</td>\n",
       "      <td>tonic G4</td>\n",
       "    </tr>\n",
       "    <tr>\n",
       "      <th>28</th>\n",
       "      <td>fc_IC_accent_3_1.mp3</td>\n",
       "      <td>[1, 2, 6, 3, 2, 5, 3, 1]</td>\n",
       "      <td>tonic G4</td>\n",
       "    </tr>\n",
       "    <tr>\n",
       "      <th>29</th>\n",
       "      <td>fc_IC_accent_3_2.mp3</td>\n",
       "      <td>[1, 3, 6, 3, 2, 3, 1]</td>\n",
       "      <td>tonic G4</td>\n",
       "    </tr>\n",
       "    <tr>\n",
       "      <th>30</th>\n",
       "      <td>fc_IC_accent_3_3.mp3</td>\n",
       "      <td>[1, 2, 6, 3, 2, 3, 1]</td>\n",
       "      <td>tonic G4</td>\n",
       "    </tr>\n",
       "    <tr>\n",
       "      <th>31</th>\n",
       "      <td>fc_IC_accent_3_4.mp3</td>\n",
       "      <td>[1, 2, 6, 3, 2, 3, 1]</td>\n",
       "      <td>tonic G4</td>\n",
       "    </tr>\n",
       "  </tbody>\n",
       "</table>\n",
       "</div>"
      ],
      "text/plain": [
       "                 filename                  sequence condition\n",
       "0     fc_accents_54_1.mp3     [1, 2, 6, 5, 4, 3, 1]  tonic G4\n",
       "1     fc_accents_54_2.mp3     [1, 2, 6, 5, 4, 3, 1]  tonic G4\n",
       "2     fc_accents_54_3.mp3  [1, 2, 6, 5, 4, 5, 3, 1]  tonic G4\n",
       "3     fc_accents_54_4.mp3     [1, 3, 6, 5, 4, 3, 1]  tonic G4\n",
       "4     fc_accents_56_1.mp3        [1, 2, 5, 6, 3, 1]  tonic G4\n",
       "5     fc_accents_56_2.mp3     [1, 2, 6, 5, 6, 3, 1]  tonic G4\n",
       "6     fc_accents_56_3.mp3     [1, 3, 6, 5, 6, 3, 1]  tonic G4\n",
       "7     fc_accents_56_4.mp3     [1, 2, 6, 5, 6, 3, 1]  tonic G4\n",
       "8     fc_accents_32_1.mp3     [1, 2, 3, 2, 5, 3, 1]  tonic G4\n",
       "9     fc_accents_32_2.mp3  [1, 2, 6, 3, 2, 5, 3, 1]  tonic G4\n",
       "10    fc_accents_32_3.mp3     [1, 3, 6, 3, 2, 3, 1]  tonic G4\n",
       "11    fc_accents_32_4.mp3  [1, 2, 6, 3, 2, 5, 3, 1]  tonic G4\n",
       "12    fc_accents_34_1.mp3     [1, 2, 6, 3, 4, 3, 1]  tonic G4\n",
       "13    fc_accents_34_2.mp3        [1, 2, 3, 4, 3, 1]  tonic G4\n",
       "14    fc_accents_34_3.mp3  [1, 2, 6, 3, 4, 5, 3, 1]  tonic G4\n",
       "15    fc_accents_34_4.mp3  [1, 2, 6, 3, 4, 5, 3, 1]  tonic G4\n",
       "16  fc_IC_default_5_1.mp3     [1, 2, 6, 5, 4, 3, 1]  tonic G4\n",
       "17  fc_IC_default_5_2.mp3     [1, 2, 6, 5, 4, 3, 1]  tonic G4\n",
       "18  fc_IC_default_5_3.mp3  [1, 2, 6, 5, 4, 5, 3, 1]  tonic G4\n",
       "19  fc_IC_default_5_4.mp3  [1, 2, 6, 5, 4, 5, 3, 1]  tonic G4\n",
       "20   fc_IC_accent_5_1.mp3  [1, 2, 6, 5, 4, 5, 3, 1]  tonic G4\n",
       "21   fc_IC_accent_5_2.mp3  [1, 2, 6, 5, 4, 5, 3, 1]  tonic G4\n",
       "22   fc_IC_accent_5_3.mp3        [1, 2, 5, 4, 3, 1]  tonic G4\n",
       "23   fc_IC_accent_5_4.mp3  [1, 2, 6, 5, 4, 5, 3, 1]  tonic G4\n",
       "24  fc_IC_default_3_1.mp3  [1, 2, 6, 3, 2, 5, 3, 1]  tonic G4\n",
       "25  fc_IC_default_3_2.mp3  [1, 2, 6, 3, 2, 5, 3, 1]  tonic G4\n",
       "26  fc_IC_default_3_3.mp3  [1, 2, 6, 3, 2, 5, 3, 1]  tonic G4\n",
       "27  fc_IC_default_3_4.mp3  [1, 3, 6, 3, 2, 5, 3, 1]  tonic G4\n",
       "28   fc_IC_accent_3_1.mp3  [1, 2, 6, 3, 2, 5, 3, 1]  tonic G4\n",
       "29   fc_IC_accent_3_2.mp3     [1, 3, 6, 3, 2, 3, 1]  tonic G4\n",
       "30   fc_IC_accent_3_3.mp3     [1, 2, 6, 3, 2, 3, 1]  tonic G4\n",
       "31   fc_IC_accent_3_4.mp3     [1, 2, 6, 3, 2, 3, 1]  tonic G4"
      ]
     },
     "execution_count": 529,
     "metadata": {},
     "output_type": "execute_result"
    }
   ],
   "source": [
    "seq_df_all"
   ]
  },
  {
   "cell_type": "code",
   "execution_count": 530,
   "metadata": {},
   "outputs": [
    {
     "name": "stderr",
     "output_type": "stream",
     "text": [
      "/var/folders/18/hp_602x50x34x_4p_qjc80g40000gn/T/ipykernel_38037/2499840665.py:1: SettingWithCopyWarning: \n",
      "A value is trying to be set on a copy of a slice from a DataFrame\n",
      "\n",
      "See the caveats in the documentation: https://pandas.pydata.org/pandas-docs/stable/user_guide/indexing.html#returning-a-view-versus-a-copy\n",
      "  fc.rename(columns={'stimulus': 'filename'}, inplace=True)\n"
     ]
    }
   ],
   "source": [
    "fc.rename(columns={'stimulus': 'filename'}, inplace=True)\n",
    "fc = pd.merge(fc, seq_df_all, on=['filename', 'condition'], how='left')"
   ]
  },
  {
   "cell_type": "code",
   "execution_count": 531,
   "metadata": {},
   "outputs": [
    {
     "data": {
      "text/html": [
       "<div>\n",
       "<style scoped>\n",
       "    .dataframe tbody tr th:only-of-type {\n",
       "        vertical-align: middle;\n",
       "    }\n",
       "\n",
       "    .dataframe tbody tr th {\n",
       "        vertical-align: top;\n",
       "    }\n",
       "\n",
       "    .dataframe thead th {\n",
       "        text-align: right;\n",
       "    }\n",
       "</style>\n",
       "<table border=\"1\" class=\"dataframe\">\n",
       "  <thead>\n",
       "    <tr style=\"text-align: right;\">\n",
       "      <th></th>\n",
       "      <th>rt</th>\n",
       "      <th>response</th>\n",
       "      <th>trial_type</th>\n",
       "      <th>trial_index</th>\n",
       "      <th>time_elapsed</th>\n",
       "      <th>internal_node_id</th>\n",
       "      <th>run_id</th>\n",
       "      <th>condition</th>\n",
       "      <th>recorded_at</th>\n",
       "      <th>source_code_version</th>\n",
       "      <th>...</th>\n",
       "      <th>slider_start</th>\n",
       "      <th>accent</th>\n",
       "      <th>high_IC</th>\n",
       "      <th>accent_chosen</th>\n",
       "      <th>high_IC_chosen</th>\n",
       "      <th>question_order</th>\n",
       "      <th>test_type</th>\n",
       "      <th>IC</th>\n",
       "      <th>context</th>\n",
       "      <th>sequence</th>\n",
       "    </tr>\n",
       "  </thead>\n",
       "  <tbody>\n",
       "    <tr>\n",
       "      <th>0</th>\n",
       "      <td>7451.0</td>\n",
       "      <td>j</td>\n",
       "      <td>audio-keyboard-response</td>\n",
       "      <td>100</td>\n",
       "      <td>1699842</td>\n",
       "      <td>0.0-25.0-0.0</td>\n",
       "      <td>3</td>\n",
       "      <td>tonic G4</td>\n",
       "      <td>2024-04-30 12:07:05</td>\n",
       "      <td>82b5fab46a22c85f845190e7e39286c1</td>\n",
       "      <td>...</td>\n",
       "      <td>NaN</td>\n",
       "      <td>j</td>\n",
       "      <td>NaN</td>\n",
       "      <td>True</td>\n",
       "      <td>False</td>\n",
       "      <td>NaN</td>\n",
       "      <td>accent</td>\n",
       "      <td>high</td>\n",
       "      <td>3</td>\n",
       "      <td>[1, 3, 6, 3, 2, 3, 1]</td>\n",
       "    </tr>\n",
       "    <tr>\n",
       "      <th>1</th>\n",
       "      <td>6501.0</td>\n",
       "      <td>f</td>\n",
       "      <td>audio-keyboard-response</td>\n",
       "      <td>101</td>\n",
       "      <td>1706355</td>\n",
       "      <td>0.0-25.0-0.1</td>\n",
       "      <td>3</td>\n",
       "      <td>tonic G4</td>\n",
       "      <td>2024-04-30 12:07:05</td>\n",
       "      <td>82b5fab46a22c85f845190e7e39286c1</td>\n",
       "      <td>...</td>\n",
       "      <td>NaN</td>\n",
       "      <td>j</td>\n",
       "      <td>NaN</td>\n",
       "      <td>False</td>\n",
       "      <td>False</td>\n",
       "      <td>NaN</td>\n",
       "      <td>accent</td>\n",
       "      <td>high</td>\n",
       "      <td>3</td>\n",
       "      <td>[1, 2, 3, 2, 5, 3, 1]</td>\n",
       "    </tr>\n",
       "    <tr>\n",
       "      <th>2</th>\n",
       "      <td>6360.0</td>\n",
       "      <td>f</td>\n",
       "      <td>audio-keyboard-response</td>\n",
       "      <td>102</td>\n",
       "      <td>1712980</td>\n",
       "      <td>0.0-25.0-0.2</td>\n",
       "      <td>3</td>\n",
       "      <td>tonic G4</td>\n",
       "      <td>2024-04-30 12:07:05</td>\n",
       "      <td>82b5fab46a22c85f845190e7e39286c1</td>\n",
       "      <td>...</td>\n",
       "      <td>NaN</td>\n",
       "      <td>j</td>\n",
       "      <td>NaN</td>\n",
       "      <td>False</td>\n",
       "      <td>False</td>\n",
       "      <td>NaN</td>\n",
       "      <td>accent</td>\n",
       "      <td>low</td>\n",
       "      <td>3</td>\n",
       "      <td>[1, 2, 6, 3, 4, 5, 3, 1]</td>\n",
       "    </tr>\n",
       "    <tr>\n",
       "      <th>3</th>\n",
       "      <td>5869.0</td>\n",
       "      <td>j</td>\n",
       "      <td>audio-keyboard-response</td>\n",
       "      <td>103</td>\n",
       "      <td>1719087</td>\n",
       "      <td>0.0-25.0-0.3</td>\n",
       "      <td>3</td>\n",
       "      <td>tonic G4</td>\n",
       "      <td>2024-04-30 12:07:05</td>\n",
       "      <td>82b5fab46a22c85f845190e7e39286c1</td>\n",
       "      <td>...</td>\n",
       "      <td>NaN</td>\n",
       "      <td>j</td>\n",
       "      <td>NaN</td>\n",
       "      <td>True</td>\n",
       "      <td>False</td>\n",
       "      <td>NaN</td>\n",
       "      <td>accent</td>\n",
       "      <td>high</td>\n",
       "      <td>5</td>\n",
       "      <td>[1, 2, 5, 6, 3, 1]</td>\n",
       "    </tr>\n",
       "    <tr>\n",
       "      <th>4</th>\n",
       "      <td>7840.0</td>\n",
       "      <td>j</td>\n",
       "      <td>audio-keyboard-response</td>\n",
       "      <td>104</td>\n",
       "      <td>1727186</td>\n",
       "      <td>0.0-25.0-0.4</td>\n",
       "      <td>3</td>\n",
       "      <td>tonic G4</td>\n",
       "      <td>2024-04-30 12:07:05</td>\n",
       "      <td>82b5fab46a22c85f845190e7e39286c1</td>\n",
       "      <td>...</td>\n",
       "      <td>NaN</td>\n",
       "      <td>NaN</td>\n",
       "      <td>j</td>\n",
       "      <td>False</td>\n",
       "      <td>True</td>\n",
       "      <td>NaN</td>\n",
       "      <td>IC_accent</td>\n",
       "      <td>NA</td>\n",
       "      <td>5</td>\n",
       "      <td>[1, 2, 6, 5, 4, 5, 3, 1]</td>\n",
       "    </tr>\n",
       "    <tr>\n",
       "      <th>...</th>\n",
       "      <td>...</td>\n",
       "      <td>...</td>\n",
       "      <td>...</td>\n",
       "      <td>...</td>\n",
       "      <td>...</td>\n",
       "      <td>...</td>\n",
       "      <td>...</td>\n",
       "      <td>...</td>\n",
       "      <td>...</td>\n",
       "      <td>...</td>\n",
       "      <td>...</td>\n",
       "      <td>...</td>\n",
       "      <td>...</td>\n",
       "      <td>...</td>\n",
       "      <td>...</td>\n",
       "      <td>...</td>\n",
       "      <td>...</td>\n",
       "      <td>...</td>\n",
       "      <td>...</td>\n",
       "      <td>...</td>\n",
       "      <td>...</td>\n",
       "    </tr>\n",
       "    <tr>\n",
       "      <th>123</th>\n",
       "      <td>5878.0</td>\n",
       "      <td>j</td>\n",
       "      <td>audio-keyboard-response</td>\n",
       "      <td>126</td>\n",
       "      <td>1613007</td>\n",
       "      <td>0.0-25.0-0.27</td>\n",
       "      <td>5</td>\n",
       "      <td>tonic G4</td>\n",
       "      <td>2024-04-30 12:10:41</td>\n",
       "      <td>82b5fab46a22c85f845190e7e39286c1</td>\n",
       "      <td>...</td>\n",
       "      <td>NaN</td>\n",
       "      <td>j</td>\n",
       "      <td>NaN</td>\n",
       "      <td>True</td>\n",
       "      <td>False</td>\n",
       "      <td>NaN</td>\n",
       "      <td>accent</td>\n",
       "      <td>high</td>\n",
       "      <td>5</td>\n",
       "      <td>[1, 2, 6, 5, 6, 3, 1]</td>\n",
       "    </tr>\n",
       "    <tr>\n",
       "      <th>124</th>\n",
       "      <td>6298.0</td>\n",
       "      <td>f</td>\n",
       "      <td>audio-keyboard-response</td>\n",
       "      <td>127</td>\n",
       "      <td>1619555</td>\n",
       "      <td>0.0-25.0-0.28</td>\n",
       "      <td>5</td>\n",
       "      <td>tonic G4</td>\n",
       "      <td>2024-04-30 12:10:41</td>\n",
       "      <td>82b5fab46a22c85f845190e7e39286c1</td>\n",
       "      <td>...</td>\n",
       "      <td>NaN</td>\n",
       "      <td>j</td>\n",
       "      <td>NaN</td>\n",
       "      <td>False</td>\n",
       "      <td>False</td>\n",
       "      <td>NaN</td>\n",
       "      <td>accent</td>\n",
       "      <td>low</td>\n",
       "      <td>3</td>\n",
       "      <td>[1, 2, 6, 3, 4, 5, 3, 1]</td>\n",
       "    </tr>\n",
       "    <tr>\n",
       "      <th>125</th>\n",
       "      <td>5550.0</td>\n",
       "      <td>j</td>\n",
       "      <td>audio-keyboard-response</td>\n",
       "      <td>128</td>\n",
       "      <td>1625354</td>\n",
       "      <td>0.0-25.0-0.29</td>\n",
       "      <td>5</td>\n",
       "      <td>tonic G4</td>\n",
       "      <td>2024-04-30 12:10:41</td>\n",
       "      <td>82b5fab46a22c85f845190e7e39286c1</td>\n",
       "      <td>...</td>\n",
       "      <td>NaN</td>\n",
       "      <td>NaN</td>\n",
       "      <td>j</td>\n",
       "      <td>False</td>\n",
       "      <td>True</td>\n",
       "      <td>NaN</td>\n",
       "      <td>IC_accent</td>\n",
       "      <td>NA</td>\n",
       "      <td>5</td>\n",
       "      <td>[1, 2, 5, 4, 3, 1]</td>\n",
       "    </tr>\n",
       "    <tr>\n",
       "      <th>126</th>\n",
       "      <td>6473.0</td>\n",
       "      <td>j</td>\n",
       "      <td>audio-keyboard-response</td>\n",
       "      <td>129</td>\n",
       "      <td>1632088</td>\n",
       "      <td>0.0-25.0-0.30</td>\n",
       "      <td>5</td>\n",
       "      <td>tonic G4</td>\n",
       "      <td>2024-04-30 12:10:41</td>\n",
       "      <td>82b5fab46a22c85f845190e7e39286c1</td>\n",
       "      <td>...</td>\n",
       "      <td>NaN</td>\n",
       "      <td>NaN</td>\n",
       "      <td>f</td>\n",
       "      <td>False</td>\n",
       "      <td>False</td>\n",
       "      <td>NaN</td>\n",
       "      <td>IC_default</td>\n",
       "      <td>NA</td>\n",
       "      <td>3</td>\n",
       "      <td>[1, 2, 6, 3, 2, 5, 3, 1]</td>\n",
       "    </tr>\n",
       "    <tr>\n",
       "      <th>127</th>\n",
       "      <td>5431.0</td>\n",
       "      <td>j</td>\n",
       "      <td>audio-keyboard-response</td>\n",
       "      <td>130</td>\n",
       "      <td>1637751</td>\n",
       "      <td>0.0-25.0-0.31</td>\n",
       "      <td>5</td>\n",
       "      <td>tonic G4</td>\n",
       "      <td>2024-04-30 12:10:41</td>\n",
       "      <td>82b5fab46a22c85f845190e7e39286c1</td>\n",
       "      <td>...</td>\n",
       "      <td>NaN</td>\n",
       "      <td>NaN</td>\n",
       "      <td>j</td>\n",
       "      <td>False</td>\n",
       "      <td>True</td>\n",
       "      <td>NaN</td>\n",
       "      <td>IC_default</td>\n",
       "      <td>NA</td>\n",
       "      <td>5</td>\n",
       "      <td>[1, 2, 6, 5, 4, 3, 1]</td>\n",
       "    </tr>\n",
       "  </tbody>\n",
       "</table>\n",
       "<p>128 rows × 34 columns</p>\n",
       "</div>"
      ],
      "text/plain": [
       "         rt response               trial_type  trial_index  time_elapsed  \\\n",
       "0    7451.0        j  audio-keyboard-response          100       1699842   \n",
       "1    6501.0        f  audio-keyboard-response          101       1706355   \n",
       "2    6360.0        f  audio-keyboard-response          102       1712980   \n",
       "3    5869.0        j  audio-keyboard-response          103       1719087   \n",
       "4    7840.0        j  audio-keyboard-response          104       1727186   \n",
       "..      ...      ...                      ...          ...           ...   \n",
       "123  5878.0        j  audio-keyboard-response          126       1613007   \n",
       "124  6298.0        f  audio-keyboard-response          127       1619555   \n",
       "125  5550.0        j  audio-keyboard-response          128       1625354   \n",
       "126  6473.0        j  audio-keyboard-response          129       1632088   \n",
       "127  5431.0        j  audio-keyboard-response          130       1637751   \n",
       "\n",
       "    internal_node_id  run_id condition          recorded_at  \\\n",
       "0       0.0-25.0-0.0       3  tonic G4  2024-04-30 12:07:05   \n",
       "1       0.0-25.0-0.1       3  tonic G4  2024-04-30 12:07:05   \n",
       "2       0.0-25.0-0.2       3  tonic G4  2024-04-30 12:07:05   \n",
       "3       0.0-25.0-0.3       3  tonic G4  2024-04-30 12:07:05   \n",
       "4       0.0-25.0-0.4       3  tonic G4  2024-04-30 12:07:05   \n",
       "..               ...     ...       ...                  ...   \n",
       "123    0.0-25.0-0.27       5  tonic G4  2024-04-30 12:10:41   \n",
       "124    0.0-25.0-0.28       5  tonic G4  2024-04-30 12:10:41   \n",
       "125    0.0-25.0-0.29       5  tonic G4  2024-04-30 12:10:41   \n",
       "126    0.0-25.0-0.30       5  tonic G4  2024-04-30 12:10:41   \n",
       "127    0.0-25.0-0.31       5  tonic G4  2024-04-30 12:10:41   \n",
       "\n",
       "                  source_code_version  ... slider_start accent high_IC  \\\n",
       "0    82b5fab46a22c85f845190e7e39286c1  ...          NaN      j     NaN   \n",
       "1    82b5fab46a22c85f845190e7e39286c1  ...          NaN      j     NaN   \n",
       "2    82b5fab46a22c85f845190e7e39286c1  ...          NaN      j     NaN   \n",
       "3    82b5fab46a22c85f845190e7e39286c1  ...          NaN      j     NaN   \n",
       "4    82b5fab46a22c85f845190e7e39286c1  ...          NaN    NaN       j   \n",
       "..                                ...  ...          ...    ...     ...   \n",
       "123  82b5fab46a22c85f845190e7e39286c1  ...          NaN      j     NaN   \n",
       "124  82b5fab46a22c85f845190e7e39286c1  ...          NaN      j     NaN   \n",
       "125  82b5fab46a22c85f845190e7e39286c1  ...          NaN    NaN       j   \n",
       "126  82b5fab46a22c85f845190e7e39286c1  ...          NaN    NaN       f   \n",
       "127  82b5fab46a22c85f845190e7e39286c1  ...          NaN    NaN       j   \n",
       "\n",
       "    accent_chosen high_IC_chosen question_order   test_type    IC context  \\\n",
       "0            True          False            NaN      accent  high       3   \n",
       "1           False          False            NaN      accent  high       3   \n",
       "2           False          False            NaN      accent   low       3   \n",
       "3            True          False            NaN      accent  high       5   \n",
       "4           False           True            NaN   IC_accent    NA       5   \n",
       "..            ...            ...            ...         ...   ...     ...   \n",
       "123          True          False            NaN      accent  high       5   \n",
       "124         False          False            NaN      accent   low       3   \n",
       "125         False           True            NaN   IC_accent    NA       5   \n",
       "126         False          False            NaN  IC_default    NA       3   \n",
       "127         False           True            NaN  IC_default    NA       5   \n",
       "\n",
       "                     sequence  \n",
       "0       [1, 3, 6, 3, 2, 3, 1]  \n",
       "1       [1, 2, 3, 2, 5, 3, 1]  \n",
       "2    [1, 2, 6, 3, 4, 5, 3, 1]  \n",
       "3          [1, 2, 5, 6, 3, 1]  \n",
       "4    [1, 2, 6, 5, 4, 5, 3, 1]  \n",
       "..                        ...  \n",
       "123     [1, 2, 6, 5, 6, 3, 1]  \n",
       "124  [1, 2, 6, 3, 4, 5, 3, 1]  \n",
       "125        [1, 2, 5, 4, 3, 1]  \n",
       "126  [1, 2, 6, 3, 2, 5, 3, 1]  \n",
       "127     [1, 2, 6, 5, 4, 3, 1]  \n",
       "\n",
       "[128 rows x 34 columns]"
      ]
     },
     "execution_count": 531,
     "metadata": {},
     "output_type": "execute_result"
    }
   ],
   "source": [
    "fc"
   ]
  },
  {
   "cell_type": "code",
   "execution_count": 532,
   "metadata": {},
   "outputs": [],
   "source": [
    "#adding column for IC\n",
    "def truncate_stimulus_IC(x):\n",
    "    if x[-8:-6] == '54' or x[-8:-6] == '34':\n",
    "        return 'low'\n",
    "    elif x[-8:-6] == '32' or x[-8:-6] == '56':\n",
    "        return 'high'\n",
    "    else:\n",
    "        return 'NA'\n",
    "fc['IC'] = fc['filename'].map(truncate_stimulus_IC)\n",
    "\n",
    "\n",
    "#adding target positions\n",
    "def target_finder_all(melody):\n",
    "    for i in range(len(melody)):\n",
    "        if melody[i] == 4 and melody [i-1] == 3:\n",
    "            return i\n",
    "        elif melody[i] == 4 and melody [i-1] == 5:\n",
    "            return i\n",
    "        elif melody[i] == 2 and melody [i-1] == 3:\n",
    "            return i\n",
    "        elif melody[i] == 6 and melody [i-1] == 5:\n",
    "            return i\n",
    "\n",
    "fc['target_pos'] = fc['sequence'].map(target_finder_all)\n",
    "\n",
    "#adding movement before target note\n",
    "#1 means the movement is ascending\n",
    "def add_before_asc(melody):\n",
    "   tar_pos = target_finder_all(melody)\n",
    "   if melody[tar_pos] < melody[tar_pos -1]:\n",
    "       return 0\n",
    "   elif melody[tar_pos] > melody[tar_pos -1]:\n",
    "        return 1\n",
    "   else:\n",
    "       return 'NA'\n",
    "fc['before_asc'] = fc['sequence'].map(add_before_asc)\n",
    "\n",
    "#adding movement after target note\n",
    "def add_after_asc(melody):\n",
    "   tar_pos = target_finder_all(melody)\n",
    "   if melody[tar_pos] < melody[tar_pos + 1]:\n",
    "       return 1\n",
    "   elif melody[tar_pos] > melody[tar_pos + 1]:\n",
    "        return 0\n",
    "   else:\n",
    "       return 'NA'\n",
    "fc['after_asc'] = fc['sequence'].map(add_after_asc)\n",
    "\n",
    "#changing accent and IC column to binary values\n",
    "def binary_map(x):\n",
    "    if x == False or x == 'low':\n",
    "        return 0\n",
    "    elif x == True or x == 'high':\n",
    "        return 1\n",
    "    \n",
    "fc['accent_chosen'] = fc['accent_chosen'].map(binary_map)\n",
    "fc['IC'] = fc['IC'].map(binary_map) #HIGH IC is 1\n",
    "\n",
    "#melodic contours\n",
    "fc['invU'] = (fc['before_asc'] == 1) & (fc['after_asc'] == 0)\n",
    "fc['invU'] = fc['invU'].astype(int)\n",
    "\n",
    "fc['U'] = (fc['before_asc'] == 0) & (fc['after_asc'] == 1)\n",
    "fc['U'] = fc['U'].astype(int)\n",
    "\n",
    "fc['asc'] = (fc['before_asc'] == 1) & (fc['after_asc'] == 1)\n",
    "fc['asc'] = fc['asc'].astype(int)\n",
    "\n",
    "fc['des'] = (fc['before_asc'] == 0) & (fc['after_asc'] == 0)\n",
    "fc['des'] = fc['des'].astype(int)\n",
    "\n",
    "#all melodic contours as one factor\n",
    "def add_contour(melody):\n",
    "    tar_pos = target_finder_all(melody)\n",
    "    if melody[tar_pos] < melody[tar_pos - 1] and melody[tar_pos] > melody[tar_pos +1]:\n",
    "        return 'des'\n",
    "    elif melody[tar_pos] > melody[tar_pos - 1] and melody[tar_pos] > melody[tar_pos +1]:\n",
    "        return 'inv-U'\n",
    "    elif melody[tar_pos] < melody[tar_pos - 1] and melody[tar_pos] < melody[tar_pos + 1]:\n",
    "        return 'U'\n",
    "    elif melody[tar_pos] > melody[tar_pos -1] and melody[tar_pos] < melody[tar_pos + 1]:\n",
    "        return 'asc'\n",
    "    else:\n",
    "        return 'NA'\n",
    "\n",
    "fc['contour'] = fc['sequence'].map(add_contour)\n",
    "\n",
    "#metrical position of target\n",
    "fc['target_metric_4'] = fc['target_pos']%4+1\n",
    "fc['target_metric_2'] = fc['target_pos']%2+1\n",
    "\n"
   ]
  },
  {
   "cell_type": "code",
   "execution_count": 533,
   "metadata": {},
   "outputs": [],
   "source": [
    "#making dataframe with just the columns that are relevant for regression\n",
    "reg_accent_columns = ['subject', 'condition', 'filename', 'sequence', 'accent_chosen', 'IC', 'target_pos', 'invU', 'U', 'asc', 'des', 'target_metric_2', 'target_metric_4', 'contour']\n",
    "\n",
    "fc_accent_regression = fc[reg_accent_columns]\n",
    "fc_accent_regression = fc_accent_regression.dropna()\n",
    "\n",
    "#fc_accent_regression"
   ]
  },
  {
   "cell_type": "code",
   "execution_count": 534,
   "metadata": {},
   "outputs": [
    {
     "data": {
      "text/html": [
       "<div>\n",
       "<style scoped>\n",
       "    .dataframe tbody tr th:only-of-type {\n",
       "        vertical-align: middle;\n",
       "    }\n",
       "\n",
       "    .dataframe tbody tr th {\n",
       "        vertical-align: top;\n",
       "    }\n",
       "\n",
       "    .dataframe thead th {\n",
       "        text-align: right;\n",
       "    }\n",
       "</style>\n",
       "<table border=\"1\" class=\"dataframe\">\n",
       "  <thead>\n",
       "    <tr style=\"text-align: right;\">\n",
       "      <th></th>\n",
       "      <th>sequence</th>\n",
       "      <th>invU</th>\n",
       "      <th>U</th>\n",
       "      <th>asc</th>\n",
       "      <th>des</th>\n",
       "      <th>IC</th>\n",
       "      <th>contour</th>\n",
       "    </tr>\n",
       "  </thead>\n",
       "  <tbody>\n",
       "    <tr>\n",
       "      <th>0</th>\n",
       "      <td>[1, 3, 6, 3, 2, 3, 1]</td>\n",
       "      <td>0</td>\n",
       "      <td>1</td>\n",
       "      <td>0</td>\n",
       "      <td>0</td>\n",
       "      <td>1.0</td>\n",
       "      <td>U</td>\n",
       "    </tr>\n",
       "    <tr>\n",
       "      <th>1</th>\n",
       "      <td>[1, 2, 3, 2, 5, 3, 1]</td>\n",
       "      <td>0</td>\n",
       "      <td>1</td>\n",
       "      <td>0</td>\n",
       "      <td>0</td>\n",
       "      <td>1.0</td>\n",
       "      <td>U</td>\n",
       "    </tr>\n",
       "    <tr>\n",
       "      <th>2</th>\n",
       "      <td>[1, 2, 6, 3, 4, 5, 3, 1]</td>\n",
       "      <td>0</td>\n",
       "      <td>0</td>\n",
       "      <td>1</td>\n",
       "      <td>0</td>\n",
       "      <td>0.0</td>\n",
       "      <td>asc</td>\n",
       "    </tr>\n",
       "    <tr>\n",
       "      <th>3</th>\n",
       "      <td>[1, 2, 5, 6, 3, 1]</td>\n",
       "      <td>1</td>\n",
       "      <td>0</td>\n",
       "      <td>0</td>\n",
       "      <td>0</td>\n",
       "      <td>1.0</td>\n",
       "      <td>inv-U</td>\n",
       "    </tr>\n",
       "    <tr>\n",
       "      <th>7</th>\n",
       "      <td>[1, 2, 6, 5, 6, 3, 1]</td>\n",
       "      <td>1</td>\n",
       "      <td>0</td>\n",
       "      <td>0</td>\n",
       "      <td>0</td>\n",
       "      <td>1.0</td>\n",
       "      <td>inv-U</td>\n",
       "    </tr>\n",
       "    <tr>\n",
       "      <th>...</th>\n",
       "      <td>...</td>\n",
       "      <td>...</td>\n",
       "      <td>...</td>\n",
       "      <td>...</td>\n",
       "      <td>...</td>\n",
       "      <td>...</td>\n",
       "      <td>...</td>\n",
       "    </tr>\n",
       "    <tr>\n",
       "      <th>120</th>\n",
       "      <td>[1, 2, 6, 3, 2, 5, 3, 1]</td>\n",
       "      <td>0</td>\n",
       "      <td>1</td>\n",
       "      <td>0</td>\n",
       "      <td>0</td>\n",
       "      <td>1.0</td>\n",
       "      <td>U</td>\n",
       "    </tr>\n",
       "    <tr>\n",
       "      <th>121</th>\n",
       "      <td>[1, 2, 6, 5, 6, 3, 1]</td>\n",
       "      <td>1</td>\n",
       "      <td>0</td>\n",
       "      <td>0</td>\n",
       "      <td>0</td>\n",
       "      <td>1.0</td>\n",
       "      <td>inv-U</td>\n",
       "    </tr>\n",
       "    <tr>\n",
       "      <th>122</th>\n",
       "      <td>[1, 2, 3, 2, 5, 3, 1]</td>\n",
       "      <td>0</td>\n",
       "      <td>1</td>\n",
       "      <td>0</td>\n",
       "      <td>0</td>\n",
       "      <td>1.0</td>\n",
       "      <td>U</td>\n",
       "    </tr>\n",
       "    <tr>\n",
       "      <th>123</th>\n",
       "      <td>[1, 2, 6, 5, 6, 3, 1]</td>\n",
       "      <td>1</td>\n",
       "      <td>0</td>\n",
       "      <td>0</td>\n",
       "      <td>0</td>\n",
       "      <td>1.0</td>\n",
       "      <td>inv-U</td>\n",
       "    </tr>\n",
       "    <tr>\n",
       "      <th>124</th>\n",
       "      <td>[1, 2, 6, 3, 4, 5, 3, 1]</td>\n",
       "      <td>0</td>\n",
       "      <td>0</td>\n",
       "      <td>1</td>\n",
       "      <td>0</td>\n",
       "      <td>0.0</td>\n",
       "      <td>asc</td>\n",
       "    </tr>\n",
       "  </tbody>\n",
       "</table>\n",
       "<p>64 rows × 7 columns</p>\n",
       "</div>"
      ],
      "text/plain": [
       "                     sequence  invU  U  asc  des   IC contour\n",
       "0       [1, 3, 6, 3, 2, 3, 1]     0  1    0    0  1.0       U\n",
       "1       [1, 2, 3, 2, 5, 3, 1]     0  1    0    0  1.0       U\n",
       "2    [1, 2, 6, 3, 4, 5, 3, 1]     0  0    1    0  0.0     asc\n",
       "3          [1, 2, 5, 6, 3, 1]     1  0    0    0  1.0   inv-U\n",
       "7       [1, 2, 6, 5, 6, 3, 1]     1  0    0    0  1.0   inv-U\n",
       "..                        ...   ... ..  ...  ...  ...     ...\n",
       "120  [1, 2, 6, 3, 2, 5, 3, 1]     0  1    0    0  1.0       U\n",
       "121     [1, 2, 6, 5, 6, 3, 1]     1  0    0    0  1.0   inv-U\n",
       "122     [1, 2, 3, 2, 5, 3, 1]     0  1    0    0  1.0       U\n",
       "123     [1, 2, 6, 5, 6, 3, 1]     1  0    0    0  1.0   inv-U\n",
       "124  [1, 2, 6, 3, 4, 5, 3, 1]     0  0    1    0  0.0     asc\n",
       "\n",
       "[64 rows x 7 columns]"
      ]
     },
     "execution_count": 534,
     "metadata": {},
     "output_type": "execute_result"
    }
   ],
   "source": [
    "fc_accent_regression[['sequence', 'invU', 'U', 'asc', 'des', 'IC', 'contour']]"
   ]
  },
  {
   "attachments": {},
   "cell_type": "markdown",
   "metadata": {},
   "source": [
    "Participants"
   ]
  },
  {
   "cell_type": "code",
   "execution_count": 535,
   "metadata": {},
   "outputs": [],
   "source": [
    "musicians = [x for x in musicians_57+musicians_710+musicians_10 if x not in failed_participants]\n",
    "#musicians = [x for x in musicians_710+musicians_10 if x not in failed_participants]\n",
    "\n",
    "nonmusicians = [x for x in participant_ids if x not in musicians and x not in failed_participants]"
   ]
  },
  {
   "cell_type": "code",
   "execution_count": 536,
   "metadata": {},
   "outputs": [],
   "source": [
    "#finding coefficients\n",
    "\n",
    "def coefs(x):  \n",
    "    coefs_df = pd.DataFrame()\n",
    "    for i in x:\n",
    "        fc_accent_regression_subject = fc_accent_regression.query(f\"subject == '{i}'\")\n",
    "        # y, X = dmatrices('accent_chosen ~ C(IC) + C(U) + C(invU) + C(asc) + C(des)', data=fc_accent_regression_subject, return_type='dataframe')\n",
    "        y, X = dmatrices(\"accent_chosen ~ C(IC) + C(contour, Treatment('des'))\", data=fc_accent_regression_subject, return_type='dataframe')\n",
    "\n",
    "        mod = sm.OLS(y, X) \n",
    "        res = mod.fit() \n",
    "\n",
    "        #print(res.summary())\n",
    "        coefs = res.params\n",
    "        coefs_df = coefs_df.append([coefs])\n",
    "\n",
    "    return coefs_df\n"
   ]
  },
  {
   "cell_type": "code",
   "execution_count": 537,
   "metadata": {},
   "outputs": [
    {
     "name": "stderr",
     "output_type": "stream",
     "text": [
      "/var/folders/18/hp_602x50x34x_4p_qjc80g40000gn/T/ipykernel_38037/2670194618.py:15: FutureWarning: The frame.append method is deprecated and will be removed from pandas in a future version. Use pandas.concat instead.\n",
      "  coefs_df = coefs_df.append([coefs])\n",
      "/var/folders/18/hp_602x50x34x_4p_qjc80g40000gn/T/ipykernel_38037/2670194618.py:15: FutureWarning: The frame.append method is deprecated and will be removed from pandas in a future version. Use pandas.concat instead.\n",
      "  coefs_df = coefs_df.append([coefs])\n",
      "/var/folders/18/hp_602x50x34x_4p_qjc80g40000gn/T/ipykernel_38037/2670194618.py:15: FutureWarning: The frame.append method is deprecated and will be removed from pandas in a future version. Use pandas.concat instead.\n",
      "  coefs_df = coefs_df.append([coefs])\n",
      "/var/folders/18/hp_602x50x34x_4p_qjc80g40000gn/T/ipykernel_38037/2670194618.py:15: FutureWarning: The frame.append method is deprecated and will be removed from pandas in a future version. Use pandas.concat instead.\n",
      "  coefs_df = coefs_df.append([coefs])\n",
      "/var/folders/18/hp_602x50x34x_4p_qjc80g40000gn/T/ipykernel_38037/2670194618.py:15: FutureWarning: The frame.append method is deprecated and will be removed from pandas in a future version. Use pandas.concat instead.\n",
      "  coefs_df = coefs_df.append([coefs])\n",
      "/var/folders/18/hp_602x50x34x_4p_qjc80g40000gn/T/ipykernel_38037/2670194618.py:15: FutureWarning: The frame.append method is deprecated and will be removed from pandas in a future version. Use pandas.concat instead.\n",
      "  coefs_df = coefs_df.append([coefs])\n",
      "/var/folders/18/hp_602x50x34x_4p_qjc80g40000gn/T/ipykernel_38037/2670194618.py:15: FutureWarning: The frame.append method is deprecated and will be removed from pandas in a future version. Use pandas.concat instead.\n",
      "  coefs_df = coefs_df.append([coefs])\n",
      "/var/folders/18/hp_602x50x34x_4p_qjc80g40000gn/T/ipykernel_38037/2670194618.py:15: FutureWarning: The frame.append method is deprecated and will be removed from pandas in a future version. Use pandas.concat instead.\n",
      "  coefs_df = coefs_df.append([coefs])\n"
     ]
    }
   ],
   "source": [
    "coefs_all = coefs(valid_participant_ids)\n",
    "coefs_musicians = coefs(musicians)\n",
    "coefs_nonmusicians = coefs(nonmusicians)"
   ]
  },
  {
   "cell_type": "code",
   "execution_count": 538,
   "metadata": {},
   "outputs": [],
   "source": [
    "#coefficient summary statistics\n",
    "\n",
    "\n",
    "def coefs_summary(df): #takes dataframae\n",
    "    summary = pd.DataFrame({\n",
    "    'means': df.mean(),\n",
    "    'sems': df.sem()\n",
    "    })\n",
    "    summary = summary.reset_index() \n",
    "    return summary\n",
    "\n",
    "\n",
    "summary_musicians = coefs_summary(coefs_musicians)\n",
    "summary_nonmusicians = coefs_summary(coefs_nonmusicians)\n",
    "summary_all = coefs_summary(coefs_all)"
   ]
  },
  {
   "cell_type": "code",
   "execution_count": 539,
   "metadata": {},
   "outputs": [],
   "source": [
    "#preparing data for split violin plot\n",
    "coefs_musicians_plot = coefs_musicians.melt(value_name= 'coefficient')\n",
    "coefs_nonmusicians_plot = coefs_nonmusicians.melt(value_name = 'coefficient')\n",
    "coefs_musicians_plot['music_level'] = 'musician'\n",
    "coefs_nonmusicians_plot['music_level'] = 'nonmusician'\n",
    "\n",
    "#attention becasue the same variable is being used for another (now probably useless) figure below\n",
    "coefs_all_plot = pd.concat([coefs_musicians_plot, coefs_nonmusicians_plot])\n"
   ]
  },
  {
   "cell_type": "code",
   "execution_count": 540,
   "metadata": {},
   "outputs": [
    {
     "data": {
      "text/plain": [
       "Text(0.5, 0, 'Variable')"
      ]
     },
     "execution_count": 540,
     "metadata": {},
     "output_type": "execute_result"
    },
    {
     "data": {
      "image/png": "[encoded data removed]",
      "text/plain": [
       "<Figure size 640x480 with 1 Axes>"
      ]
     },
     "metadata": {},
     "output_type": "display_data"
    }
   ],
   "source": [
    "#split violin plot\n",
    "ax = sns.violinplot(data=coefs_all_plot, x=\"variable\", y=\"coefficient\", hue=\"music_level\",\n",
    "               split=True, palette = {'musician': '#a7dba4', 'nonmusician': '#c7c7c7'}, cut = 0.85, inner = 'box')\n",
    "               #inner=\"quart\", linewidth=1)\n",
    "ax.legend(title=\"Music Level\", loc = 'lower left')\n",
    "\n",
    "sns.stripplot(data=coefs_all_plot, x=\"variable\", y=\"coefficient\", hue=\"music_level\", \n",
    "              dodge=True, jitter=True, \n",
    "               palette = {'musician': '#588a55', 'nonmusician': '#3f403f'}, legend = False)\n",
    "#sns.despine(left=True)\n",
    "\n",
    "plt.hlines(0,-0.5,4.5, color = 'black', linewidth = 0.5)\n",
    "plt.ylim(-0.7, 1.4)\n",
    "plt.xticks([0, 1, 2, 3, 4], ['Intercept', 'IC', 'Valley', 'Ascending', 'Peak'])\n",
    "plt.ylabel('Coefficient')\n",
    "plt.xlabel('Variable')\n",
    "\n",
    "#plt.savefig(fig_dir+'regression_accent.png', dpi = 500)"
   ]
  },
  {
   "cell_type": "code",
   "execution_count": 541,
   "metadata": {},
   "outputs": [
    {
     "data": {
      "text/plain": [
       "'print(\\'Musicians\\')\\nregression_ttest_intercept_musicians = stats.ttest_1samp(coefs_musicians[\\'Intercept\\'], popmean = 0)\\nregression_ttest_invU_musicians = stats.ttest_1samp(coefs_musicians[\"C(contour, Treatment(\\'des\\'))[T.inv-U]\"], popmean = 0)\\nregression_ttest_U_musicians = stats.ttest_1samp(coefs_musicians[\"C(contour, Treatment(\\'des\\'))[T.U]\"], popmean = 0)\\n\\nprint(\\'intercept\\', regression_ttest_intercept_musicians)\\nprint(\\'inv-U\\', regression_ttest_invU_musicians)\\nprint(\\'U\\', regression_ttest_U_musicians)\\n\\nprint(\\'\\nNonmusicians\\')\\nregression_ttest_intercept_nonmusicians = stats.ttest_1samp(coefs_nonmusicians[\\'Intercept\\'], popmean = 0)\\nregression_ttest_invU_nonmusicians = stats.ttest_1samp(coefs_nonmusicians[\"C(contour, Treatment(\\'des\\'))[T.inv-U]\"], popmean = 0)\\nregression_ttest_U_nonmusicians = stats.ttest_1samp(coefs_nonmusicians[\"C(contour, Treatment(\\'des\\'))[T.U]\"], popmean = 0)\\n\\nprint(\\'intercept\\', regression_ttest_intercept_nonmusicians)\\nprint(\\'inv-U\\', regression_ttest_invU_nonmusicians)\\nprint(\\'U\\', regression_ttest_U_nonmusicians)'"
      ]
     },
     "execution_count": 541,
     "metadata": {},
     "output_type": "execute_result"
    }
   ],
   "source": [
    "#stats for regression above\n",
    "\"\"\"print('Musicians')\n",
    "regression_ttest_intercept_musicians = stats.ttest_1samp(coefs_musicians['Intercept'], popmean = 0)\n",
    "regression_ttest_invU_musicians = stats.ttest_1samp(coefs_musicians[\"C(contour, Treatment('des'))[T.inv-U]\"], popmean = 0)\n",
    "regression_ttest_U_musicians = stats.ttest_1samp(coefs_musicians[\"C(contour, Treatment('des'))[T.U]\"], popmean = 0)\n",
    "\n",
    "print('intercept', regression_ttest_intercept_musicians)\n",
    "print('inv-U', regression_ttest_invU_musicians)\n",
    "print('U', regression_ttest_U_musicians)\n",
    "\n",
    "print('\\nNonmusicians')\n",
    "regression_ttest_intercept_nonmusicians = stats.ttest_1samp(coefs_nonmusicians['Intercept'], popmean = 0)\n",
    "regression_ttest_invU_nonmusicians = stats.ttest_1samp(coefs_nonmusicians[\"C(contour, Treatment('des'))[T.inv-U]\"], popmean = 0)\n",
    "regression_ttest_U_nonmusicians = stats.ttest_1samp(coefs_nonmusicians[\"C(contour, Treatment('des'))[T.U]\"], popmean = 0)\n",
    "\n",
    "print('intercept', regression_ttest_intercept_nonmusicians)\n",
    "print('inv-U', regression_ttest_invU_nonmusicians)\n",
    "print('U', regression_ttest_U_nonmusicians)\"\"\""
   ]
  },
  {
   "attachments": {},
   "cell_type": "markdown",
   "metadata": {},
   "source": [
    "IC regression"
   ]
  },
  {
   "cell_type": "code",
   "execution_count": 542,
   "metadata": {},
   "outputs": [
    {
     "data": {
      "text/html": [
       "<div>\n",
       "<style scoped>\n",
       "    .dataframe tbody tr th:only-of-type {\n",
       "        vertical-align: middle;\n",
       "    }\n",
       "\n",
       "    .dataframe tbody tr th {\n",
       "        vertical-align: top;\n",
       "    }\n",
       "\n",
       "    .dataframe thead th {\n",
       "        text-align: right;\n",
       "    }\n",
       "</style>\n",
       "<table border=\"1\" class=\"dataframe\">\n",
       "  <thead>\n",
       "    <tr style=\"text-align: right;\">\n",
       "      <th></th>\n",
       "      <th>subject</th>\n",
       "      <th>condition</th>\n",
       "      <th>filename</th>\n",
       "      <th>sequence</th>\n",
       "      <th>IC</th>\n",
       "      <th>high_IC_chosen</th>\n",
       "      <th>target_pos</th>\n",
       "      <th>target_metric_2</th>\n",
       "      <th>target_metric_4</th>\n",
       "      <th>accent</th>\n",
       "    </tr>\n",
       "  </thead>\n",
       "  <tbody>\n",
       "    <tr>\n",
       "      <th>4</th>\n",
       "      <td>a237ah</td>\n",
       "      <td>tonic G4</td>\n",
       "      <td>fc_IC_accent_5_4.mp3</td>\n",
       "      <td>[1, 2, 6, 5, 4, 5, 3, 1]</td>\n",
       "      <td>NaN</td>\n",
       "      <td>1</td>\n",
       "      <td>4</td>\n",
       "      <td>1</td>\n",
       "      <td>1</td>\n",
       "      <td>1</td>\n",
       "    </tr>\n",
       "    <tr>\n",
       "      <th>5</th>\n",
       "      <td>a237ah</td>\n",
       "      <td>tonic G4</td>\n",
       "      <td>fc_IC_default_3_4.mp3</td>\n",
       "      <td>[1, 3, 6, 3, 2, 5, 3, 1]</td>\n",
       "      <td>NaN</td>\n",
       "      <td>0</td>\n",
       "      <td>4</td>\n",
       "      <td>1</td>\n",
       "      <td>1</td>\n",
       "      <td>0</td>\n",
       "    </tr>\n",
       "    <tr>\n",
       "      <th>6</th>\n",
       "      <td>a237ah</td>\n",
       "      <td>tonic G4</td>\n",
       "      <td>fc_IC_accent_3_3.mp3</td>\n",
       "      <td>[1, 2, 6, 3, 2, 3, 1]</td>\n",
       "      <td>NaN</td>\n",
       "      <td>1</td>\n",
       "      <td>4</td>\n",
       "      <td>1</td>\n",
       "      <td>1</td>\n",
       "      <td>1</td>\n",
       "    </tr>\n",
       "    <tr>\n",
       "      <th>8</th>\n",
       "      <td>a237ah</td>\n",
       "      <td>tonic G4</td>\n",
       "      <td>fc_IC_default_5_2.mp3</td>\n",
       "      <td>[1, 2, 6, 5, 4, 3, 1]</td>\n",
       "      <td>NaN</td>\n",
       "      <td>0</td>\n",
       "      <td>4</td>\n",
       "      <td>1</td>\n",
       "      <td>1</td>\n",
       "      <td>0</td>\n",
       "    </tr>\n",
       "    <tr>\n",
       "      <th>12</th>\n",
       "      <td>a237ah</td>\n",
       "      <td>tonic G4</td>\n",
       "      <td>fc_IC_accent_3_4.mp3</td>\n",
       "      <td>[1, 2, 6, 3, 2, 3, 1]</td>\n",
       "      <td>NaN</td>\n",
       "      <td>1</td>\n",
       "      <td>4</td>\n",
       "      <td>1</td>\n",
       "      <td>1</td>\n",
       "      <td>1</td>\n",
       "    </tr>\n",
       "    <tr>\n",
       "      <th>...</th>\n",
       "      <td>...</td>\n",
       "      <td>...</td>\n",
       "      <td>...</td>\n",
       "      <td>...</td>\n",
       "      <td>...</td>\n",
       "      <td>...</td>\n",
       "      <td>...</td>\n",
       "      <td>...</td>\n",
       "      <td>...</td>\n",
       "      <td>...</td>\n",
       "    </tr>\n",
       "    <tr>\n",
       "      <th>118</th>\n",
       "      <td>yb48ry</td>\n",
       "      <td>tonic G4</td>\n",
       "      <td>fc_IC_accent_3_3.mp3</td>\n",
       "      <td>[1, 2, 6, 3, 2, 3, 1]</td>\n",
       "      <td>NaN</td>\n",
       "      <td>0</td>\n",
       "      <td>4</td>\n",
       "      <td>1</td>\n",
       "      <td>1</td>\n",
       "      <td>1</td>\n",
       "    </tr>\n",
       "    <tr>\n",
       "      <th>119</th>\n",
       "      <td>yb48ry</td>\n",
       "      <td>tonic G4</td>\n",
       "      <td>fc_IC_accent_5_4.mp3</td>\n",
       "      <td>[1, 2, 6, 5, 4, 5, 3, 1]</td>\n",
       "      <td>NaN</td>\n",
       "      <td>1</td>\n",
       "      <td>4</td>\n",
       "      <td>1</td>\n",
       "      <td>1</td>\n",
       "      <td>1</td>\n",
       "    </tr>\n",
       "    <tr>\n",
       "      <th>125</th>\n",
       "      <td>yb48ry</td>\n",
       "      <td>tonic G4</td>\n",
       "      <td>fc_IC_accent_5_3.mp3</td>\n",
       "      <td>[1, 2, 5, 4, 3, 1]</td>\n",
       "      <td>NaN</td>\n",
       "      <td>1</td>\n",
       "      <td>3</td>\n",
       "      <td>2</td>\n",
       "      <td>4</td>\n",
       "      <td>1</td>\n",
       "    </tr>\n",
       "    <tr>\n",
       "      <th>126</th>\n",
       "      <td>yb48ry</td>\n",
       "      <td>tonic G4</td>\n",
       "      <td>fc_IC_default_3_2.mp3</td>\n",
       "      <td>[1, 2, 6, 3, 2, 5, 3, 1]</td>\n",
       "      <td>NaN</td>\n",
       "      <td>0</td>\n",
       "      <td>4</td>\n",
       "      <td>1</td>\n",
       "      <td>1</td>\n",
       "      <td>0</td>\n",
       "    </tr>\n",
       "    <tr>\n",
       "      <th>127</th>\n",
       "      <td>yb48ry</td>\n",
       "      <td>tonic G4</td>\n",
       "      <td>fc_IC_default_5_1.mp3</td>\n",
       "      <td>[1, 2, 6, 5, 4, 3, 1]</td>\n",
       "      <td>NaN</td>\n",
       "      <td>1</td>\n",
       "      <td>4</td>\n",
       "      <td>1</td>\n",
       "      <td>1</td>\n",
       "      <td>0</td>\n",
       "    </tr>\n",
       "  </tbody>\n",
       "</table>\n",
       "<p>64 rows × 10 columns</p>\n",
       "</div>"
      ],
      "text/plain": [
       "    subject condition               filename                  sequence  IC  \\\n",
       "4    a237ah  tonic G4   fc_IC_accent_5_4.mp3  [1, 2, 6, 5, 4, 5, 3, 1] NaN   \n",
       "5    a237ah  tonic G4  fc_IC_default_3_4.mp3  [1, 3, 6, 3, 2, 5, 3, 1] NaN   \n",
       "6    a237ah  tonic G4   fc_IC_accent_3_3.mp3     [1, 2, 6, 3, 2, 3, 1] NaN   \n",
       "8    a237ah  tonic G4  fc_IC_default_5_2.mp3     [1, 2, 6, 5, 4, 3, 1] NaN   \n",
       "12   a237ah  tonic G4   fc_IC_accent_3_4.mp3     [1, 2, 6, 3, 2, 3, 1] NaN   \n",
       "..      ...       ...                    ...                       ...  ..   \n",
       "118  yb48ry  tonic G4   fc_IC_accent_3_3.mp3     [1, 2, 6, 3, 2, 3, 1] NaN   \n",
       "119  yb48ry  tonic G4   fc_IC_accent_5_4.mp3  [1, 2, 6, 5, 4, 5, 3, 1] NaN   \n",
       "125  yb48ry  tonic G4   fc_IC_accent_5_3.mp3        [1, 2, 5, 4, 3, 1] NaN   \n",
       "126  yb48ry  tonic G4  fc_IC_default_3_2.mp3  [1, 2, 6, 3, 2, 5, 3, 1] NaN   \n",
       "127  yb48ry  tonic G4  fc_IC_default_5_1.mp3     [1, 2, 6, 5, 4, 3, 1] NaN   \n",
       "\n",
       "     high_IC_chosen  target_pos  target_metric_2  target_metric_4  accent  \n",
       "4                 1           4                1                1       1  \n",
       "5                 0           4                1                1       0  \n",
       "6                 1           4                1                1       1  \n",
       "8                 0           4                1                1       0  \n",
       "12                1           4                1                1       1  \n",
       "..              ...         ...              ...              ...     ...  \n",
       "118               0           4                1                1       1  \n",
       "119               1           4                1                1       1  \n",
       "125               1           3                2                4       1  \n",
       "126               0           4                1                1       0  \n",
       "127               1           4                1                1       0  \n",
       "\n",
       "[64 rows x 10 columns]"
      ]
     },
     "execution_count": 542,
     "metadata": {},
     "output_type": "execute_result"
    }
   ],
   "source": [
    "#making dataframe with just the columns that are relevant for regression\n",
    "reg_IC_columns = ['subject', 'condition', 'filename', 'sequence', 'IC', 'high_IC_chosen', 'target_pos', 'target_metric_2', 'target_metric_4']\n",
    "\n",
    "fc_IC_regression = fc[reg_IC_columns]\n",
    "fc_IC_regression = fc_IC_regression[fc_IC_regression['IC'].isnull()]\n",
    "\n",
    "def truncate_accent_condition(x):\n",
    "    if x[6] == 'a':\n",
    "        return 1\n",
    "    elif x[6] == 'd':\n",
    "        return 0\n",
    "    else:\n",
    "        return 'NA'\n",
    "fc_IC_regression['accent'] = fc_IC_regression['filename'].map(truncate_accent_condition)\n",
    "\n",
    "fc_IC_regression['high_IC_chosen'] = fc_IC_regression['high_IC_chosen'].map(binary_map)\n",
    "\n",
    "fc_IC_regression"
   ]
  },
  {
   "cell_type": "code",
   "execution_count": 543,
   "metadata": {},
   "outputs": [],
   "source": [
    "def coefs_IC(x):  \n",
    "    coefs_df = pd.DataFrame()\n",
    "    for i in x:\n",
    "        fc_IC_regression_subject = fc_IC_regression.query(f\"subject == '{i}'\")\n",
    "        #y, X = dmatrices('high_IC_chosen ~  accent + target_metric_2', data=fc_IC_regression_subject, return_type='dataframe')\n",
    "        y, X = dmatrices('high_IC_chosen ~  C(accent)', data=fc_IC_regression_subject, return_type='dataframe')\n",
    "        mod = sm.OLS(y, X) \n",
    "        res = mod.fit() \n",
    "\n",
    "        #print(res.summary())\n",
    "        coefs = res.params\n",
    "        coefs_df = coefs_df.append([coefs])\n",
    "\n",
    "    return coefs_df"
   ]
  },
  {
   "cell_type": "code",
   "execution_count": 544,
   "metadata": {},
   "outputs": [
    {
     "name": "stderr",
     "output_type": "stream",
     "text": [
      "/var/folders/18/hp_602x50x34x_4p_qjc80g40000gn/T/ipykernel_38037/1114386903.py:12: FutureWarning: The frame.append method is deprecated and will be removed from pandas in a future version. Use pandas.concat instead.\n",
      "  coefs_df = coefs_df.append([coefs])\n",
      "/var/folders/18/hp_602x50x34x_4p_qjc80g40000gn/T/ipykernel_38037/1114386903.py:12: FutureWarning: The frame.append method is deprecated and will be removed from pandas in a future version. Use pandas.concat instead.\n",
      "  coefs_df = coefs_df.append([coefs])\n",
      "/var/folders/18/hp_602x50x34x_4p_qjc80g40000gn/T/ipykernel_38037/1114386903.py:12: FutureWarning: The frame.append method is deprecated and will be removed from pandas in a future version. Use pandas.concat instead.\n",
      "  coefs_df = coefs_df.append([coefs])\n",
      "/var/folders/18/hp_602x50x34x_4p_qjc80g40000gn/T/ipykernel_38037/1114386903.py:12: FutureWarning: The frame.append method is deprecated and will be removed from pandas in a future version. Use pandas.concat instead.\n",
      "  coefs_df = coefs_df.append([coefs])\n",
      "/var/folders/18/hp_602x50x34x_4p_qjc80g40000gn/T/ipykernel_38037/1114386903.py:12: FutureWarning: The frame.append method is deprecated and will be removed from pandas in a future version. Use pandas.concat instead.\n",
      "  coefs_df = coefs_df.append([coefs])\n",
      "/var/folders/18/hp_602x50x34x_4p_qjc80g40000gn/T/ipykernel_38037/1114386903.py:12: FutureWarning: The frame.append method is deprecated and will be removed from pandas in a future version. Use pandas.concat instead.\n",
      "  coefs_df = coefs_df.append([coefs])\n",
      "/var/folders/18/hp_602x50x34x_4p_qjc80g40000gn/T/ipykernel_38037/1114386903.py:12: FutureWarning: The frame.append method is deprecated and will be removed from pandas in a future version. Use pandas.concat instead.\n",
      "  coefs_df = coefs_df.append([coefs])\n",
      "/var/folders/18/hp_602x50x34x_4p_qjc80g40000gn/T/ipykernel_38037/1114386903.py:12: FutureWarning: The frame.append method is deprecated and will be removed from pandas in a future version. Use pandas.concat instead.\n",
      "  coefs_df = coefs_df.append([coefs])\n"
     ]
    }
   ],
   "source": [
    "coefs_IC_all = coefs_IC(valid_participant_ids)\n",
    "coefs_IC_musicians = coefs_IC(musicians)\n",
    "coefs_IC_nonmusicians = coefs_IC(nonmusicians)"
   ]
  },
  {
   "cell_type": "code",
   "execution_count": 545,
   "metadata": {},
   "outputs": [],
   "source": [
    "#coefficient summary statistics\n",
    "summary_IC_musicians = coefs_summary(coefs_IC_musicians)\n",
    "summary_IC_nonmusicians = coefs_summary(coefs_IC_nonmusicians)"
   ]
  },
  {
   "cell_type": "code",
   "execution_count": 546,
   "metadata": {},
   "outputs": [],
   "source": [
    "#preparing data for split violin plot\n",
    "coefs_IC_musicians_plot = coefs_IC_musicians.melt(value_name= 'coefficient')\n",
    "coefs_IC_nonmusicians_plot = coefs_IC_nonmusicians.melt(value_name = 'coefficient')\n",
    "coefs_IC_musicians_plot['music_level'] = 'musician'\n",
    "coefs_IC_nonmusicians_plot['music_level'] = 'nonmusician'\n",
    "\n",
    "coefs_IC_all_plot = pd.concat([coefs_IC_musicians_plot, coefs_IC_nonmusicians_plot])\n",
    "#coefs_IC_all_plot"
   ]
  },
  {
   "cell_type": "code",
   "execution_count": 547,
   "metadata": {},
   "outputs": [
    {
     "data": {
      "text/plain": [
       "Text(0.5, 0, 'Variable')"
      ]
     },
     "execution_count": 547,
     "metadata": {},
     "output_type": "execute_result"
    },
    {
     "data": {
      "image/png": "[encoded data removed]",
      "text/plain": [
       "<Figure size 640x480 with 1 Axes>"
      ]
     },
     "metadata": {},
     "output_type": "display_data"
    }
   ],
   "source": [
    "#split violin plot\n",
    "ax = sns.violinplot(data=coefs_IC_all_plot, x=\"variable\", y=\"coefficient\", hue=\"music_level\", \n",
    "               split=True, palette = {'musician': '#a7dba4', 'nonmusician': '#c7c7c7'})\n",
    "               #inner=\"quart\", linewidth=1,\n",
    "            #   palette={\"Yes\": \"b\", \"No\": \".85\"})\n",
    "ax.legend(title=\"Music Level\", loc = 'lower left')\n",
    "\n",
    "sns.stripplot(data=coefs_IC_all_plot, x=\"variable\", y=\"coefficient\", hue=\"music_level\", \n",
    "              dodge=True, jitter=True, \n",
    "               palette = {'musician': '#588a55', 'nonmusician': '#3f403f'}, legend = False)\n",
    "#sns.despine(left=True)\n",
    "\n",
    "plt.hlines(0,-0.5,1.5, color = 'black', linewidth = 0.5)\n",
    "plt.ylim(-0.8, 1.2)\n",
    "plt.xticks([0, 1], ['Intercept', 'Accent'])\n",
    "plt.ylabel('Coefficient')\n",
    "plt.xlabel('Variable')\n",
    "#plt.savefig('./figures for paper/regression_IC.png', dpi = 500)"
   ]
  },
  {
   "cell_type": "code",
   "execution_count": 548,
   "metadata": {},
   "outputs": [
    {
     "data": {
      "text/plain": [
       "\"print('Musicians')\\nregression_IC_ttest_intercept_musicians = stats.ttest_1samp(coefs_IC_musicians['Intercept'], popmean = 0)\\nregression_IC_ttest_accent_musicians = stats.ttest_1samp(coefs_IC_musicians['C(accent)[T.1]'], popmean = 0)\\n\\nprint('Intercept', regression_IC_ttest_intercept_musicians)\\nprint('Accent', regression_IC_ttest_accent_musicians)\\n\\nprint('\\nNonmusicians')\\nregression_IC_ttest_intercept_nonmusicians = stats.ttest_1samp(coefs_IC_nonmusicians['Intercept'], popmean = 0)\\nregression_IC_ttest_accent_nonmusicians = stats.ttest_1samp(coefs_IC_nonmusicians['C(accent)[T.1]'], popmean = 0)\\n\\nprint('Intercept', regression_IC_ttest_intercept_nonmusicians)\\nprint('Accent', regression_IC_ttest_accent_nonmusicians)\""
      ]
     },
     "execution_count": 548,
     "metadata": {},
     "output_type": "execute_result"
    }
   ],
   "source": [
    "\"\"\"print('Musicians')\n",
    "regression_IC_ttest_intercept_musicians = stats.ttest_1samp(coefs_IC_musicians['Intercept'], popmean = 0)\n",
    "regression_IC_ttest_accent_musicians = stats.ttest_1samp(coefs_IC_musicians['C(accent)[T.1]'], popmean = 0)\n",
    "\n",
    "print('Intercept', regression_IC_ttest_intercept_musicians)\n",
    "print('Accent', regression_IC_ttest_accent_musicians)\n",
    "\n",
    "print('\\nNonmusicians')\n",
    "regression_IC_ttest_intercept_nonmusicians = stats.ttest_1samp(coefs_IC_nonmusicians['Intercept'], popmean = 0)\n",
    "regression_IC_ttest_accent_nonmusicians = stats.ttest_1samp(coefs_IC_nonmusicians['C(accent)[T.1]'], popmean = 0)\n",
    "\n",
    "print('Intercept', regression_IC_ttest_intercept_nonmusicians)\n",
    "print('Accent', regression_IC_ttest_accent_nonmusicians)\"\"\""
   ]
  },
  {
   "cell_type": "code",
   "execution_count": 549,
   "metadata": {},
   "outputs": [
    {
     "data": {
      "text/plain": [
       "\"print('Musicians')\\nregression_IC_ttest_accent_musicians = stats.ttest_ind(coefs_IC_musicians['C(accent)[T.1]'], coefs_IC_nonmusicians['C(accent)[T.1]'])\\n\\nprint(regression_IC_ttest_accent_musicians)\""
      ]
     },
     "execution_count": 549,
     "metadata": {},
     "output_type": "execute_result"
    }
   ],
   "source": [
    "\"\"\"print('Musicians')\n",
    "regression_IC_ttest_accent_musicians = stats.ttest_ind(coefs_IC_musicians['C(accent)[T.1]'], coefs_IC_nonmusicians['C(accent)[T.1]'])\n",
    "\n",
    "print(regression_IC_ttest_accent_musicians)\"\"\"\n"
   ]
  },
  {
   "cell_type": "code",
   "execution_count": 550,
   "metadata": {},
   "outputs": [],
   "source": [
    "def sort_musicians(x):\n",
    "    if x in musicians:\n",
    "        return 1\n",
    "    else:\n",
    "        return 0\n",
    "\n",
    "fc_IC_regression['musician'] = fc_IC_regression['subject'].apply(lambda x: sort_musicians(x))\n",
    "fc_accent_regression['musician']= fc_accent_regression['subject'].apply(lambda x: sort_musicians(x))"
   ]
  },
  {
   "cell_type": "markdown",
   "metadata": {},
   "source": [
    "### Save preprocessed data"
   ]
  },
  {
   "cell_type": "code",
   "execution_count": 551,
   "metadata": {},
   "outputs": [],
   "source": [
    "#save preprocessed regression data\n",
    "fc_accent_regression.to_csv('fc_accent_regression.csv', index = False)\n",
    "fc_IC_regression.to_csv('fc_IC_regression.csv', index = False)"
   ]
  },
  {
   "cell_type": "markdown",
   "metadata": {},
   "source": [
    "## Additional analyses"
   ]
  },
  {
   "cell_type": "markdown",
   "metadata": {},
   "source": [
    "Relative target position vs accent choice"
   ]
  },
  {
   "cell_type": "code",
   "execution_count": 552,
   "metadata": {},
   "outputs": [],
   "source": [
    "def rel_target_positions(df):\n",
    "    lengths = [len(x) for x in df['sequence']]\n",
    "    target_pos = list(df['target_pos'])\n",
    "    rel_target_positions = [x / y for x, y in zip(target_pos, lengths)]\n",
    "\n",
    "    return rel_target_positions\n",
    "\n",
    "\n",
    "IC_target_positions = rel_target_positions(fc_IC_regression)\n",
    "accent_target_positions = rel_target_positions(fc_accent_regression)"
   ]
  },
  {
   "cell_type": "code",
   "execution_count": 553,
   "metadata": {},
   "outputs": [
    {
     "data": {
      "text/plain": [
       "Text(0.5, 1.0, 'IC forced choice')"
      ]
     },
     "execution_count": 553,
     "metadata": {},
     "output_type": "execute_result"
    },
    {
     "data": {
      "image/png": "[encoded data removed]",
      "text/plain": [
       "<Figure size 640x480 with 1 Axes>"
      ]
     },
     "metadata": {},
     "output_type": "display_data"
    }
   ],
   "source": [
    "plt.hist(IC_target_positions)\n",
    "plt.xlabel('Target position')\n",
    "plt.ylabel('Frequency')\n",
    "plt.title('IC forced choice')"
   ]
  },
  {
   "cell_type": "code",
   "execution_count": 554,
   "metadata": {},
   "outputs": [
    {
     "data": {
      "text/plain": [
       "Text(0.5, 1.0, 'Accent forced choice')"
      ]
     },
     "execution_count": 554,
     "metadata": {},
     "output_type": "execute_result"
    },
    {
     "data": {
      "image/png": "[encoded data removed]",
      "text/plain": [
       "<Figure size 640x480 with 1 Axes>"
      ]
     },
     "metadata": {},
     "output_type": "display_data"
    }
   ],
   "source": [
    "\n",
    "plt.hist(accent_target_positions)\n",
    "plt.xlabel('Target position')\n",
    "plt.ylabel('Frequency')\n",
    "plt.title('Accent forced choice')"
   ]
  }
 ],
 "metadata": {
  "kernelspec": {
   "display_name": "base",
   "language": "python",
   "name": "python3"
  },
  "language_info": {
   "codemirror_mode": {
    "name": "ipython",
    "version": 3
   },
   "file_extension": ".py",
   "mimetype": "text/x-python",
   "name": "python",
   "nbconvert_exporter": "python",
   "pygments_lexer": "ipython3",
   "version": "3.10.13"
  },
  "orig_nbformat": 4,
  "vscode": {
   "interpreter": {
    "hash": "1b5e399702ec9fc1ed9bbf835e56b9a1cc0082e11b2b154e8fc70a9e022b7825"
   }
  }
 },
 "nbformat": 4,
 "nbformat_minor": 2
}
