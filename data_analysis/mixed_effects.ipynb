{
 "cells": [
  {
   "cell_type": "code",
   "execution_count": 2,
   "metadata": {},
   "outputs": [],
   "source": [
    "import pandas as pd\n",
    "import numpy as np\n",
    "from scipy import stats\n",
    "\n",
    "import matplotlib.pyplot as plt\n",
    "import seaborn as sns\n",
    "\n",
    "import re\n",
    "import json\n",
    "import pickle as pkl\n",
    "from collections import Counter\n",
    "\n",
    "import statistics as s\n",
    "from patsy import dmatrices\n",
    "import statsmodels.api as sm\n",
    "import statsmodels.formula.api as smf\n",
    "from statsmodels.tools.sm_exceptions import ConvergenceWarning\n"
   ]
  },
  {
   "cell_type": "code",
   "execution_count": 3,
   "metadata": {},
   "outputs": [],
   "source": [
    "#import pre-processed data\n",
    "fc_IC_regression = pd.read_csv('fc_IC_regression.csv')\n",
    "fc_accent_regression = pd.read_csv('fc_accent_regression.csv')"
   ]
  },
  {
   "cell_type": "code",
   "execution_count": 4,
   "metadata": {},
   "outputs": [
    {
     "name": "stderr",
     "output_type": "stream",
     "text": [
      "/var/folders/18/hp_602x50x34x_4p_qjc80g40000gn/T/ipykernel_85632/2979966945.py:2: SettingWithCopyWarning: \n",
      "A value is trying to be set on a copy of a slice from a DataFrame.\n",
      "Try using .loc[row_indexer,col_indexer] = value instead\n",
      "\n",
      "See the caveats in the documentation: https://pandas.pydata.org/pandas-docs/stable/user_guide/indexing.html#returning-a-view-versus-a-copy\n",
      "  fc_accent_regression[(fc_accent_regression['subject'] == 'a237ah') | (fc_accent_regression['subject'] == 'yb48ry') ]['musician'] = 1\n",
      "/var/folders/18/hp_602x50x34x_4p_qjc80g40000gn/T/ipykernel_85632/2979966945.py:3: SettingWithCopyWarning: \n",
      "A value is trying to be set on a copy of a slice from a DataFrame.\n",
      "Try using .loc[row_indexer,col_indexer] = value instead\n",
      "\n",
      "See the caveats in the documentation: https://pandas.pydata.org/pandas-docs/stable/user_guide/indexing.html#returning-a-view-versus-a-copy\n",
      "  fc_IC_regression[(fc_IC_regression['subject'] == 'a237ah') | (fc_IC_regression['subject'] == 'yb48ry')]['musician'] = 1\n"
     ]
    }
   ],
   "source": [
    "#temporarily making a dummy musician\n",
    "fc_accent_regression[(fc_accent_regression['subject'] == 'a237ah') | (fc_accent_regression['subject'] == 'yb48ry') ]['musician'] = 1\n",
    "fc_IC_regression[(fc_IC_regression['subject'] == 'a237ah') | (fc_IC_regression['subject'] == 'yb48ry')]['musician'] = 1\n"
   ]
  },
  {
   "cell_type": "markdown",
   "metadata": {},
   "source": [
    "### Mixed effects model for accent forced choice"
   ]
  },
  {
   "cell_type": "code",
   "execution_count": 5,
   "metadata": {},
   "outputs": [
    {
     "name": "stdout",
     "output_type": "stream",
     "text": [
      "            Mixed Linear Model Regression Results\n",
      "==============================================================\n",
      "Model:             MixedLM  Dependent Variable:  accent_chosen\n",
      "No. Observations:  64       Method:              REML         \n",
      "No. Groups:        4        Scale:               0.1898       \n",
      "Min. group size:   16       Log-Likelihood:      -43.4516     \n",
      "Max. group size:   16       Converged:           Yes          \n",
      "Mean group size:   16.0                                       \n",
      "--------------------------------------------------------------\n",
      "                    Coef.  Std.Err.   z    P>|z| [0.025 0.975]\n",
      "--------------------------------------------------------------\n",
      "Intercept            0.594    0.186  3.189 0.001  0.229  0.959\n",
      "C(contour)[T.asc]   -0.094    0.218 -0.430 0.667 -0.521  0.333\n",
      "C(contour)[T.des]   -0.010    0.199 -0.052 0.958 -0.400  0.379\n",
      "C(contour)[T.inv-U] -0.016    0.133 -0.117 0.907 -0.277  0.246\n",
      "IC                   0.195    0.149  1.310 0.190 -0.097  0.488\n",
      "Group Var            0.044    0.107                           \n",
      "==============================================================\n",
      "\n"
     ]
    },
    {
     "name": "stderr",
     "output_type": "stream",
     "text": [
      "/Users/cindyzhang/anaconda3/envs/musicIC2/lib/python3.10/site-packages/statsmodels/regression/mixed_linear_model.py:1635: UserWarning: Random effects covariance is singular\n",
      "  warnings.warn(msg)\n"
     ]
    }
   ],
   "source": [
    "#considering only the effects of IC and contour\n",
    "md_accent = smf.mixedlm(\"accent_chosen ~ IC + C(contour)\", fc_accent_regression, groups=fc_accent_regression['subject'])\n",
    "mdf_accent = md_accent.fit(method=[\"lbfgs\"])\n",
    "print(mdf_accent.summary())"
   ]
  },
  {
   "cell_type": "code",
   "execution_count": 6,
   "metadata": {},
   "outputs": [
    {
     "name": "stdout",
     "output_type": "stream",
     "text": [
      "            Mixed Linear Model Regression Results\n",
      "==============================================================\n",
      "Model:             MixedLM  Dependent Variable:  accent_chosen\n",
      "No. Observations:  64       Method:              REML         \n",
      "No. Groups:        4        Scale:               0.1898       \n",
      "Min. group size:   16       Log-Likelihood:      -43.4516     \n",
      "Max. group size:   16       Converged:           Yes          \n",
      "Mean group size:   16.0                                       \n",
      "--------------------------------------------------------------\n",
      "                    Coef.  Std.Err.   z    P>|z| [0.025 0.975]\n",
      "--------------------------------------------------------------\n",
      "Intercept            0.594    0.186  3.189 0.001  0.229  0.959\n",
      "C(contour)[T.asc]   -0.094    0.218 -0.430 0.667 -0.521  0.333\n",
      "C(contour)[T.des]   -0.010    0.199 -0.052 0.958 -0.400  0.379\n",
      "C(contour)[T.inv-U] -0.016    0.133 -0.117 0.907 -0.277  0.246\n",
      "IC                   0.195    0.149  1.310 0.190 -0.097  0.488\n",
      "Group Var            0.044    0.107                           \n",
      "==============================================================\n",
      "\n"
     ]
    },
    {
     "name": "stderr",
     "output_type": "stream",
     "text": [
      "/Users/cindyzhang/anaconda3/envs/musicIC2/lib/python3.10/site-packages/statsmodels/regression/mixed_linear_model.py:1635: UserWarning: Random effects covariance is singular\n",
      "  warnings.warn(msg)\n"
     ]
    }
   ],
   "source": [
    "#considering the effects of IC, contour, musicianship, and interaction between musicianship and contour\n",
    "md_accent = smf.mixedlm(\"accent_chosen ~ IC + C(musician) + C(contour) + IC:C(musician)\", fc_accent_regression, groups=fc_accent_regression['subject'])\n",
    "mdf_accent = md_accent.fit(method=[\"lbfgs\"])\n",
    "print(mdf_accent.summary())"
   ]
  },
  {
   "cell_type": "code",
   "execution_count": 7,
   "metadata": {},
   "outputs": [
    {
     "name": "stderr",
     "output_type": "stream",
     "text": [
      "/var/folders/18/hp_602x50x34x_4p_qjc80g40000gn/T/ipykernel_85632/1085114866.py:27: FutureWarning: \n",
      "\n",
      "Passing `palette` without assigning `hue` is deprecated and will be removed in v0.14.0. Assign the `x` variable to `hue` and set `legend=False` for the same effect.\n",
      "\n",
      "  sns.barplot(x='Predictor', y='Coefficient', data=data, palette=\"Blues_d\")\n"
     ]
    },
    {
     "data": {
      "image/png": "[encoded data removed]",
      "text/plain": [
       "<Figure size 1000x600 with 1 Axes>"
      ]
     },
     "metadata": {},
     "output_type": "display_data"
    }
   ],
   "source": [
    "import matplotlib.pyplot as plt\n",
    "import seaborn as sns\n",
    "import pandas as pd\n",
    "\n",
    "sns.set_style(\"white\")\n",
    "\n",
    "# Coefficients and standard errors\n",
    "coefficients = [0.594, -0.094, -0.010, -0.016, 0.195]\n",
    "std_errors = [0.186, 0.218, 0.199, 0.133, 0.149]\n",
    "predictors = ['Intercept', 'Contour: asc', 'Contour: des', 'Contour: inv-U', 'IC']\n",
    "\n",
    "# Confidence intervals\n",
    "ci_lower = [coef - 1.96 * se for coef, se in zip(coefficients, std_errors)]\n",
    "ci_upper = [coef + 1.96 * se for coef, se in zip(coefficients, std_errors)]\n",
    "\n",
    "# Create DataFrame for plotting\n",
    "data = pd.DataFrame({\n",
    "    'Predictor': predictors,\n",
    "    'Coefficient': coefficients,\n",
    "    'Std. Error': std_errors,\n",
    "    'CI Lower': ci_lower,\n",
    "    'CI Upper': ci_upper\n",
    "})\n",
    "\n",
    "# Plotting\n",
    "plt.figure(figsize=(10, 6))\n",
    "sns.barplot(x='Predictor', y='Coefficient', data=data, palette=\"Blues_d\")\n",
    "plt.errorbar(x=data['Predictor'], y=data['Coefficient'], yerr=data['Std. Error'], fmt='o', color='black')\n",
    "#plt.title('Forest Plot of Mixed Linear Model Coefficients')\n",
    "plt.xlabel('Coefficient')\n",
    "plt.ylabel('Predictor')\n",
    "plt.hlines(0, -1, 5, color = 'black')\n",
    "plt.tight_layout()\n",
    "plt.show()\n"
   ]
  },
  {
   "cell_type": "markdown",
   "metadata": {},
   "source": [
    "### Mixed effects model for IC forced choice"
   ]
  },
  {
   "cell_type": "code",
   "execution_count": 10,
   "metadata": {},
   "outputs": [
    {
     "name": "stdout",
     "output_type": "stream",
     "text": [
      "           Mixed Linear Model Regression Results\n",
      "============================================================\n",
      "Model:            MixedLM Dependent Variable: high_IC_chosen\n",
      "No. Observations: 64      Method:             REML          \n",
      "No. Groups:       4       Scale:              0.2381        \n",
      "Min. group size:  16      Log-Likelihood:     -47.1149      \n",
      "Max. group size:  16      Converged:          Yes           \n",
      "Mean group size:  16.0                                      \n",
      "--------------------------------------------------------------\n",
      "            Coef.   Std.Err.     z     P>|z|   [0.025   0.975]\n",
      "--------------------------------------------------------------\n",
      "Intercept   0.531      0.089   5.988   0.000    0.357    0.705\n",
      "accent      0.156      0.122   1.281   0.200   -0.083    0.395\n",
      "Group Var   0.002      0.028                                  \n",
      "============================================================\n",
      "\n"
     ]
    },
    {
     "name": "stderr",
     "output_type": "stream",
     "text": [
      "/Users/cindyzhang/anaconda3/envs/musicIC2/lib/python3.10/site-packages/statsmodels/regression/mixed_linear_model.py:1635: UserWarning: Random effects covariance is singular\n",
      "  warnings.warn(msg)\n",
      "/Users/cindyzhang/anaconda3/envs/musicIC2/lib/python3.10/site-packages/statsmodels/regression/mixed_linear_model.py:2238: ConvergenceWarning: The MLE may be on the boundary of the parameter space.\n",
      "  warnings.warn(msg, ConvergenceWarning)\n"
     ]
    }
   ],
   "source": [
    "#considering only the effect of accent\n",
    "md_IC = smf.mixedlm(\"high_IC_chosen ~ accent\", fc_IC_regression, groups=fc_IC_regression['subject'] )\n",
    "mdf_IC = md_IC.fit(method=[\"lbfgs\"])\n",
    "print(mdf_IC.summary())"
   ]
  },
  {
   "cell_type": "code",
   "execution_count": 11,
   "metadata": {},
   "outputs": [
    {
     "name": "stdout",
     "output_type": "stream",
     "text": [
      "           Mixed Linear Model Regression Results\n",
      "============================================================\n",
      "Model:            MixedLM Dependent Variable: high_IC_chosen\n",
      "No. Observations: 64      Method:             REML          \n",
      "No. Groups:       4       Scale:              0.2381        \n",
      "Min. group size:  16      Log-Likelihood:     -47.1149      \n",
      "Max. group size:  16      Converged:          Yes           \n",
      "Mean group size:  16.0                                      \n",
      "--------------------------------------------------------------\n",
      "            Coef.   Std.Err.     z     P>|z|   [0.025   0.975]\n",
      "--------------------------------------------------------------\n",
      "Intercept   0.531      0.089   5.988   0.000    0.357    0.705\n",
      "accent      0.156      0.122   1.281   0.200   -0.083    0.395\n",
      "Group Var   0.002      0.028                                  \n",
      "============================================================\n",
      "\n"
     ]
    },
    {
     "name": "stderr",
     "output_type": "stream",
     "text": [
      "/Users/cindyzhang/anaconda3/envs/musicIC2/lib/python3.10/site-packages/statsmodels/regression/mixed_linear_model.py:1635: UserWarning: Random effects covariance is singular\n",
      "  warnings.warn(msg)\n",
      "/Users/cindyzhang/anaconda3/envs/musicIC2/lib/python3.10/site-packages/statsmodels/regression/mixed_linear_model.py:2238: ConvergenceWarning: The MLE may be on the boundary of the parameter space.\n",
      "  warnings.warn(msg, ConvergenceWarning)\n"
     ]
    }
   ],
   "source": [
    "md_IC = smf.mixedlm(\"high_IC_chosen ~ accent + C(musician) + accent:C(musician)\", fc_IC_regression, groups=fc_IC_regression['subject'] )\n",
    "mdf_IC = md_IC.fit(method=[\"lbfgs\"])\n",
    "print(mdf_IC.summary())"
   ]
  },
  {
   "cell_type": "markdown",
   "metadata": {},
   "source": [
    "### Example below"
   ]
  },
  {
   "cell_type": "code",
   "execution_count": 108,
   "metadata": {},
   "outputs": [
    {
     "data": {
      "text/html": [
       "<div>\n",
       "<style scoped>\n",
       "    .dataframe tbody tr th:only-of-type {\n",
       "        vertical-align: middle;\n",
       "    }\n",
       "\n",
       "    .dataframe tbody tr th {\n",
       "        vertical-align: top;\n",
       "    }\n",
       "\n",
       "    .dataframe thead th {\n",
       "        text-align: right;\n",
       "    }\n",
       "</style>\n",
       "<table border=\"1\" class=\"dataframe\">\n",
       "  <thead>\n",
       "    <tr style=\"text-align: right;\">\n",
       "      <th></th>\n",
       "      <th>Pig</th>\n",
       "      <th>Evit</th>\n",
       "      <th>Cu</th>\n",
       "      <th>Litter</th>\n",
       "      <th>Start</th>\n",
       "      <th>Weight</th>\n",
       "      <th>Feed</th>\n",
       "      <th>Time</th>\n",
       "    </tr>\n",
       "  </thead>\n",
       "  <tbody>\n",
       "    <tr>\n",
       "      <th>0</th>\n",
       "      <td>4601</td>\n",
       "      <td>Evit000</td>\n",
       "      <td>Cu000</td>\n",
       "      <td>1</td>\n",
       "      <td>26.5</td>\n",
       "      <td>26.50000</td>\n",
       "      <td>NaN</td>\n",
       "      <td>1</td>\n",
       "    </tr>\n",
       "    <tr>\n",
       "      <th>1</th>\n",
       "      <td>4601</td>\n",
       "      <td>Evit000</td>\n",
       "      <td>Cu000</td>\n",
       "      <td>1</td>\n",
       "      <td>26.5</td>\n",
       "      <td>27.59999</td>\n",
       "      <td>5.200005</td>\n",
       "      <td>2</td>\n",
       "    </tr>\n",
       "    <tr>\n",
       "      <th>2</th>\n",
       "      <td>4601</td>\n",
       "      <td>Evit000</td>\n",
       "      <td>Cu000</td>\n",
       "      <td>1</td>\n",
       "      <td>26.5</td>\n",
       "      <td>36.50000</td>\n",
       "      <td>17.600000</td>\n",
       "      <td>3</td>\n",
       "    </tr>\n",
       "    <tr>\n",
       "      <th>3</th>\n",
       "      <td>4601</td>\n",
       "      <td>Evit000</td>\n",
       "      <td>Cu000</td>\n",
       "      <td>1</td>\n",
       "      <td>26.5</td>\n",
       "      <td>40.29999</td>\n",
       "      <td>28.500000</td>\n",
       "      <td>4</td>\n",
       "    </tr>\n",
       "    <tr>\n",
       "      <th>4</th>\n",
       "      <td>4601</td>\n",
       "      <td>Evit000</td>\n",
       "      <td>Cu000</td>\n",
       "      <td>1</td>\n",
       "      <td>26.5</td>\n",
       "      <td>49.09998</td>\n",
       "      <td>45.200001</td>\n",
       "      <td>5</td>\n",
       "    </tr>\n",
       "    <tr>\n",
       "      <th>...</th>\n",
       "      <td>...</td>\n",
       "      <td>...</td>\n",
       "      <td>...</td>\n",
       "      <td>...</td>\n",
       "      <td>...</td>\n",
       "      <td>...</td>\n",
       "      <td>...</td>\n",
       "      <td>...</td>\n",
       "    </tr>\n",
       "    <tr>\n",
       "      <th>856</th>\n",
       "      <td>8442</td>\n",
       "      <td>Evit000</td>\n",
       "      <td>Cu175</td>\n",
       "      <td>24</td>\n",
       "      <td>25.7</td>\n",
       "      <td>73.19995</td>\n",
       "      <td>83.800003</td>\n",
       "      <td>8</td>\n",
       "    </tr>\n",
       "    <tr>\n",
       "      <th>857</th>\n",
       "      <td>8442</td>\n",
       "      <td>Evit000</td>\n",
       "      <td>Cu175</td>\n",
       "      <td>24</td>\n",
       "      <td>25.7</td>\n",
       "      <td>81.69995</td>\n",
       "      <td>99.800003</td>\n",
       "      <td>9</td>\n",
       "    </tr>\n",
       "    <tr>\n",
       "      <th>858</th>\n",
       "      <td>8442</td>\n",
       "      <td>Evit000</td>\n",
       "      <td>Cu175</td>\n",
       "      <td>24</td>\n",
       "      <td>25.7</td>\n",
       "      <td>90.29999</td>\n",
       "      <td>115.200001</td>\n",
       "      <td>10</td>\n",
       "    </tr>\n",
       "    <tr>\n",
       "      <th>859</th>\n",
       "      <td>8442</td>\n",
       "      <td>Evit000</td>\n",
       "      <td>Cu175</td>\n",
       "      <td>24</td>\n",
       "      <td>25.7</td>\n",
       "      <td>96.00000</td>\n",
       "      <td>133.200001</td>\n",
       "      <td>11</td>\n",
       "    </tr>\n",
       "    <tr>\n",
       "      <th>860</th>\n",
       "      <td>8442</td>\n",
       "      <td>Evit000</td>\n",
       "      <td>Cu175</td>\n",
       "      <td>24</td>\n",
       "      <td>25.7</td>\n",
       "      <td>103.50000</td>\n",
       "      <td>151.400002</td>\n",
       "      <td>12</td>\n",
       "    </tr>\n",
       "  </tbody>\n",
       "</table>\n",
       "<p>861 rows × 8 columns</p>\n",
       "</div>"
      ],
      "text/plain": [
       "      Pig     Evit     Cu  Litter  Start     Weight        Feed  Time\n",
       "0    4601  Evit000  Cu000       1   26.5   26.50000         NaN     1\n",
       "1    4601  Evit000  Cu000       1   26.5   27.59999    5.200005     2\n",
       "2    4601  Evit000  Cu000       1   26.5   36.50000   17.600000     3\n",
       "3    4601  Evit000  Cu000       1   26.5   40.29999   28.500000     4\n",
       "4    4601  Evit000  Cu000       1   26.5   49.09998   45.200001     5\n",
       "..    ...      ...    ...     ...    ...        ...         ...   ...\n",
       "856  8442  Evit000  Cu175      24   25.7   73.19995   83.800003     8\n",
       "857  8442  Evit000  Cu175      24   25.7   81.69995   99.800003     9\n",
       "858  8442  Evit000  Cu175      24   25.7   90.29999  115.200001    10\n",
       "859  8442  Evit000  Cu175      24   25.7   96.00000  133.200001    11\n",
       "860  8442  Evit000  Cu175      24   25.7  103.50000  151.400002    12\n",
       "\n",
       "[861 rows x 8 columns]"
      ]
     },
     "execution_count": 108,
     "metadata": {},
     "output_type": "execute_result"
    }
   ],
   "source": [
    "\n",
    "data = sm.datasets.get_rdataset(\"dietox\", \"geepack\").data\n",
    "data"
   ]
  },
  {
   "cell_type": "code",
   "execution_count": 118,
   "metadata": {},
   "outputs": [
    {
     "name": "stdout",
     "output_type": "stream",
     "text": [
      "         Mixed Linear Model Regression Results\n",
      "========================================================\n",
      "Model:            MixedLM Dependent Variable: Weight    \n",
      "No. Observations: 861     Method:             REML      \n",
      "No. Groups:       72      Scale:              11.3669   \n",
      "Min. group size:  11      Log-Likelihood:     -2404.7753\n",
      "Max. group size:  12      Converged:          Yes       \n",
      "Mean group size:  12.0                                  \n",
      "--------------------------------------------------------\n",
      "             Coef.  Std.Err.    z    P>|z| [0.025 0.975]\n",
      "--------------------------------------------------------\n",
      "Intercept    15.724    0.788  19.952 0.000 14.179 17.268\n",
      "Time          6.943    0.033 207.939 0.000  6.877  7.008\n",
      "Group Var    40.395    2.149                            \n",
      "========================================================\n",
      "\n"
     ]
    }
   ],
   "source": [
    "\n",
    "# Assuming 'data' is your DataFrame\n",
    "data['Group'] = data['Pig'].astype(str) + '_' + data['Cu'].astype(str)\n",
    "\n",
    "# Now fit the model\n",
    "md = smf.mixedlm(\"Weight ~ Time\", data, groups='Group')\n",
    "mdf = md.fit(method=[\"lbfgs\"])\n",
    "print(mdf.summary())"
   ]
  }
 ],
 "metadata": {
  "kernelspec": {
   "display_name": "musicIC2",
   "language": "python",
   "name": "python3"
  },
  "language_info": {
   "codemirror_mode": {
    "name": "ipython",
    "version": 3
   },
   "file_extension": ".py",
   "mimetype": "text/x-python",
   "name": "python",
   "nbconvert_exporter": "python",
   "pygments_lexer": "ipython3",
   "version": "3.10.13"
  },
  "orig_nbformat": 4
 },
 "nbformat": 4,
 "nbformat_minor": 2
}
