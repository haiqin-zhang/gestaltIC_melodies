{
 "cells": [
  {
   "cell_type": "code",
   "execution_count": 77,
   "metadata": {},
   "outputs": [],
   "source": [
    "import pandas as pd\n",
    "import numpy as np\n",
    "from scipy import stats\n",
    "\n",
    "import matplotlib.pyplot as plt\n",
    "import seaborn as sns\n",
    "\n",
    "import re\n",
    "import json\n",
    "import pickle as pkl\n",
    "from collections import Counter\n",
    "\n",
    "import statistics as s\n",
    "from patsy import dmatrices\n",
    "import statsmodels.api as sm\n",
    "import statsmodels.formula.api as smf\n",
    "from statsmodels.tools.sm_exceptions import ConvergenceWarning\n"
   ]
  },
  {
   "cell_type": "code",
   "execution_count": 78,
   "metadata": {},
   "outputs": [],
   "source": [
    "#import pre-processed data\n",
    "fc_IC_regression = pd.read_csv('fc_IC_regression.csv')\n",
    "fc_accent_regression = pd.read_csv('fc_accent_regression.csv')"
   ]
  },
  {
   "cell_type": "code",
   "execution_count": 84,
   "metadata": {},
   "outputs": [
    {
     "name": "stderr",
     "output_type": "stream",
     "text": [
      "/var/folders/18/hp_602x50x34x_4p_qjc80g40000gn/T/ipykernel_38398/2979966945.py:2: SettingWithCopyWarning: \n",
      "A value is trying to be set on a copy of a slice from a DataFrame.\n",
      "Try using .loc[row_indexer,col_indexer] = value instead\n",
      "\n",
      "See the caveats in the documentation: https://pandas.pydata.org/pandas-docs/stable/user_guide/indexing.html#returning-a-view-versus-a-copy\n",
      "  fc_accent_regression[(fc_accent_regression['subject'] == 'a237ah') | (fc_accent_regression['subject'] == 'yb48ry') ]['musician'] = 1\n",
      "/var/folders/18/hp_602x50x34x_4p_qjc80g40000gn/T/ipykernel_38398/2979966945.py:3: SettingWithCopyWarning: \n",
      "A value is trying to be set on a copy of a slice from a DataFrame.\n",
      "Try using .loc[row_indexer,col_indexer] = value instead\n",
      "\n",
      "See the caveats in the documentation: https://pandas.pydata.org/pandas-docs/stable/user_guide/indexing.html#returning-a-view-versus-a-copy\n",
      "  fc_IC_regression[(fc_IC_regression['subject'] == 'a237ah') | (fc_IC_regression['subject'] == 'yb48ry')]['musician'] = 1\n"
     ]
    }
   ],
   "source": [
    "#temporarily making a dummy musician\n",
    "fc_accent_regression[(fc_accent_regression['subject'] == 'a237ah') | (fc_accent_regression['subject'] == 'yb48ry') ]['musician'] = 1\n",
    "fc_IC_regression[(fc_IC_regression['subject'] == 'a237ah') | (fc_IC_regression['subject'] == 'yb48ry')]['musician'] = 1\n"
   ]
  },
  {
   "cell_type": "markdown",
   "metadata": {},
   "source": [
    "### Mixed effects model for accent forced choice"
   ]
  },
  {
   "cell_type": "code",
   "execution_count": 92,
   "metadata": {},
   "outputs": [
    {
     "name": "stdout",
     "output_type": "stream",
     "text": [
      "            Mixed Linear Model Regression Results\n",
      "==============================================================\n",
      "Model:             MixedLM  Dependent Variable:  accent_chosen\n",
      "No. Observations:  64       Method:              REML         \n",
      "No. Groups:        4        Scale:               0.1898       \n",
      "Min. group size:   16       Log-Likelihood:      -43.4516     \n",
      "Max. group size:   16       Converged:           Yes          \n",
      "Mean group size:   16.0                                       \n",
      "--------------------------------------------------------------\n",
      "                    Coef.  Std.Err.   z    P>|z| [0.025 0.975]\n",
      "--------------------------------------------------------------\n",
      "Intercept            0.594    0.186  3.189 0.001  0.229  0.959\n",
      "C(contour)[T.asc]   -0.094    0.218 -0.430 0.667 -0.521  0.333\n",
      "C(contour)[T.des]   -0.010    0.199 -0.052 0.958 -0.400  0.379\n",
      "C(contour)[T.inv-U] -0.016    0.133 -0.117 0.907 -0.277  0.246\n",
      "IC                   0.195    0.149  1.310 0.190 -0.097  0.488\n",
      "Group Var            0.044    0.107                           \n",
      "==============================================================\n",
      "\n"
     ]
    },
    {
     "name": "stderr",
     "output_type": "stream",
     "text": [
      "/Users/cindyzhang/anaconda3/envs/musicIC2/lib/python3.10/site-packages/statsmodels/regression/mixed_linear_model.py:1635: UserWarning: Random effects covariance is singular\n",
      "  warnings.warn(msg)\n"
     ]
    }
   ],
   "source": [
    "md_accent = smf.mixedlm(\"accent_chosen ~ IC + C(musician) + C(contour) + IC:C(musician)\", fc_accent_regression, groups=fc_accent_regression['subject'])\n",
    "mdf_accent = md_accent.fit(method=[\"lbfgs\"])\n",
    "print(mdf_accent.summary())"
   ]
  },
  {
   "cell_type": "markdown",
   "metadata": {},
   "source": [
    "### Mixed effects model for IC forced choice"
   ]
  },
  {
   "cell_type": "code",
   "execution_count": 91,
   "metadata": {},
   "outputs": [
    {
     "name": "stdout",
     "output_type": "stream",
     "text": [
      "           Mixed Linear Model Regression Results\n",
      "============================================================\n",
      "Model:            MixedLM Dependent Variable: high_IC_chosen\n",
      "No. Observations: 64      Method:             REML          \n",
      "No. Groups:       4       Scale:              0.2381        \n",
      "Min. group size:  16      Log-Likelihood:     -47.1149      \n",
      "Max. group size:  16      Converged:          Yes           \n",
      "Mean group size:  16.0                                      \n",
      "--------------------------------------------------------------\n",
      "            Coef.   Std.Err.     z     P>|z|   [0.025   0.975]\n",
      "--------------------------------------------------------------\n",
      "Intercept   0.531      0.089   5.988   0.000    0.357    0.705\n",
      "accent      0.156      0.122   1.281   0.200   -0.083    0.395\n",
      "Group Var   0.002      0.028                                  \n",
      "============================================================\n",
      "\n"
     ]
    },
    {
     "name": "stderr",
     "output_type": "stream",
     "text": [
      "/Users/cindyzhang/anaconda3/envs/musicIC2/lib/python3.10/site-packages/statsmodels/regression/mixed_linear_model.py:1635: UserWarning: Random effects covariance is singular\n",
      "  warnings.warn(msg)\n",
      "/Users/cindyzhang/anaconda3/envs/musicIC2/lib/python3.10/site-packages/statsmodels/regression/mixed_linear_model.py:2238: ConvergenceWarning: The MLE may be on the boundary of the parameter space.\n",
      "  warnings.warn(msg, ConvergenceWarning)\n"
     ]
    }
   ],
   "source": [
    "md_IC = smf.mixedlm(\"high_IC_chosen ~ accent + C(musician) + accent:C(musician) \", fc_IC_regression, groups=fc_IC_regression['subject'])\n",
    "\n",
    "mdf_IC = md_IC.fit(method=[\"lbfgs\"])\n",
    "print(mdf_IC.summary())"
   ]
  }
 ],
 "metadata": {
  "kernelspec": {
   "display_name": "musicIC2",
   "language": "python",
   "name": "python3"
  },
  "language_info": {
   "codemirror_mode": {
    "name": "ipython",
    "version": 3
   },
   "file_extension": ".py",
   "mimetype": "text/x-python",
   "name": "python",
   "nbconvert_exporter": "python",
   "pygments_lexer": "ipython3",
   "version": "3.10.13"
  },
  "orig_nbformat": 4
 },
 "nbformat": 4,
 "nbformat_minor": 2
}
