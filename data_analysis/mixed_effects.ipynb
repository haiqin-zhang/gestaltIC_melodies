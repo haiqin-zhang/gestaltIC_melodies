{
 "cells": [
  {
   "cell_type": "code",
   "execution_count": 221,
   "metadata": {},
   "outputs": [],
   "source": [
    "import pandas as pd\n",
    "import numpy as np\n",
    "from scipy import stats\n",
    "\n",
    "import matplotlib.pyplot as plt\n",
    "import seaborn as sns\n",
    "\n",
    "import re\n",
    "import json\n",
    "import pickle as pkl\n",
    "from collections import Counter\n",
    "\n",
    "import statistics as s\n",
    "from patsy import dmatrices\n",
    "import statsmodels.api as sm\n",
    "import statsmodels.formula.api as smf\n",
    "from statsmodels.tools.sm_exceptions import ConvergenceWarning\n"
   ]
  },
  {
   "cell_type": "code",
   "execution_count": 222,
   "metadata": {},
   "outputs": [],
   "source": [
    "#import pre-processed data\n",
    "fc_IC_regression = pd.read_csv('fc_IC_regression.csv')\n",
    "fc_accent_regression = pd.read_csv('fc_accent_regression.csv')"
   ]
  },
  {
   "cell_type": "code",
   "execution_count": 276,
   "metadata": {},
   "outputs": [],
   "source": [
    "#UTILS FOR PLOTTING RESULTS\n",
    "def plot_coefs(model, labels = 'auto', palette='viridis', colors = None):\n",
    "    coefficients = model.params.tolist()\n",
    "    std_errors = model.bse.tolist()\n",
    "\n",
    "    if labels == 'auto':\n",
    "        predictors = model.params.index.tolist()\n",
    "       \n",
    "    else:\n",
    "        predictors = labels\n",
    "\n",
    "    ci_lower = [coef - 1.96 * se for coef, se in zip(coefficients, std_errors)]\n",
    "    ci_upper = [coef + 1.96 * se for coef, se in zip(coefficients, std_errors)]\n",
    "\n",
    "    data = pd.DataFrame({\n",
    "    'Predictor': predictors,\n",
    "    'Coefficient': coefficients,\n",
    "    'Std. Error': std_errors,\n",
    "    'CI Lower': ci_lower,\n",
    "    'CI Upper': ci_upper\n",
    "    })\n",
    "\n",
    "    if colors is not None and len(colors) == len(predictors):\n",
    "        palette = colors\n",
    "    else:\n",
    "        palette = sns.color_palette('Blues_d', len(predictors))\n",
    "\n",
    "\n",
    "    plt.figure(figsize=(10, 6))\n",
    "    sns.barplot(x='Predictor', y='Coefficient', data=data, palette=palette)\n",
    "    plt.errorbar(x=data['Predictor'], y=data['Coefficient'], yerr=data['Std. Error'], fmt='o', color='black')\n",
    "    #plt.title('Forest Plot of Mixed Linear Model Coefficients')\n",
    "    plt.xlabel('Coefficient')\n",
    "    plt.ylabel('Predictor')\n",
    "    plt.hlines(0, -0.5, len(predictors), color = 'black')\n",
    "    plt.tight_layout()\n",
    "    plt.show()\n",
    "\n",
    "    \n"
   ]
  },
  {
   "cell_type": "markdown",
   "metadata": {},
   "source": [
    "### Mixed effects model for accent forced choice"
   ]
  },
  {
   "cell_type": "code",
   "execution_count": 233,
   "metadata": {},
   "outputs": [
    {
     "name": "stdout",
     "output_type": "stream",
     "text": [
      "            Mixed Linear Model Regression Results\n",
      "==============================================================\n",
      "Model:             MixedLM  Dependent Variable:  accent_chosen\n",
      "No. Observations:  1248     Method:              REML         \n",
      "No. Groups:        78       Scale:               0.1837       \n",
      "Min. group size:   16       Log-Likelihood:      -794.2109    \n",
      "Max. group size:   16       Converged:           Yes          \n",
      "Mean group size:   16.0                                       \n",
      "--------------------------------------------------------------\n",
      "                    Coef.  Std.Err.   z    P>|z| [0.025 0.975]\n",
      "--------------------------------------------------------------\n",
      "Intercept            0.393    0.039 10.084 0.000  0.316  0.469\n",
      "C(contour)[T.asc]    0.015    0.042  0.369 0.712 -0.066  0.097\n",
      "C(contour)[T.des]    0.005    0.047  0.107 0.915 -0.088  0.098\n",
      "C(contour)[T.inv-U]  0.098    0.029  3.416 0.001  0.042  0.154\n",
      "IC                  -0.035    0.031 -1.123 0.261 -0.095  0.026\n",
      "Group Var            0.059    0.027                           \n",
      "==============================================================\n",
      "\n"
     ]
    },
    {
     "name": "stderr",
     "output_type": "stream",
     "text": [
      "/Users/cindyzhang/anaconda3/envs/musicIC2/lib/python3.10/site-packages/statsmodels/regression/mixed_linear_model.py:1635: UserWarning: Random effects covariance is singular\n",
      "  warnings.warn(msg)\n"
     ]
    }
   ],
   "source": [
    "#considering only the effects of IC and contour\n",
    "md_accent = smf.mixedlm(\"accent_chosen ~ IC + C(contour)\", fc_accent_regression, groups=fc_accent_regression['subject'])\n",
    "mdf_accent = md_accent.fit(method=[\"lbfgs\"])\n",
    "print(mdf_accent.summary())"
   ]
  },
  {
   "cell_type": "code",
   "execution_count": 267,
   "metadata": {},
   "outputs": [
    {
     "name": "stderr",
     "output_type": "stream",
     "text": [
      "/var/folders/18/hp_602x50x34x_4p_qjc80g40000gn/T/ipykernel_15814/1597068624.py:29: FutureWarning: \n",
      "\n",
      "Passing `palette` without assigning `hue` is deprecated and will be removed in v0.14.0. Assign the `x` variable to `hue` and set `legend=False` for the same effect.\n",
      "\n",
      "  sns.barplot(x='Predictor', y='Coefficient', data=data, palette=palette)\n"
     ]
    },
    {
     "data": {
      "image/png": "[encoded data removed]",
      "text/plain": [
       "<Figure size 1000x600 with 1 Axes>"
      ]
     },
     "metadata": {},
     "output_type": "display_data"
    }
   ],
   "source": [
    "#plot_coefs(mdf_accent, labels = 'auto')\n",
    "plot_coefs(mdf_accent, \n",
    "           labels = ['Intercept', 'Ascending', 'Descending', 'Peak', 'IC', 'Group Variance'], \n",
    "           colors = ['Grey', 'Tomato', 'Tomato', 'Tomato', 'Teal', 'Gray'])\n"
   ]
  },
  {
   "cell_type": "code",
   "execution_count": 235,
   "metadata": {},
   "outputs": [
    {
     "name": "stdout",
     "output_type": "stream",
     "text": [
      "            Mixed Linear Model Regression Results\n",
      "==============================================================\n",
      "Model:             MixedLM  Dependent Variable:  accent_chosen\n",
      "No. Observations:  1248     Method:              REML         \n",
      "No. Groups:        78       Scale:               0.1839       \n",
      "Min. group size:   16       Log-Likelihood:      -797.6240    \n",
      "Max. group size:   16       Converged:           Yes          \n",
      "Mean group size:   16.0                                       \n",
      "--------------------------------------------------------------\n",
      "                    Coef.  Std.Err.   z    P>|z| [0.025 0.975]\n",
      "--------------------------------------------------------------\n",
      "Intercept            0.389    0.043  9.026 0.000  0.304  0.473\n",
      "C(musician)[T.1]     0.019    0.077  0.249 0.804 -0.132  0.170\n",
      "C(contour)[T.asc]    0.015    0.042  0.366 0.714 -0.066  0.097\n",
      "C(contour)[T.des]    0.005    0.047  0.100 0.921 -0.088  0.098\n",
      "C(contour)[T.inv-U]  0.098    0.029  3.412 0.001  0.042  0.154\n",
      "IC                  -0.042    0.034 -1.233 0.218 -0.108  0.024\n",
      "IC:C(musician)[T.1]  0.029    0.058  0.511 0.610 -0.084  0.142\n",
      "Group Var            0.059    0.028                           \n",
      "==============================================================\n",
      "\n"
     ]
    },
    {
     "name": "stderr",
     "output_type": "stream",
     "text": [
      "/Users/cindyzhang/anaconda3/envs/musicIC2/lib/python3.10/site-packages/statsmodels/regression/mixed_linear_model.py:1635: UserWarning: Random effects covariance is singular\n",
      "  warnings.warn(msg)\n"
     ]
    }
   ],
   "source": [
    "#considering the effects of IC, contour, musicianship, and interaction between musicianship and contour\n",
    "md_accent_mus = smf.mixedlm(\"accent_chosen ~ IC + C(musician) + C(contour) + IC:C(musician)\", fc_accent_regression, groups=fc_accent_regression['subject'])\n",
    "mdf_accent_mus = md_accent_mus.fit(method=[\"lbfgs\"])\n",
    "print(mdf_accent_mus.summary())"
   ]
  },
  {
   "cell_type": "code",
   "execution_count": 279,
   "metadata": {},
   "outputs": [
    {
     "name": "stderr",
     "output_type": "stream",
     "text": [
      "/var/folders/18/hp_602x50x34x_4p_qjc80g40000gn/T/ipykernel_15814/1766769480.py:30: FutureWarning: \n",
      "\n",
      "Passing `palette` without assigning `hue` is deprecated and will be removed in v0.14.0. Assign the `x` variable to `hue` and set `legend=False` for the same effect.\n",
      "\n",
      "  sns.barplot(x='Predictor', y='Coefficient', data=data, palette=palette)\n"
     ]
    },
    {
     "data": {
      "image/png": "[encoded data removed]",
      "text/plain": [
       "<Figure size 1000x600 with 1 Axes>"
      ]
     },
     "metadata": {},
     "output_type": "display_data"
    },
    {
     "data": {
      "text/plain": [
       "<Figure size 640x480 with 0 Axes>"
      ]
     },
     "metadata": {},
     "output_type": "display_data"
    }
   ],
   "source": [
    "fig = plot_coefs(mdf_accent_mus, \n",
    "           #labels='auto',\n",
    "           labels = ['Intercept', 'Musician', 'Ascending', 'Descending', 'Peak', 'IC', 'IC:Musician', 'Group Variance'], \n",
    "           colors = ['Grey', 'Green', 'Tomato', 'Tomato', 'Tomato', 'Teal', 'Purple', 'Gray']\n",
    "           )\n",
    "\n",
    "plt.savefig('./figures/me_accent.png', dpi = 200)"
   ]
  },
  {
   "cell_type": "markdown",
   "metadata": {},
   "source": [
    "### Mixed effects model for IC forced choice"
   ]
  },
  {
   "cell_type": "code",
   "execution_count": 190,
   "metadata": {},
   "outputs": [
    {
     "name": "stderr",
     "output_type": "stream",
     "text": [
      "/Users/cindyzhang/anaconda3/envs/musicIC2/lib/python3.10/site-packages/statsmodels/regression/mixed_linear_model.py:1635: UserWarning: Random effects covariance is singular\n",
      "  warnings.warn(msg)\n"
     ]
    },
    {
     "name": "stdout",
     "output_type": "stream",
     "text": [
      "           Mixed Linear Model Regression Results\n",
      "============================================================\n",
      "Model:            MixedLM Dependent Variable: high_IC_chosen\n",
      "No. Observations: 1248    Method:             REML          \n",
      "No. Groups:       78      Scale:              0.2380        \n",
      "Min. group size:  16      Log-Likelihood:     -903.4563     \n",
      "Max. group size:  16      Converged:          Yes           \n",
      "Mean group size:  16.0                                      \n",
      "-------------------------------------------------------------\n",
      "               Coef.  Std.Err.    z     P>|z|  [0.025  0.975]\n",
      "-------------------------------------------------------------\n",
      "Intercept      0.484     0.023  20.814  0.000   0.438   0.530\n",
      "accent         0.013     0.028   0.464  0.642  -0.041   0.067\n",
      "Group Var      0.012     0.009                               \n",
      "============================================================\n",
      "\n"
     ]
    }
   ],
   "source": [
    "#considering only the effect of accent\n",
    "md_IC = smf.mixedlm(\"high_IC_chosen ~ accent\", fc_IC_regression, groups=fc_IC_regression['subject'] )\n",
    "mdf_IC = md_IC.fit(method=[\"lbfgs\"])\n",
    "print(mdf_IC.summary())"
   ]
  },
  {
   "cell_type": "code",
   "execution_count": 191,
   "metadata": {},
   "outputs": [
    {
     "name": "stderr",
     "output_type": "stream",
     "text": [
      "/Users/cindyzhang/anaconda3/envs/musicIC2/lib/python3.10/site-packages/statsmodels/regression/mixed_linear_model.py:1635: UserWarning: Random effects covariance is singular\n",
      "  warnings.warn(msg)\n"
     ]
    },
    {
     "name": "stdout",
     "output_type": "stream",
     "text": [
      "              Mixed Linear Model Regression Results\n",
      "=================================================================\n",
      "Model:               MixedLM  Dependent Variable:  high_IC_chosen\n",
      "No. Observations:    1248     Method:              REML          \n",
      "No. Groups:          78       Scale:               0.2382        \n",
      "Min. group size:     16       Log-Likelihood:      -907.1326     \n",
      "Max. group size:     16       Converged:           Yes           \n",
      "Mean group size:     16.0                                        \n",
      "-----------------------------------------------------------------\n",
      "                        Coef. Std.Err.   z    P>|z| [0.025 0.975]\n",
      "-----------------------------------------------------------------\n",
      "Intercept               0.477    0.027 17.964 0.000  0.425  0.529\n",
      "C(musician)[T.1]        0.030    0.055  0.540 0.589 -0.078  0.138\n",
      "accent                  0.010    0.032  0.331 0.741 -0.051  0.072\n",
      "accent:C(musician)[T.1] 0.010    0.066  0.159 0.874 -0.118  0.139\n",
      "Group Var               0.013    0.009                           \n",
      "=================================================================\n",
      "\n"
     ]
    }
   ],
   "source": [
    "md_IC = smf.mixedlm(\"high_IC_chosen ~ accent + C(musician) + accent:C(musician)\", fc_IC_regression, groups=fc_IC_regression['subject'] )\n",
    "mdf_IC = md_IC.fit(method=[\"lbfgs\"])\n",
    "print(mdf_IC.summary())"
   ]
  },
  {
   "cell_type": "code",
   "execution_count": 280,
   "metadata": {},
   "outputs": [
    {
     "name": "stderr",
     "output_type": "stream",
     "text": [
      "/var/folders/18/hp_602x50x34x_4p_qjc80g40000gn/T/ipykernel_15814/1766769480.py:30: FutureWarning: \n",
      "\n",
      "Passing `palette` without assigning `hue` is deprecated and will be removed in v0.14.0. Assign the `x` variable to `hue` and set `legend=False` for the same effect.\n",
      "\n",
      "  sns.barplot(x='Predictor', y='Coefficient', data=data, palette=palette)\n"
     ]
    },
    {
     "data": {
      "image/png": "[encoded data removed]",
      "text/plain": [
       "<Figure size 1000x600 with 1 Axes>"
      ]
     },
     "metadata": {},
     "output_type": "display_data"
    },
    {
     "data": {
      "image/png": "[encoded data removed]",
      "text/plain": [
       "<Figure size 1000x600 with 1 Axes>"
      ]
     },
     "execution_count": 280,
     "metadata": {},
     "output_type": "execute_result"
    }
   ],
   "source": [
    "plot_coefs(mdf_IC,\n",
    "           labels=['Intercept', 'Musician', 'Accent', 'Accent:Musician', 'Group Var'],\n",
    "           colors= ['Grey', 'Green', 'Goldenrod', 'Purple', 'Grey'])"
   ]
  },
  {
   "cell_type": "markdown",
   "metadata": {},
   "source": [
    "### Example below"
   ]
  },
  {
   "cell_type": "code",
   "execution_count": 192,
   "metadata": {},
   "outputs": [
    {
     "data": {
      "text/html": [
       "<div>\n",
       "<style scoped>\n",
       "    .dataframe tbody tr th:only-of-type {\n",
       "        vertical-align: middle;\n",
       "    }\n",
       "\n",
       "    .dataframe tbody tr th {\n",
       "        vertical-align: top;\n",
       "    }\n",
       "\n",
       "    .dataframe thead th {\n",
       "        text-align: right;\n",
       "    }\n",
       "</style>\n",
       "<table border=\"1\" class=\"dataframe\">\n",
       "  <thead>\n",
       "    <tr style=\"text-align: right;\">\n",
       "      <th></th>\n",
       "      <th>Pig</th>\n",
       "      <th>Evit</th>\n",
       "      <th>Cu</th>\n",
       "      <th>Litter</th>\n",
       "      <th>Start</th>\n",
       "      <th>Weight</th>\n",
       "      <th>Feed</th>\n",
       "      <th>Time</th>\n",
       "    </tr>\n",
       "  </thead>\n",
       "  <tbody>\n",
       "    <tr>\n",
       "      <th>0</th>\n",
       "      <td>4601</td>\n",
       "      <td>Evit000</td>\n",
       "      <td>Cu000</td>\n",
       "      <td>1</td>\n",
       "      <td>26.5</td>\n",
       "      <td>26.50000</td>\n",
       "      <td>NaN</td>\n",
       "      <td>1</td>\n",
       "    </tr>\n",
       "    <tr>\n",
       "      <th>1</th>\n",
       "      <td>4601</td>\n",
       "      <td>Evit000</td>\n",
       "      <td>Cu000</td>\n",
       "      <td>1</td>\n",
       "      <td>26.5</td>\n",
       "      <td>27.59999</td>\n",
       "      <td>5.200005</td>\n",
       "      <td>2</td>\n",
       "    </tr>\n",
       "    <tr>\n",
       "      <th>2</th>\n",
       "      <td>4601</td>\n",
       "      <td>Evit000</td>\n",
       "      <td>Cu000</td>\n",
       "      <td>1</td>\n",
       "      <td>26.5</td>\n",
       "      <td>36.50000</td>\n",
       "      <td>17.600000</td>\n",
       "      <td>3</td>\n",
       "    </tr>\n",
       "    <tr>\n",
       "      <th>3</th>\n",
       "      <td>4601</td>\n",
       "      <td>Evit000</td>\n",
       "      <td>Cu000</td>\n",
       "      <td>1</td>\n",
       "      <td>26.5</td>\n",
       "      <td>40.29999</td>\n",
       "      <td>28.500000</td>\n",
       "      <td>4</td>\n",
       "    </tr>\n",
       "    <tr>\n",
       "      <th>4</th>\n",
       "      <td>4601</td>\n",
       "      <td>Evit000</td>\n",
       "      <td>Cu000</td>\n",
       "      <td>1</td>\n",
       "      <td>26.5</td>\n",
       "      <td>49.09998</td>\n",
       "      <td>45.200001</td>\n",
       "      <td>5</td>\n",
       "    </tr>\n",
       "    <tr>\n",
       "      <th>...</th>\n",
       "      <td>...</td>\n",
       "      <td>...</td>\n",
       "      <td>...</td>\n",
       "      <td>...</td>\n",
       "      <td>...</td>\n",
       "      <td>...</td>\n",
       "      <td>...</td>\n",
       "      <td>...</td>\n",
       "    </tr>\n",
       "    <tr>\n",
       "      <th>856</th>\n",
       "      <td>8442</td>\n",
       "      <td>Evit000</td>\n",
       "      <td>Cu175</td>\n",
       "      <td>24</td>\n",
       "      <td>25.7</td>\n",
       "      <td>73.19995</td>\n",
       "      <td>83.800003</td>\n",
       "      <td>8</td>\n",
       "    </tr>\n",
       "    <tr>\n",
       "      <th>857</th>\n",
       "      <td>8442</td>\n",
       "      <td>Evit000</td>\n",
       "      <td>Cu175</td>\n",
       "      <td>24</td>\n",
       "      <td>25.7</td>\n",
       "      <td>81.69995</td>\n",
       "      <td>99.800003</td>\n",
       "      <td>9</td>\n",
       "    </tr>\n",
       "    <tr>\n",
       "      <th>858</th>\n",
       "      <td>8442</td>\n",
       "      <td>Evit000</td>\n",
       "      <td>Cu175</td>\n",
       "      <td>24</td>\n",
       "      <td>25.7</td>\n",
       "      <td>90.29999</td>\n",
       "      <td>115.200001</td>\n",
       "      <td>10</td>\n",
       "    </tr>\n",
       "    <tr>\n",
       "      <th>859</th>\n",
       "      <td>8442</td>\n",
       "      <td>Evit000</td>\n",
       "      <td>Cu175</td>\n",
       "      <td>24</td>\n",
       "      <td>25.7</td>\n",
       "      <td>96.00000</td>\n",
       "      <td>133.200001</td>\n",
       "      <td>11</td>\n",
       "    </tr>\n",
       "    <tr>\n",
       "      <th>860</th>\n",
       "      <td>8442</td>\n",
       "      <td>Evit000</td>\n",
       "      <td>Cu175</td>\n",
       "      <td>24</td>\n",
       "      <td>25.7</td>\n",
       "      <td>103.50000</td>\n",
       "      <td>151.400002</td>\n",
       "      <td>12</td>\n",
       "    </tr>\n",
       "  </tbody>\n",
       "</table>\n",
       "<p>861 rows × 8 columns</p>\n",
       "</div>"
      ],
      "text/plain": [
       "      Pig     Evit     Cu  Litter  Start     Weight        Feed  Time\n",
       "0    4601  Evit000  Cu000       1   26.5   26.50000         NaN     1\n",
       "1    4601  Evit000  Cu000       1   26.5   27.59999    5.200005     2\n",
       "2    4601  Evit000  Cu000       1   26.5   36.50000   17.600000     3\n",
       "3    4601  Evit000  Cu000       1   26.5   40.29999   28.500000     4\n",
       "4    4601  Evit000  Cu000       1   26.5   49.09998   45.200001     5\n",
       "..    ...      ...    ...     ...    ...        ...         ...   ...\n",
       "856  8442  Evit000  Cu175      24   25.7   73.19995   83.800003     8\n",
       "857  8442  Evit000  Cu175      24   25.7   81.69995   99.800003     9\n",
       "858  8442  Evit000  Cu175      24   25.7   90.29999  115.200001    10\n",
       "859  8442  Evit000  Cu175      24   25.7   96.00000  133.200001    11\n",
       "860  8442  Evit000  Cu175      24   25.7  103.50000  151.400002    12\n",
       "\n",
       "[861 rows x 8 columns]"
      ]
     },
     "execution_count": 192,
     "metadata": {},
     "output_type": "execute_result"
    }
   ],
   "source": [
    "\n",
    "data = sm.datasets.get_rdataset(\"dietox\", \"geepack\").data\n",
    "data"
   ]
  },
  {
   "cell_type": "code",
   "execution_count": 193,
   "metadata": {},
   "outputs": [
    {
     "name": "stdout",
     "output_type": "stream",
     "text": [
      "         Mixed Linear Model Regression Results\n",
      "========================================================\n",
      "Model:            MixedLM Dependent Variable: Weight    \n",
      "No. Observations: 861     Method:             REML      \n",
      "No. Groups:       72      Scale:              11.3669   \n",
      "Min. group size:  11      Log-Likelihood:     -2404.7753\n",
      "Max. group size:  12      Converged:          Yes       \n",
      "Mean group size:  12.0                                  \n",
      "--------------------------------------------------------\n",
      "             Coef.  Std.Err.    z    P>|z| [0.025 0.975]\n",
      "--------------------------------------------------------\n",
      "Intercept    15.724    0.788  19.952 0.000 14.179 17.268\n",
      "Time          6.943    0.033 207.939 0.000  6.877  7.008\n",
      "Group Var    40.395    2.149                            \n",
      "========================================================\n",
      "\n"
     ]
    }
   ],
   "source": [
    "\n",
    "# Assuming 'data' is your DataFrame\n",
    "data['Group'] = data['Pig'].astype(str) + '_' + data['Cu'].astype(str)\n",
    "\n",
    "# Now fit the model\n",
    "md = smf.mixedlm(\"Weight ~ Time\", data, groups='Group')\n",
    "mdf = md.fit(method=[\"lbfgs\"])\n",
    "print(mdf.summary())"
   ]
  }
 ],
 "metadata": {
  "kernelspec": {
   "display_name": "musicIC2",
   "language": "python",
   "name": "python3"
  },
  "language_info": {
   "codemirror_mode": {
    "name": "ipython",
    "version": 3
   },
   "file_extension": ".py",
   "mimetype": "text/x-python",
   "name": "python",
   "nbconvert_exporter": "python",
   "pygments_lexer": "ipython3",
   "version": "3.10.13"
  },
  "orig_nbformat": 4
 },
 "nbformat": 4,
 "nbformat_minor": 2
}
