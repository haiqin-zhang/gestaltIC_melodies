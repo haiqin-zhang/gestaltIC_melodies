{
 "cells": [
  {
   "cell_type": "code",
   "execution_count": 1,
   "metadata": {},
   "outputs": [],
   "source": [
    "import pandas as pd\n",
    "import numpy as np\n",
    "from scipy import stats\n",
    "\n",
    "import matplotlib.pyplot as plt\n",
    "import seaborn as sns\n",
    "\n",
    "import re\n",
    "import json\n",
    "import pickle as pkl\n",
    "from collections import Counter\n",
    "\n",
    "import statistics as s\n",
    "from patsy import dmatrices\n",
    "import statsmodels.api as sm\n",
    "import statsmodels.formula.api as smf\n",
    "from statsmodels.tools.sm_exceptions import ConvergenceWarning\n"
   ]
  },
  {
   "cell_type": "code",
   "execution_count": 2,
   "metadata": {},
   "outputs": [],
   "source": [
    "#import pre-processed data\n",
    "fc_IC_regression = pd.read_csv('fc_IC_regression.csv')\n",
    "fc_accent_regression = pd.read_csv('fc_accent_regression.csv')"
   ]
  },
  {
   "cell_type": "code",
   "execution_count": 3,
   "metadata": {},
   "outputs": [],
   "source": [
    "#UTILS FOR PLOTTING RESULTS\n",
    "def plot_coefs(model, labels = 'auto', palette='viridis', colors = None):\n",
    "    coefficients = model.params.tolist()\n",
    "    std_errors = model.bse.tolist()\n",
    "\n",
    "    if labels == 'auto':\n",
    "        predictors = model.params.index.tolist()\n",
    "       \n",
    "    else:\n",
    "        predictors = labels\n",
    "\n",
    "    ci_lower = [coef - 1.96 * se for coef, se in zip(coefficients, std_errors)]\n",
    "    ci_upper = [coef + 1.96 * se for coef, se in zip(coefficients, std_errors)]\n",
    "\n",
    "    data = pd.DataFrame({\n",
    "    'Predictor': predictors,\n",
    "    'Coefficient': coefficients,\n",
    "    'Std. Error': std_errors,\n",
    "    'CI Lower': ci_lower,\n",
    "    'CI Upper': ci_upper\n",
    "    })\n",
    "\n",
    "    if colors is not None and len(colors) == len(predictors):\n",
    "        palette = colors\n",
    "    else:\n",
    "        palette = sns.color_palette('Blues_d', len(predictors))\n",
    "\n",
    "    yerr = data['CI Upper'] - data['CI Lower']\n",
    "    yerr_lower = data['Coefficient'] - data['CI Lower']\n",
    "    yerr_upper = data['CI Upper'] - data['Coefficient']\n",
    "\n",
    "\n",
    "    plt.figure(figsize=(10, 6))\n",
    "    sns.barplot(x='Predictor', y='Coefficient', data=data, palette=palette)\n",
    "    #plt.errorbar(x=data['Predictor'], y=data['Coefficient'], yerr=data['Std. Error'], fmt='o', color='black')\n",
    "    plt.errorbar(x=data['Predictor'], y=data['Coefficient'], \n",
    "             yerr=[yerr_lower, yerr_upper], fmt='o', color='black', capsize=5)\n",
    "\n",
    "    plt.xlabel('Predictor')\n",
    "    plt.ylabel('Coefficient')\n",
    "    plt.hlines(0, -0.5, len(predictors), color = 'black')\n",
    "    plt.tight_layout()\n",
    "    plt.show()\n",
    "\n",
    "    \n"
   ]
  },
  {
   "cell_type": "markdown",
   "metadata": {},
   "source": [
    "### Mixed effects model for accent forced choice"
   ]
  },
  {
   "cell_type": "code",
   "execution_count": 4,
   "metadata": {},
   "outputs": [
    {
     "name": "stdout",
     "output_type": "stream",
     "text": [
      "            Mixed Linear Model Regression Results\n",
      "==============================================================\n",
      "Model:             MixedLM  Dependent Variable:  accent_chosen\n",
      "No. Observations:  1248     Method:              REML         \n",
      "No. Groups:        78       Scale:               0.1837       \n",
      "Min. group size:   16       Log-Likelihood:      -794.2109    \n",
      "Max. group size:   16       Converged:           Yes          \n",
      "Mean group size:   16.0                                       \n",
      "--------------------------------------------------------------\n",
      "                    Coef.  Std.Err.   z    P>|z| [0.025 0.975]\n",
      "--------------------------------------------------------------\n",
      "Intercept            0.393    0.039 10.084 0.000  0.316  0.469\n",
      "C(contour)[T.asc]    0.015    0.042  0.369 0.712 -0.066  0.097\n",
      "C(contour)[T.des]    0.005    0.047  0.107 0.915 -0.088  0.098\n",
      "C(contour)[T.inv-U]  0.098    0.029  3.416 0.001  0.042  0.154\n",
      "IC                  -0.035    0.031 -1.123 0.261 -0.095  0.026\n",
      "Group Var            0.059    0.027                           \n",
      "==============================================================\n",
      "\n"
     ]
    },
    {
     "name": "stderr",
     "output_type": "stream",
     "text": [
      "/Users/cindyzhang/anaconda3/envs/musicIC2/lib/python3.10/site-packages/statsmodels/regression/mixed_linear_model.py:1635: UserWarning: Random effects covariance is singular\n",
      "  warnings.warn(msg)\n"
     ]
    }
   ],
   "source": [
    "#considering only the effects of IC and contour\n",
    "md_accent = smf.mixedlm(\"accent_chosen ~ IC + C(contour)\", fc_accent_regression, groups=fc_accent_regression['subject'])\n",
    "mdf_accent = md_accent.fit(method=[\"lbfgs\"])\n",
    "print(mdf_accent.summary())"
   ]
  },
  {
   "cell_type": "code",
   "execution_count": 5,
   "metadata": {},
   "outputs": [
    {
     "name": "stderr",
     "output_type": "stream",
     "text": [
      "/var/folders/18/hp_602x50x34x_4p_qjc80g40000gn/T/ipykernel_19907/4131296526.py:34: FutureWarning: \n",
      "\n",
      "Passing `palette` without assigning `hue` is deprecated and will be removed in v0.14.0. Assign the `x` variable to `hue` and set `legend=False` for the same effect.\n",
      "\n",
      "  sns.barplot(x='Predictor', y='Coefficient', data=data, palette=palette)\n"
     ]
    },
    {
     "data": {
      "image/png": "[encoded data removed]",
      "text/plain": [
       "<Figure size 1000x600 with 1 Axes>"
      ]
     },
     "metadata": {},
     "output_type": "display_data"
    }
   ],
   "source": [
    "#plot_coefs(mdf_accent, labels = 'auto')\n",
    "plot_coefs(mdf_accent, \n",
    "           labels = ['Intercept', 'Ascending', 'Descending', 'Peak', 'IC', 'Group Variance'], \n",
    "           colors = ['Grey', 'Tomato', 'Tomato', 'Tomato', 'Teal', 'Gray'])\n"
   ]
  },
  {
   "cell_type": "code",
   "execution_count": 6,
   "metadata": {},
   "outputs": [
    {
     "name": "stderr",
     "output_type": "stream",
     "text": [
      "/Users/cindyzhang/anaconda3/envs/musicIC2/lib/python3.10/site-packages/statsmodels/regression/mixed_linear_model.py:1635: UserWarning: Random effects covariance is singular\n",
      "  warnings.warn(msg)\n"
     ]
    },
    {
     "name": "stdout",
     "output_type": "stream",
     "text": [
      "            Mixed Linear Model Regression Results\n",
      "==============================================================\n",
      "Model:             MixedLM  Dependent Variable:  accent_chosen\n",
      "No. Observations:  1248     Method:              REML         \n",
      "No. Groups:        78       Scale:               0.1839       \n",
      "Min. group size:   16       Log-Likelihood:      -797.6240    \n",
      "Max. group size:   16       Converged:           Yes          \n",
      "Mean group size:   16.0                                       \n",
      "--------------------------------------------------------------\n",
      "                    Coef.  Std.Err.   z    P>|z| [0.025 0.975]\n",
      "--------------------------------------------------------------\n",
      "Intercept            0.389    0.043  9.026 0.000  0.304  0.473\n",
      "C(musician)[T.1]     0.019    0.077  0.249 0.804 -0.132  0.170\n",
      "C(contour)[T.asc]    0.015    0.042  0.366 0.714 -0.066  0.097\n",
      "C(contour)[T.des]    0.005    0.047  0.100 0.921 -0.088  0.098\n",
      "C(contour)[T.inv-U]  0.098    0.029  3.412 0.001  0.042  0.154\n",
      "IC                  -0.042    0.034 -1.233 0.218 -0.108  0.024\n",
      "IC:C(musician)[T.1]  0.029    0.058  0.511 0.610 -0.084  0.142\n",
      "Group Var            0.059    0.028                           \n",
      "==============================================================\n",
      "\n"
     ]
    }
   ],
   "source": [
    "#considering the effects of IC, contour, musicianship, and interaction between musicianship and contour\n",
    "md_accent_mus = smf.mixedlm(\"accent_chosen ~ IC + C(musician) + C(contour) + IC:C(musician)\", fc_accent_regression, groups=fc_accent_regression['subject'])\n",
    "mdf_accent_mus = md_accent_mus.fit(method=[\"lbfgs\"])\n",
    "print(mdf_accent_mus.summary())"
   ]
  },
  {
   "cell_type": "code",
   "execution_count": 7,
   "metadata": {},
   "outputs": [
    {
     "name": "stderr",
     "output_type": "stream",
     "text": [
      "/var/folders/18/hp_602x50x34x_4p_qjc80g40000gn/T/ipykernel_19907/4131296526.py:34: FutureWarning: \n",
      "\n",
      "Passing `palette` without assigning `hue` is deprecated and will be removed in v0.14.0. Assign the `x` variable to `hue` and set `legend=False` for the same effect.\n",
      "\n",
      "  sns.barplot(x='Predictor', y='Coefficient', data=data, palette=palette)\n"
     ]
    },
    {
     "data": {
      "image/png": "[encoded data removed]",
      "text/plain": [
       "<Figure size 1000x600 with 1 Axes>"
      ]
     },
     "metadata": {},
     "output_type": "display_data"
    },
    {
     "data": {
      "text/plain": [
       "<Figure size 640x480 with 0 Axes>"
      ]
     },
     "metadata": {},
     "output_type": "display_data"
    }
   ],
   "source": [
    "fig = plot_coefs(mdf_accent_mus, \n",
    "           #labels='auto',\n",
    "           labels = ['Intercept', 'Musician', 'Ascending', 'Descending', 'Peak', 'IC', 'IC:Musician', 'Group Variance'], \n",
    "           colors = ['Grey', 'Green', 'Tomato', 'Tomato', 'Tomato', 'Teal', 'Purple', 'Gray']\n",
    "           )\n",
    "\n",
    "plt.savefig('./figures/me_accent.png', dpi = 200)"
   ]
  },
  {
   "cell_type": "code",
   "execution_count": 8,
   "metadata": {},
   "outputs": [
    {
     "name": "stderr",
     "output_type": "stream",
     "text": [
      "/Users/cindyzhang/anaconda3/envs/musicIC2/lib/python3.10/site-packages/statsmodels/regression/mixed_linear_model.py:1635: UserWarning: Random effects covariance is singular\n",
      "  warnings.warn(msg)\n"
     ]
    },
    {
     "name": "stdout",
     "output_type": "stream",
     "text": [
      "                Mixed Linear Model Regression Results\n",
      "=====================================================================\n",
      "Model:                MixedLM    Dependent Variable:    accent_chosen\n",
      "No. Observations:     1248       Method:                REML         \n",
      "No. Groups:           78         Scale:                 0.1851       \n",
      "Min. group size:      16         Log-Likelihood:        -798.3517    \n",
      "Max. group size:      16         Converged:             Yes          \n",
      "Mean group size:      16.0                                           \n",
      "---------------------------------------------------------------------\n",
      "                           Coef.  Std.Err.   z    P>|z| [0.025 0.975]\n",
      "---------------------------------------------------------------------\n",
      "Intercept                   0.417    0.032 13.008 0.000  0.354  0.479\n",
      "IC:C(condition)[tonic A4]  -0.122    0.058 -2.097 0.036 -0.236 -0.008\n",
      "IC:C(condition)[tonic Bb4]  0.010    0.058  0.179 0.858 -0.104  0.124\n",
      "IC:C(condition)[tonic C5]   0.041    0.058  0.695 0.487 -0.074  0.155\n",
      "IC:C(condition)[tonic Cs5] -0.045    0.048 -0.947 0.344 -0.139  0.049\n",
      "IC:C(condition)[tonic E5]   0.076    0.058  1.300 0.194 -0.038  0.190\n",
      "IC:C(condition)[tonic G5]   0.001    0.059  0.015 0.988 -0.114  0.116\n",
      "Group Var                   0.057    0.026                           \n",
      "=====================================================================\n",
      "\n"
     ]
    }
   ],
   "source": [
    "md_tonic = smf.mixedlm(\"accent_chosen ~ IC:C(condition)\", fc_accent_regression, groups=fc_accent_regression['subject'])\n",
    "mdf_tonic = md_tonic.fit(method=[\"lbfgs\"])\n",
    "print(mdf_tonic.summary())"
   ]
  },
  {
   "cell_type": "code",
   "execution_count": 9,
   "metadata": {},
   "outputs": [
    {
     "name": "stdout",
     "output_type": "stream",
     "text": [
      "               Mixed Linear Model Regression Results\n",
      "====================================================================\n",
      "Model:               MixedLM    Dependent Variable:    accent_chosen\n",
      "No. Observations:    1248       Method:                REML         \n",
      "No. Groups:          78         Scale:                 0.1837       \n",
      "Min. group size:     16         Log-Likelihood:        -797.9043    \n",
      "Max. group size:     16         Converged:             Yes          \n",
      "Mean group size:     16.0                                           \n",
      "--------------------------------------------------------------------\n",
      "                          Coef.  Std.Err.   z    P>|z| [0.025 0.975]\n",
      "--------------------------------------------------------------------\n",
      "Intercept                  0.344    0.078  4.415 0.000  0.191  0.497\n",
      "C(contour)[T.asc]          0.011    0.042  0.262 0.794 -0.071  0.093\n",
      "C(contour)[T.des]          0.005    0.048  0.097 0.923 -0.089  0.098\n",
      "C(contour)[T.inv-U]        0.100    0.029  3.481 0.000  0.044  0.156\n",
      "C(condition)[T.tonic Bb4]  0.051    0.106  0.485 0.628 -0.157  0.259\n",
      "C(condition)[T.tonic C5]   0.172    0.106  1.615 0.106 -0.037  0.381\n",
      "C(condition)[T.tonic Cs5]  0.106    0.097  1.088 0.277 -0.085  0.296\n",
      "C(condition)[T.tonic E5]   0.041    0.106  0.390 0.697 -0.167  0.250\n",
      "C(condition)[T.tonic G5]  -0.100    0.106 -0.938 0.348 -0.308  0.109\n",
      "IC                        -0.037    0.031 -1.189 0.234 -0.097  0.024\n",
      "Group Var                  0.056    0.027                           \n",
      "====================================================================\n",
      "\n"
     ]
    },
    {
     "name": "stderr",
     "output_type": "stream",
     "text": [
      "/Users/cindyzhang/anaconda3/envs/musicIC2/lib/python3.10/site-packages/statsmodels/regression/mixed_linear_model.py:1635: UserWarning: Random effects covariance is singular\n",
      "  warnings.warn(msg)\n"
     ]
    }
   ],
   "source": [
    "md_tonic = smf.mixedlm(\"accent_chosen ~ IC + C(contour) + C(condition)\", fc_accent_regression, groups=fc_accent_regression['subject'])\n",
    "mdf_tonic = md_tonic.fit(method=[\"lbfgs\"])\n",
    "print(mdf_tonic.summary())"
   ]
  },
  {
   "cell_type": "markdown",
   "metadata": {},
   "source": [
    "### Mixed effects model for IC forced choice"
   ]
  },
  {
   "cell_type": "code",
   "execution_count": 10,
   "metadata": {},
   "outputs": [
    {
     "name": "stderr",
     "output_type": "stream",
     "text": [
      "/Users/cindyzhang/anaconda3/envs/musicIC2/lib/python3.10/site-packages/statsmodels/regression/mixed_linear_model.py:1635: UserWarning: Random effects covariance is singular\n",
      "  warnings.warn(msg)\n"
     ]
    },
    {
     "name": "stdout",
     "output_type": "stream",
     "text": [
      "           Mixed Linear Model Regression Results\n",
      "============================================================\n",
      "Model:            MixedLM Dependent Variable: high_IC_chosen\n",
      "No. Observations: 1248    Method:             REML          \n",
      "No. Groups:       78      Scale:              0.2380        \n",
      "Min. group size:  16      Log-Likelihood:     -903.4563     \n",
      "Max. group size:  16      Converged:          Yes           \n",
      "Mean group size:  16.0                                      \n",
      "-------------------------------------------------------------\n",
      "               Coef.  Std.Err.    z     P>|z|  [0.025  0.975]\n",
      "-------------------------------------------------------------\n",
      "Intercept      0.484     0.023  20.814  0.000   0.438   0.530\n",
      "accent         0.013     0.028   0.464  0.642  -0.041   0.067\n",
      "Group Var      0.012     0.009                               \n",
      "============================================================\n",
      "\n"
     ]
    }
   ],
   "source": [
    "#considering only the effect of accent\n",
    "md_IC = smf.mixedlm(\"high_IC_chosen ~ accent\", fc_IC_regression, groups=fc_IC_regression['subject'] )\n",
    "mdf_IC = md_IC.fit(method=[\"lbfgs\"])\n",
    "print(mdf_IC.summary())"
   ]
  },
  {
   "cell_type": "code",
   "execution_count": 11,
   "metadata": {},
   "outputs": [
    {
     "name": "stderr",
     "output_type": "stream",
     "text": [
      "/Users/cindyzhang/anaconda3/envs/musicIC2/lib/python3.10/site-packages/statsmodels/regression/mixed_linear_model.py:1635: UserWarning: Random effects covariance is singular\n",
      "  warnings.warn(msg)\n"
     ]
    },
    {
     "name": "stdout",
     "output_type": "stream",
     "text": [
      "              Mixed Linear Model Regression Results\n",
      "=================================================================\n",
      "Model:               MixedLM  Dependent Variable:  high_IC_chosen\n",
      "No. Observations:    1248     Method:              REML          \n",
      "No. Groups:          78       Scale:               0.2382        \n",
      "Min. group size:     16       Log-Likelihood:      -907.1326     \n",
      "Max. group size:     16       Converged:           Yes           \n",
      "Mean group size:     16.0                                        \n",
      "-----------------------------------------------------------------\n",
      "                        Coef. Std.Err.   z    P>|z| [0.025 0.975]\n",
      "-----------------------------------------------------------------\n",
      "Intercept               0.477    0.027 17.964 0.000  0.425  0.529\n",
      "C(musician)[T.1]        0.030    0.055  0.540 0.589 -0.078  0.138\n",
      "accent                  0.010    0.032  0.331 0.741 -0.051  0.072\n",
      "accent:C(musician)[T.1] 0.010    0.066  0.159 0.874 -0.118  0.139\n",
      "Group Var               0.013    0.009                           \n",
      "=================================================================\n",
      "\n"
     ]
    }
   ],
   "source": [
    "md_IC = smf.mixedlm(\"high_IC_chosen ~ accent + C(musician) + accent:C(musician)\", fc_IC_regression, groups=fc_IC_regression['subject'] )\n",
    "mdf_IC = md_IC.fit(method=[\"lbfgs\"])\n",
    "print(mdf_IC.summary())"
   ]
  },
  {
   "cell_type": "code",
   "execution_count": 12,
   "metadata": {},
   "outputs": [
    {
     "name": "stderr",
     "output_type": "stream",
     "text": [
      "/var/folders/18/hp_602x50x34x_4p_qjc80g40000gn/T/ipykernel_19907/4131296526.py:34: FutureWarning: \n",
      "\n",
      "Passing `palette` without assigning `hue` is deprecated and will be removed in v0.14.0. Assign the `x` variable to `hue` and set `legend=False` for the same effect.\n",
      "\n",
      "  sns.barplot(x='Predictor', y='Coefficient', data=data, palette=palette)\n"
     ]
    },
    {
     "data": {
      "image/png": "[encoded data removed]",
      "text/plain": [
       "<Figure size 1000x600 with 1 Axes>"
      ]
     },
     "metadata": {},
     "output_type": "display_data"
    }
   ],
   "source": [
    "plot_coefs(mdf_IC,\n",
    "           labels=['Intercept', 'Musician', 'Accent', 'Accent:Musician', 'Group Var'],\n",
    "           colors= ['Grey', 'Green', 'Goldenrod', 'Purple', 'Grey'])"
   ]
  },
  {
   "cell_type": "code",
   "execution_count": 13,
   "metadata": {},
   "outputs": [
    {
     "data": {
      "text/html": [
       "<div>\n",
       "<style scoped>\n",
       "    .dataframe tbody tr th:only-of-type {\n",
       "        vertical-align: middle;\n",
       "    }\n",
       "\n",
       "    .dataframe tbody tr th {\n",
       "        vertical-align: top;\n",
       "    }\n",
       "\n",
       "    .dataframe thead th {\n",
       "        text-align: right;\n",
       "    }\n",
       "</style>\n",
       "<table border=\"1\" class=\"dataframe\">\n",
       "  <thead>\n",
       "    <tr style=\"text-align: right;\">\n",
       "      <th></th>\n",
       "      <th>subject</th>\n",
       "      <th>condition</th>\n",
       "      <th>filename</th>\n",
       "      <th>sequence</th>\n",
       "      <th>accent_chosen</th>\n",
       "      <th>IC</th>\n",
       "      <th>target_pos</th>\n",
       "      <th>invU</th>\n",
       "      <th>U</th>\n",
       "      <th>asc</th>\n",
       "      <th>des</th>\n",
       "      <th>target_metric_2</th>\n",
       "      <th>target_metric_4</th>\n",
       "      <th>contour</th>\n",
       "      <th>musician</th>\n",
       "    </tr>\n",
       "  </thead>\n",
       "  <tbody>\n",
       "    <tr>\n",
       "      <th>0</th>\n",
       "      <td>dykydm</td>\n",
       "      <td>tonic Cs5</td>\n",
       "      <td>fc_accents_32_4.mp3</td>\n",
       "      <td>[1, 2, 6, 3, 2, 3, 1]</td>\n",
       "      <td>1</td>\n",
       "      <td>1.0</td>\n",
       "      <td>4</td>\n",
       "      <td>0</td>\n",
       "      <td>1</td>\n",
       "      <td>0</td>\n",
       "      <td>0</td>\n",
       "      <td>1</td>\n",
       "      <td>1</td>\n",
       "      <td>U</td>\n",
       "      <td>0</td>\n",
       "    </tr>\n",
       "    <tr>\n",
       "      <th>1</th>\n",
       "      <td>dykydm</td>\n",
       "      <td>tonic Cs5</td>\n",
       "      <td>fc_accents_34_1.mp3</td>\n",
       "      <td>[1, 2, 6, 3, 4, 5, 3, 1]</td>\n",
       "      <td>1</td>\n",
       "      <td>0.0</td>\n",
       "      <td>4</td>\n",
       "      <td>0</td>\n",
       "      <td>0</td>\n",
       "      <td>1</td>\n",
       "      <td>0</td>\n",
       "      <td>1</td>\n",
       "      <td>1</td>\n",
       "      <td>asc</td>\n",
       "      <td>0</td>\n",
       "    </tr>\n",
       "    <tr>\n",
       "      <th>2</th>\n",
       "      <td>dykydm</td>\n",
       "      <td>tonic Cs5</td>\n",
       "      <td>fc_accents_54_2.mp3</td>\n",
       "      <td>[1, 2, 6, 5, 4, 5, 3, 1]</td>\n",
       "      <td>0</td>\n",
       "      <td>0.0</td>\n",
       "      <td>4</td>\n",
       "      <td>0</td>\n",
       "      <td>1</td>\n",
       "      <td>0</td>\n",
       "      <td>0</td>\n",
       "      <td>1</td>\n",
       "      <td>1</td>\n",
       "      <td>U</td>\n",
       "      <td>0</td>\n",
       "    </tr>\n",
       "    <tr>\n",
       "      <th>3</th>\n",
       "      <td>dykydm</td>\n",
       "      <td>tonic Cs5</td>\n",
       "      <td>fc_accents_56_2.mp3</td>\n",
       "      <td>[1, 2, 6, 5, 6, 5, 3, 1]</td>\n",
       "      <td>0</td>\n",
       "      <td>1.0</td>\n",
       "      <td>4</td>\n",
       "      <td>1</td>\n",
       "      <td>0</td>\n",
       "      <td>0</td>\n",
       "      <td>0</td>\n",
       "      <td>1</td>\n",
       "      <td>1</td>\n",
       "      <td>inv-U</td>\n",
       "      <td>0</td>\n",
       "    </tr>\n",
       "    <tr>\n",
       "      <th>4</th>\n",
       "      <td>dykydm</td>\n",
       "      <td>tonic Cs5</td>\n",
       "      <td>fc_accents_56_4.mp3</td>\n",
       "      <td>[1, 2, 6, 5, 6, 5, 3, 1]</td>\n",
       "      <td>0</td>\n",
       "      <td>1.0</td>\n",
       "      <td>4</td>\n",
       "      <td>1</td>\n",
       "      <td>0</td>\n",
       "      <td>0</td>\n",
       "      <td>0</td>\n",
       "      <td>1</td>\n",
       "      <td>1</td>\n",
       "      <td>inv-U</td>\n",
       "      <td>0</td>\n",
       "    </tr>\n",
       "    <tr>\n",
       "      <th>...</th>\n",
       "      <td>...</td>\n",
       "      <td>...</td>\n",
       "      <td>...</td>\n",
       "      <td>...</td>\n",
       "      <td>...</td>\n",
       "      <td>...</td>\n",
       "      <td>...</td>\n",
       "      <td>...</td>\n",
       "      <td>...</td>\n",
       "      <td>...</td>\n",
       "      <td>...</td>\n",
       "      <td>...</td>\n",
       "      <td>...</td>\n",
       "      <td>...</td>\n",
       "      <td>...</td>\n",
       "    </tr>\n",
       "    <tr>\n",
       "      <th>1243</th>\n",
       "      <td>mesgdu</td>\n",
       "      <td>tonic E5</td>\n",
       "      <td>fc_accents_34_1.mp3</td>\n",
       "      <td>[1, 2, 6, 3, 4, 5, 3, 1]</td>\n",
       "      <td>0</td>\n",
       "      <td>0.0</td>\n",
       "      <td>4</td>\n",
       "      <td>0</td>\n",
       "      <td>0</td>\n",
       "      <td>1</td>\n",
       "      <td>0</td>\n",
       "      <td>1</td>\n",
       "      <td>1</td>\n",
       "      <td>asc</td>\n",
       "      <td>0</td>\n",
       "    </tr>\n",
       "    <tr>\n",
       "      <th>1244</th>\n",
       "      <td>mesgdu</td>\n",
       "      <td>tonic E5</td>\n",
       "      <td>fc_accents_32_2.mp3</td>\n",
       "      <td>[1, 2, 6, 3, 2, 3, 1]</td>\n",
       "      <td>0</td>\n",
       "      <td>1.0</td>\n",
       "      <td>4</td>\n",
       "      <td>0</td>\n",
       "      <td>1</td>\n",
       "      <td>0</td>\n",
       "      <td>0</td>\n",
       "      <td>1</td>\n",
       "      <td>1</td>\n",
       "      <td>U</td>\n",
       "      <td>0</td>\n",
       "    </tr>\n",
       "    <tr>\n",
       "      <th>1245</th>\n",
       "      <td>mesgdu</td>\n",
       "      <td>tonic E5</td>\n",
       "      <td>fc_accents_56_2.mp3</td>\n",
       "      <td>[1, 2, 6, 5, 6, 3, 1]</td>\n",
       "      <td>0</td>\n",
       "      <td>1.0</td>\n",
       "      <td>4</td>\n",
       "      <td>1</td>\n",
       "      <td>0</td>\n",
       "      <td>0</td>\n",
       "      <td>0</td>\n",
       "      <td>1</td>\n",
       "      <td>1</td>\n",
       "      <td>inv-U</td>\n",
       "      <td>0</td>\n",
       "    </tr>\n",
       "    <tr>\n",
       "      <th>1246</th>\n",
       "      <td>mesgdu</td>\n",
       "      <td>tonic E5</td>\n",
       "      <td>fc_accents_56_1.mp3</td>\n",
       "      <td>[1, 2, 6, 5, 6, 5, 3, 1]</td>\n",
       "      <td>0</td>\n",
       "      <td>1.0</td>\n",
       "      <td>4</td>\n",
       "      <td>1</td>\n",
       "      <td>0</td>\n",
       "      <td>0</td>\n",
       "      <td>0</td>\n",
       "      <td>1</td>\n",
       "      <td>1</td>\n",
       "      <td>inv-U</td>\n",
       "      <td>0</td>\n",
       "    </tr>\n",
       "    <tr>\n",
       "      <th>1247</th>\n",
       "      <td>mesgdu</td>\n",
       "      <td>tonic E5</td>\n",
       "      <td>fc_accents_34_4.mp3</td>\n",
       "      <td>[1, 2, 6, 3, 4, 5, 3, 1]</td>\n",
       "      <td>1</td>\n",
       "      <td>0.0</td>\n",
       "      <td>4</td>\n",
       "      <td>0</td>\n",
       "      <td>0</td>\n",
       "      <td>1</td>\n",
       "      <td>0</td>\n",
       "      <td>1</td>\n",
       "      <td>1</td>\n",
       "      <td>asc</td>\n",
       "      <td>0</td>\n",
       "    </tr>\n",
       "  </tbody>\n",
       "</table>\n",
       "<p>1248 rows × 15 columns</p>\n",
       "</div>"
      ],
      "text/plain": [
       "     subject  condition             filename                  sequence  \\\n",
       "0     dykydm  tonic Cs5  fc_accents_32_4.mp3     [1, 2, 6, 3, 2, 3, 1]   \n",
       "1     dykydm  tonic Cs5  fc_accents_34_1.mp3  [1, 2, 6, 3, 4, 5, 3, 1]   \n",
       "2     dykydm  tonic Cs5  fc_accents_54_2.mp3  [1, 2, 6, 5, 4, 5, 3, 1]   \n",
       "3     dykydm  tonic Cs5  fc_accents_56_2.mp3  [1, 2, 6, 5, 6, 5, 3, 1]   \n",
       "4     dykydm  tonic Cs5  fc_accents_56_4.mp3  [1, 2, 6, 5, 6, 5, 3, 1]   \n",
       "...      ...        ...                  ...                       ...   \n",
       "1243  mesgdu   tonic E5  fc_accents_34_1.mp3  [1, 2, 6, 3, 4, 5, 3, 1]   \n",
       "1244  mesgdu   tonic E5  fc_accents_32_2.mp3     [1, 2, 6, 3, 2, 3, 1]   \n",
       "1245  mesgdu   tonic E5  fc_accents_56_2.mp3     [1, 2, 6, 5, 6, 3, 1]   \n",
       "1246  mesgdu   tonic E5  fc_accents_56_1.mp3  [1, 2, 6, 5, 6, 5, 3, 1]   \n",
       "1247  mesgdu   tonic E5  fc_accents_34_4.mp3  [1, 2, 6, 3, 4, 5, 3, 1]   \n",
       "\n",
       "      accent_chosen   IC  target_pos  invU  U  asc  des  target_metric_2  \\\n",
       "0                 1  1.0           4     0  1    0    0                1   \n",
       "1                 1  0.0           4     0  0    1    0                1   \n",
       "2                 0  0.0           4     0  1    0    0                1   \n",
       "3                 0  1.0           4     1  0    0    0                1   \n",
       "4                 0  1.0           4     1  0    0    0                1   \n",
       "...             ...  ...         ...   ... ..  ...  ...              ...   \n",
       "1243              0  0.0           4     0  0    1    0                1   \n",
       "1244              0  1.0           4     0  1    0    0                1   \n",
       "1245              0  1.0           4     1  0    0    0                1   \n",
       "1246              0  1.0           4     1  0    0    0                1   \n",
       "1247              1  0.0           4     0  0    1    0                1   \n",
       "\n",
       "      target_metric_4 contour  musician  \n",
       "0                   1       U         0  \n",
       "1                   1     asc         0  \n",
       "2                   1       U         0  \n",
       "3                   1   inv-U         0  \n",
       "4                   1   inv-U         0  \n",
       "...               ...     ...       ...  \n",
       "1243                1     asc         0  \n",
       "1244                1       U         0  \n",
       "1245                1   inv-U         0  \n",
       "1246                1   inv-U         0  \n",
       "1247                1     asc         0  \n",
       "\n",
       "[1248 rows x 15 columns]"
      ]
     },
     "execution_count": 13,
     "metadata": {},
     "output_type": "execute_result"
    }
   ],
   "source": []
  },
  {
   "cell_type": "code",
   "execution_count": 14,
   "metadata": {},
   "outputs": [
    {
     "name": "stdout",
     "output_type": "stream",
     "text": [
      "            Mixed Linear Model Regression Results\n",
      "==============================================================\n",
      "Model:             MixedLM  Dependent Variable:  accent_chosen\n",
      "No. Observations:  1248     Method:              REML         \n",
      "No. Groups:        78       Scale:               0.1839       \n",
      "Min. group size:   16       Log-Likelihood:      -797.6240    \n",
      "Max. group size:   16       Converged:           Yes          \n",
      "Mean group size:   16.0                                       \n",
      "--------------------------------------------------------------\n",
      "                    Coef.  Std.Err.   z    P>|z| [0.025 0.975]\n",
      "--------------------------------------------------------------\n",
      "Intercept            0.389    0.043  9.026 0.000  0.304  0.473\n",
      "C(musician)[T.1]     0.019    0.077  0.249 0.804 -0.132  0.170\n",
      "C(contour)[T.asc]    0.015    0.042  0.366 0.714 -0.066  0.097\n",
      "C(contour)[T.des]    0.005    0.047  0.100 0.921 -0.088  0.098\n",
      "C(contour)[T.inv-U]  0.098    0.029  3.412 0.001  0.042  0.154\n",
      "IC                  -0.042    0.034 -1.233 0.218 -0.108  0.024\n",
      "IC:C(musician)[T.1]  0.029    0.058  0.511 0.610 -0.084  0.142\n",
      "Group Var            0.059    0.028                           \n",
      "==============================================================\n",
      "\n"
     ]
    },
    {
     "name": "stderr",
     "output_type": "stream",
     "text": [
      "/Users/cindyzhang/anaconda3/envs/musicIC2/lib/python3.10/site-packages/statsmodels/regression/mixed_linear_model.py:1635: UserWarning: Random effects covariance is singular\n",
      "  warnings.warn(msg)\n"
     ]
    }
   ],
   "source": [
    "md_accent_mus = smf.mixedlm(\"accent_chosen ~ IC + C(musician) + C(contour) + IC:C(musician)\", fc_accent_regression, groups=fc_accent_regression['subject'])\n",
    "mdf_accent_mus = md_accent_mus.fit(method=[\"lbfgs\"])\n",
    "print(mdf_accent_mus.summary())"
   ]
  },
  {
   "cell_type": "markdown",
   "metadata": {},
   "source": [
    "### Additional analyses"
   ]
  },
  {
   "cell_type": "markdown",
   "metadata": {},
   "source": [
    "Did any melodies receive high ratings independent of grammaticality?"
   ]
  },
  {
   "cell_type": "code",
   "execution_count": 15,
   "metadata": {},
   "outputs": [],
   "source": [
    "df_learning = pd.read_csv('grammar_learning.csv')"
   ]
  },
  {
   "cell_type": "code",
   "execution_count": 28,
   "metadata": {},
   "outputs": [
    {
     "name": "stdout",
     "output_type": "stream",
     "text": [
      "                 Mixed Linear Model Regression Results\n",
      "=======================================================================\n",
      "Model:                 MixedLM      Dependent Variable:      response  \n",
      "No. Observations:      1248         Method:                  REML      \n",
      "No. Groups:            16           Scale:                   2.2407    \n",
      "Min. group size:       78           Log-Likelihood:          -2281.4596\n",
      "Max. group size:       78           Converged:               Yes       \n",
      "Mean group size:       78.0                                            \n",
      "-----------------------------------------------------------------------\n",
      "                              Coef. Std.Err.   z    P>|z| [0.025 0.975]\n",
      "-----------------------------------------------------------------------\n",
      "Intercept                     4.066    0.082 49.568 0.000  3.905  4.226\n",
      "grammaticality[T.grammatical] 1.540    0.116 13.277 0.000  1.313  1.767\n",
      "Group Var                     0.025    0.014                           \n",
      "=======================================================================\n",
      "\n"
     ]
    },
    {
     "name": "stderr",
     "output_type": "stream",
     "text": [
      "/Users/cindyzhang/anaconda3/envs/musicIC2/lib/python3.10/site-packages/statsmodels/regression/mixed_linear_model.py:1635: UserWarning: Random effects covariance is singular\n",
      "  warnings.warn(msg)\n"
     ]
    }
   ],
   "source": [
    "md_grammar = smf.mixedlm(\"response ~ grammaticality\", df_learning, groups=df_learning['filename'])\n",
    "mdf_grammar = md_grammar.fit(method=[\"lbfgs\"])\n",
    "print(mdf_grammar.summary())"
   ]
  }
 ],
 "metadata": {
  "kernelspec": {
   "display_name": "musicIC2",
   "language": "python",
   "name": "python3"
  },
  "language_info": {
   "codemirror_mode": {
    "name": "ipython",
    "version": 3
   },
   "file_extension": ".py",
   "mimetype": "text/x-python",
   "name": "python",
   "nbconvert_exporter": "python",
   "pygments_lexer": "ipython3",
   "version": "3.10.13"
  },
  "orig_nbformat": 4
 },
 "nbformat": 4,
 "nbformat_minor": 2
}
